{
  "nbformat": 4,
  "nbformat_minor": 5,
  "metadata": {
    "kernelspec": {
      "display_name": "Python 3",
      "language": "python",
      "name": "python3"
    },
    "language_info": {
      "codemirror_mode": {
        "name": "ipython",
        "version": 3
      },
      "file_extension": ".py",
      "mimetype": "text/x-python",
      "name": "python",
      "nbconvert_exporter": "python",
      "pygments_lexer": "ipython3",
      "version": "3.8.8"
    },
    "colab": {
      "name": "Week 4 - Pandas introduction, database operations, data cleaning.ipynb",
      "provenance": [],
      "collapsed_sections": []
    }
  },
  "cells": [
    {
      "cell_type": "markdown",
      "metadata": {
        "id": "1db74b1c"
      },
      "source": [
        "# Python for Data Science\n",
        "\n",
        "## Lecture 4: Pandas"
      ],
      "id": "1db74b1c"
    },
    {
      "cell_type": "code",
      "metadata": {
        "colab": {
          "base_uri": "https://localhost:8080/"
        },
        "id": "d4N1UKDSdWL2",
        "outputId": "572533ba-08d7-4662-aee8-b067944fc472"
      },
      "source": [
        "from google.colab import drive\n",
        "drive.mount('/content/drive')"
      ],
      "id": "d4N1UKDSdWL2",
      "execution_count": 2,
      "outputs": [
        {
          "output_type": "stream",
          "name": "stdout",
          "text": [
            "Mounted at /content/drive\n"
          ]
        }
      ]
    },
    {
      "cell_type": "code",
      "metadata": {
        "colab": {
          "base_uri": "https://localhost:8080/"
        },
        "id": "vDcmx2JAd-a0",
        "outputId": "70187bb8-34f6-4d7d-d5c2-db588d2c468e"
      },
      "source": [
        "cd '/content/drive/MyDrive/Colab Notebooks'"
      ],
      "id": "vDcmx2JAd-a0",
      "execution_count": 3,
      "outputs": [
        {
          "output_type": "stream",
          "name": "stdout",
          "text": [
            "/content/drive/MyDrive/Colab Notebooks\n"
          ]
        }
      ]
    },
    {
      "cell_type": "code",
      "metadata": {
        "id": "funny-static"
      },
      "source": [
        "import pandas as pd\n",
        "import numpy as np"
      ],
      "id": "funny-static",
      "execution_count": 28,
      "outputs": []
    },
    {
      "cell_type": "markdown",
      "metadata": {
        "id": "XY5g4lO2dCTb"
      },
      "source": [
        "### Series and DataFrames"
      ],
      "id": "XY5g4lO2dCTb"
    },
    {
      "cell_type": "code",
      "metadata": {
        "id": "spiritual-september"
      },
      "source": [
        "data = {\n",
        "    'apples': [3, 2, 0, 1], \n",
        "    'oranges': [0, 3, 7, 2]\n",
        "}"
      ],
      "id": "spiritual-september",
      "execution_count": null,
      "outputs": []
    },
    {
      "cell_type": "code",
      "metadata": {
        "id": "regular-ballot",
        "outputId": "cdc9ab69-d709-49da-f6ee-4e414b709b75"
      },
      "source": [
        "purchases = pd.DataFrame(data)\n",
        "purchases"
      ],
      "id": "regular-ballot",
      "execution_count": null,
      "outputs": [
        {
          "data": {
            "text/html": [
              "<div>\n",
              "<style scoped>\n",
              "    .dataframe tbody tr th:only-of-type {\n",
              "        vertical-align: middle;\n",
              "    }\n",
              "\n",
              "    .dataframe tbody tr th {\n",
              "        vertical-align: top;\n",
              "    }\n",
              "\n",
              "    .dataframe thead th {\n",
              "        text-align: right;\n",
              "    }\n",
              "</style>\n",
              "<table border=\"1\" class=\"dataframe\">\n",
              "  <thead>\n",
              "    <tr style=\"text-align: right;\">\n",
              "      <th></th>\n",
              "      <th>apples</th>\n",
              "      <th>oranges</th>\n",
              "    </tr>\n",
              "  </thead>\n",
              "  <tbody>\n",
              "    <tr>\n",
              "      <th>0</th>\n",
              "      <td>3</td>\n",
              "      <td>0</td>\n",
              "    </tr>\n",
              "    <tr>\n",
              "      <th>1</th>\n",
              "      <td>2</td>\n",
              "      <td>3</td>\n",
              "    </tr>\n",
              "    <tr>\n",
              "      <th>2</th>\n",
              "      <td>0</td>\n",
              "      <td>7</td>\n",
              "    </tr>\n",
              "    <tr>\n",
              "      <th>3</th>\n",
              "      <td>1</td>\n",
              "      <td>2</td>\n",
              "    </tr>\n",
              "  </tbody>\n",
              "</table>\n",
              "</div>"
            ],
            "text/plain": [
              "   apples  oranges\n",
              "0       3        0\n",
              "1       2        3\n",
              "2       0        7\n",
              "3       1        2"
            ]
          },
          "execution_count": 5,
          "metadata": {},
          "output_type": "execute_result"
        }
      ]
    },
    {
      "cell_type": "markdown",
      "metadata": {
        "id": "fcSQvDO0eM4w"
      },
      "source": [
        "Indexing"
      ],
      "id": "fcSQvDO0eM4w"
    },
    {
      "cell_type": "code",
      "metadata": {
        "id": "overhead-aquarium",
        "outputId": "a9ff206d-4b97-4d34-9325-0fbcad747d46"
      },
      "source": [
        "purchases = pd.DataFrame(data, index=['June', 'Robert', 'Lily', 'David'])\n",
        "purchases"
      ],
      "id": "overhead-aquarium",
      "execution_count": null,
      "outputs": [
        {
          "data": {
            "text/html": [
              "<div>\n",
              "<style scoped>\n",
              "    .dataframe tbody tr th:only-of-type {\n",
              "        vertical-align: middle;\n",
              "    }\n",
              "\n",
              "    .dataframe tbody tr th {\n",
              "        vertical-align: top;\n",
              "    }\n",
              "\n",
              "    .dataframe thead th {\n",
              "        text-align: right;\n",
              "    }\n",
              "</style>\n",
              "<table border=\"1\" class=\"dataframe\">\n",
              "  <thead>\n",
              "    <tr style=\"text-align: right;\">\n",
              "      <th></th>\n",
              "      <th>apples</th>\n",
              "      <th>oranges</th>\n",
              "    </tr>\n",
              "  </thead>\n",
              "  <tbody>\n",
              "    <tr>\n",
              "      <th>June</th>\n",
              "      <td>3</td>\n",
              "      <td>0</td>\n",
              "    </tr>\n",
              "    <tr>\n",
              "      <th>Robert</th>\n",
              "      <td>2</td>\n",
              "      <td>3</td>\n",
              "    </tr>\n",
              "    <tr>\n",
              "      <th>Lily</th>\n",
              "      <td>0</td>\n",
              "      <td>7</td>\n",
              "    </tr>\n",
              "    <tr>\n",
              "      <th>David</th>\n",
              "      <td>1</td>\n",
              "      <td>2</td>\n",
              "    </tr>\n",
              "  </tbody>\n",
              "</table>\n",
              "</div>"
            ],
            "text/plain": [
              "        apples  oranges\n",
              "June         3        0\n",
              "Robert       2        3\n",
              "Lily         0        7\n",
              "David        1        2"
            ]
          },
          "execution_count": 6,
          "metadata": {},
          "output_type": "execute_result"
        }
      ]
    },
    {
      "cell_type": "markdown",
      "metadata": {
        "id": "PSuYcqRSeX3h"
      },
      "source": [
        "Locating by index"
      ],
      "id": "PSuYcqRSeX3h"
    },
    {
      "cell_type": "code",
      "metadata": {
        "id": "cleared-anatomy",
        "outputId": "591a55b6-7f7a-410b-9fba-be0309dc6ddc"
      },
      "source": [
        "purchases.loc['June']"
      ],
      "id": "cleared-anatomy",
      "execution_count": null,
      "outputs": [
        {
          "data": {
            "text/plain": [
              "apples     3\n",
              "oranges    0\n",
              "Name: June, dtype: int64"
            ]
          },
          "execution_count": 7,
          "metadata": {},
          "output_type": "execute_result"
        }
      ]
    },
    {
      "cell_type": "markdown",
      "metadata": {
        "id": "RL8wEBKxeh31"
      },
      "source": [
        "Reading from a csv file"
      ],
      "id": "RL8wEBKxeh31"
    },
    {
      "cell_type": "code",
      "metadata": {
        "colab": {
          "base_uri": "https://localhost:8080/",
          "height": 411
        },
        "id": "beautiful-situation",
        "outputId": "fd444d63-4da6-442f-f2a7-76d111c26538"
      },
      "source": [
        "df = pd.read_csv(\"IMDB-Movie-Data.csv\", index_col=\"Title\")\n",
        "df.head()"
      ],
      "id": "beautiful-situation",
      "execution_count": 23,
      "outputs": [
        {
          "output_type": "execute_result",
          "data": {
            "text/html": [
              "<div>\n",
              "<style scoped>\n",
              "    .dataframe tbody tr th:only-of-type {\n",
              "        vertical-align: middle;\n",
              "    }\n",
              "\n",
              "    .dataframe tbody tr th {\n",
              "        vertical-align: top;\n",
              "    }\n",
              "\n",
              "    .dataframe thead th {\n",
              "        text-align: right;\n",
              "    }\n",
              "</style>\n",
              "<table border=\"1\" class=\"dataframe\">\n",
              "  <thead>\n",
              "    <tr style=\"text-align: right;\">\n",
              "      <th></th>\n",
              "      <th>Rank</th>\n",
              "      <th>Genre</th>\n",
              "      <th>Description</th>\n",
              "      <th>Director</th>\n",
              "      <th>Actors</th>\n",
              "      <th>Year</th>\n",
              "      <th>Runtime (Minutes)</th>\n",
              "      <th>Rating</th>\n",
              "      <th>Votes</th>\n",
              "      <th>Revenue (Millions)</th>\n",
              "      <th>Metascore</th>\n",
              "    </tr>\n",
              "    <tr>\n",
              "      <th>Title</th>\n",
              "      <th></th>\n",
              "      <th></th>\n",
              "      <th></th>\n",
              "      <th></th>\n",
              "      <th></th>\n",
              "      <th></th>\n",
              "      <th></th>\n",
              "      <th></th>\n",
              "      <th></th>\n",
              "      <th></th>\n",
              "      <th></th>\n",
              "    </tr>\n",
              "  </thead>\n",
              "  <tbody>\n",
              "    <tr>\n",
              "      <th>Guardians of the Galaxy</th>\n",
              "      <td>1</td>\n",
              "      <td>Action,Adventure,Sci-Fi</td>\n",
              "      <td>A group of intergalactic criminals are forced ...</td>\n",
              "      <td>James Gunn</td>\n",
              "      <td>Chris Pratt, Vin Diesel, Bradley Cooper, Zoe S...</td>\n",
              "      <td>2014</td>\n",
              "      <td>121</td>\n",
              "      <td>8.1</td>\n",
              "      <td>757074</td>\n",
              "      <td>333.13</td>\n",
              "      <td>76.0</td>\n",
              "    </tr>\n",
              "    <tr>\n",
              "      <th>Prometheus</th>\n",
              "      <td>2</td>\n",
              "      <td>Adventure,Mystery,Sci-Fi</td>\n",
              "      <td>Following clues to the origin of mankind, a te...</td>\n",
              "      <td>Ridley Scott</td>\n",
              "      <td>Noomi Rapace, Logan Marshall-Green, Michael Fa...</td>\n",
              "      <td>2012</td>\n",
              "      <td>124</td>\n",
              "      <td>7.0</td>\n",
              "      <td>485820</td>\n",
              "      <td>126.46</td>\n",
              "      <td>65.0</td>\n",
              "    </tr>\n",
              "    <tr>\n",
              "      <th>Split</th>\n",
              "      <td>3</td>\n",
              "      <td>Horror,Thriller</td>\n",
              "      <td>Three girls are kidnapped by a man with a diag...</td>\n",
              "      <td>M. Night Shyamalan</td>\n",
              "      <td>James McAvoy, Anya Taylor-Joy, Haley Lu Richar...</td>\n",
              "      <td>2016</td>\n",
              "      <td>117</td>\n",
              "      <td>7.3</td>\n",
              "      <td>157606</td>\n",
              "      <td>138.12</td>\n",
              "      <td>62.0</td>\n",
              "    </tr>\n",
              "    <tr>\n",
              "      <th>Sing</th>\n",
              "      <td>4</td>\n",
              "      <td>Animation,Comedy,Family</td>\n",
              "      <td>In a city of humanoid animals, a hustling thea...</td>\n",
              "      <td>Christophe Lourdelet</td>\n",
              "      <td>Matthew McConaughey,Reese Witherspoon, Seth Ma...</td>\n",
              "      <td>2016</td>\n",
              "      <td>108</td>\n",
              "      <td>7.2</td>\n",
              "      <td>60545</td>\n",
              "      <td>270.32</td>\n",
              "      <td>59.0</td>\n",
              "    </tr>\n",
              "    <tr>\n",
              "      <th>Suicide Squad</th>\n",
              "      <td>5</td>\n",
              "      <td>Action,Adventure,Fantasy</td>\n",
              "      <td>A secret government agency recruits some of th...</td>\n",
              "      <td>David Ayer</td>\n",
              "      <td>Will Smith, Jared Leto, Margot Robbie, Viola D...</td>\n",
              "      <td>2016</td>\n",
              "      <td>123</td>\n",
              "      <td>6.2</td>\n",
              "      <td>393727</td>\n",
              "      <td>325.02</td>\n",
              "      <td>40.0</td>\n",
              "    </tr>\n",
              "  </tbody>\n",
              "</table>\n",
              "</div>"
            ],
            "text/plain": [
              "                         Rank  ... Metascore\n",
              "Title                          ...          \n",
              "Guardians of the Galaxy     1  ...      76.0\n",
              "Prometheus                  2  ...      65.0\n",
              "Split                       3  ...      62.0\n",
              "Sing                        4  ...      59.0\n",
              "Suicide Squad               5  ...      40.0\n",
              "\n",
              "[5 rows x 11 columns]"
            ]
          },
          "metadata": {},
          "execution_count": 23
        }
      ]
    },
    {
      "cell_type": "markdown",
      "metadata": {
        "id": "MicZzoNCfD0c"
      },
      "source": [
        "Getting information about the data"
      ],
      "id": "MicZzoNCfD0c"
    },
    {
      "cell_type": "code",
      "metadata": {
        "colab": {
          "base_uri": "https://localhost:8080/"
        },
        "id": "respiratory-california",
        "outputId": "ef3236e3-7bd2-4aa2-a531-df4504d22b98"
      },
      "source": [
        "df.info()\n",
        "df.shape"
      ],
      "id": "respiratory-california",
      "execution_count": 29,
      "outputs": [
        {
          "output_type": "stream",
          "name": "stdout",
          "text": [
            "<class 'pandas.core.frame.DataFrame'>\n",
            "Index: 1000 entries, Guardians of the Galaxy to Nine Lives\n",
            "Data columns (total 11 columns):\n",
            " #   Column              Non-Null Count  Dtype  \n",
            "---  ------              --------------  -----  \n",
            " 0   Rank                1000 non-null   int64  \n",
            " 1   Genre               1000 non-null   object \n",
            " 2   Description         1000 non-null   object \n",
            " 3   Director            1000 non-null   object \n",
            " 4   Actors              1000 non-null   object \n",
            " 5   Year                1000 non-null   int64  \n",
            " 6   Runtime (Minutes)   1000 non-null   int64  \n",
            " 7   Rating              1000 non-null   float64\n",
            " 8   Votes               1000 non-null   int64  \n",
            " 9   Revenue (Millions)  872 non-null    float64\n",
            " 10  Metascore           936 non-null    float64\n",
            "dtypes: float64(3), int64(4), object(4)\n",
            "memory usage: 93.8+ KB\n"
          ]
        },
        {
          "output_type": "execute_result",
          "data": {
            "text/plain": [
              "(1000, 11)"
            ]
          },
          "metadata": {},
          "execution_count": 29
        }
      ]
    },
    {
      "cell_type": "markdown",
      "metadata": {
        "id": "T_por6CofV0n"
      },
      "source": [
        "### Handling duplications"
      ],
      "id": "T_por6CofV0n"
    },
    {
      "cell_type": "markdown",
      "metadata": {
        "id": "Ax5678JQffkq"
      },
      "source": [
        "Creating duplications"
      ],
      "id": "Ax5678JQffkq"
    },
    {
      "cell_type": "code",
      "metadata": {
        "colab": {
          "base_uri": "https://localhost:8080/"
        },
        "id": "ruled-province",
        "outputId": "4fa4cdb1-fd0d-44f5-82ea-b725c72f3a94"
      },
      "source": [
        "temp_df = df.append(df)\n",
        "\n",
        "temp_df.shape"
      ],
      "id": "ruled-province",
      "execution_count": 24,
      "outputs": [
        {
          "output_type": "execute_result",
          "data": {
            "text/plain": [
              "(2000, 11)"
            ]
          },
          "metadata": {},
          "execution_count": 24
        }
      ]
    },
    {
      "cell_type": "markdown",
      "metadata": {
        "id": "yPC_bIVgfnWb"
      },
      "source": [
        "Removing duplications"
      ],
      "id": "yPC_bIVgfnWb"
    },
    {
      "cell_type": "code",
      "metadata": {
        "colab": {
          "base_uri": "https://localhost:8080/"
        },
        "id": "integrated-tuition",
        "outputId": "0b27e32b-d537-4f41-d67c-bd9d785b51d5"
      },
      "source": [
        "temp_df = temp_df.drop_duplicates()\n",
        "\n",
        "print(temp_df.shape)\n",
        "\n",
        "temp_df.drop_duplicates(inplace=True)"
      ],
      "id": "integrated-tuition",
      "execution_count": 34,
      "outputs": [
        {
          "output_type": "stream",
          "name": "stdout",
          "text": [
            "(1000, 11)\n"
          ]
        }
      ]
    },
    {
      "cell_type": "markdown",
      "metadata": {
        "id": "17JTjD7AfyC1"
      },
      "source": [
        "Keep method"
      ],
      "id": "17JTjD7AfyC1"
    },
    {
      "cell_type": "code",
      "metadata": {
        "colab": {
          "base_uri": "https://localhost:8080/"
        },
        "id": "handed-crawford",
        "outputId": "95a079bf-daf5-421e-a9f4-a4b24655fb78"
      },
      "source": [
        "temp_df = df.append(df)  # make a new copy\n",
        "\n",
        "temp_df.drop_duplicates(inplace=True, keep=False) #first, last\n",
        "\n",
        "temp_df.shape"
      ],
      "id": "handed-crawford",
      "execution_count": 38,
      "outputs": [
        {
          "output_type": "execute_result",
          "data": {
            "text/plain": [
              "(0, 11)"
            ]
          },
          "metadata": {},
          "execution_count": 38
        }
      ]
    },
    {
      "cell_type": "markdown",
      "metadata": {
        "id": "icPMYwUTgWC3"
      },
      "source": [
        "###Column cleaning"
      ],
      "id": "icPMYwUTgWC3"
    },
    {
      "cell_type": "code",
      "metadata": {
        "id": "strange-sandwich",
        "outputId": "e54cf4d1-6bba-4bd3-bc72-b65d2c01cb70"
      },
      "source": [
        "df.columns"
      ],
      "id": "strange-sandwich",
      "execution_count": null,
      "outputs": [
        {
          "data": {
            "text/plain": [
              "Index(['Rank', 'Genre', 'Description', 'Director', 'Actors', 'Year',\n",
              "       'Runtime (Minutes)', 'Rating', 'Votes', 'Revenue (Millions)',\n",
              "       'Metascore'],\n",
              "      dtype='object')"
            ]
          },
          "execution_count": 36,
          "metadata": {},
          "output_type": "execute_result"
        }
      ]
    },
    {
      "cell_type": "code",
      "metadata": {
        "id": "civil-context",
        "outputId": "1e566baa-a584-4a6c-da28-08a2e9d8ef72"
      },
      "source": [
        "df.rename(columns={\n",
        "        'Runtime (Minutes)': 'Runtime', \n",
        "        'Revenue (Millions)': 'Revenue'\n",
        "    }, inplace=True)\n",
        "\n",
        "df.columns"
      ],
      "id": "civil-context",
      "execution_count": null,
      "outputs": [
        {
          "data": {
            "text/plain": [
              "Index(['Rank', 'Genre', 'Description', 'Director', 'Actors', 'Year', 'Runtime',\n",
              "       'Rating', 'Votes', 'Revenue', 'Metascore'],\n",
              "      dtype='object')"
            ]
          },
          "execution_count": 37,
          "metadata": {},
          "output_type": "execute_result"
        }
      ]
    },
    {
      "cell_type": "markdown",
      "metadata": {
        "id": "WbBovv_Vgp73"
      },
      "source": [
        "Lowercasing"
      ],
      "id": "WbBovv_Vgp73"
    },
    {
      "cell_type": "code",
      "metadata": {
        "id": "micro-synthetic",
        "outputId": "6a02f02a-7109-4626-c28b-bfb8fc6bcab5"
      },
      "source": [
        "df.columns = ['rank', 'genre', 'description', 'director', 'actors', 'year',\n",
        "       'runtime', 'rating', 'votes', 'revenue',\n",
        "       'metascore']\n",
        "\n",
        "df.columns"
      ],
      "id": "micro-synthetic",
      "execution_count": null,
      "outputs": [
        {
          "data": {
            "text/plain": [
              "Index(['rank', 'genre', 'description', 'director', 'actors', 'year', 'runtime',\n",
              "       'rating', 'votes', 'revenue', 'metascore'],\n",
              "      dtype='object')"
            ]
          },
          "execution_count": 38,
          "metadata": {},
          "output_type": "execute_result"
        }
      ]
    },
    {
      "cell_type": "markdown",
      "metadata": {
        "id": "vEv98Oyjgw2x"
      },
      "source": [
        "Quicker method of lowercasing"
      ],
      "id": "vEv98Oyjgw2x"
    },
    {
      "cell_type": "code",
      "metadata": {
        "id": "authentic-syndication",
        "outputId": "230b035c-4d58-4d94-e71d-a4daccf3dbe4"
      },
      "source": [
        "\n",
        "\n",
        "df.columns = [col.lower() for col in df]\n",
        "df.columns"
      ],
      "id": "authentic-syndication",
      "execution_count": null,
      "outputs": [
        {
          "data": {
            "text/plain": [
              "Index(['rank', 'genre', 'description', 'director', 'actors', 'year', 'runtime',\n",
              "       'rating', 'votes', 'revenue', 'metascore'],\n",
              "      dtype='object')"
            ]
          },
          "execution_count": 39,
          "metadata": {},
          "output_type": "execute_result"
        }
      ]
    },
    {
      "cell_type": "markdown",
      "metadata": {
        "id": "5YulorfDg5Dt"
      },
      "source": [
        "### Handling missing values"
      ],
      "id": "5YulorfDg5Dt"
    },
    {
      "cell_type": "code",
      "metadata": {
        "id": "treated-asset",
        "outputId": "72f8fde4-f22b-4282-f9ea-647ee1f2d520"
      },
      "source": [
        "df.isnull()"
      ],
      "id": "treated-asset",
      "execution_count": null,
      "outputs": [
        {
          "data": {
            "text/html": [
              "<div>\n",
              "<style scoped>\n",
              "    .dataframe tbody tr th:only-of-type {\n",
              "        vertical-align: middle;\n",
              "    }\n",
              "\n",
              "    .dataframe tbody tr th {\n",
              "        vertical-align: top;\n",
              "    }\n",
              "\n",
              "    .dataframe thead th {\n",
              "        text-align: right;\n",
              "    }\n",
              "</style>\n",
              "<table border=\"1\" class=\"dataframe\">\n",
              "  <thead>\n",
              "    <tr style=\"text-align: right;\">\n",
              "      <th></th>\n",
              "      <th>rank</th>\n",
              "      <th>genre</th>\n",
              "      <th>description</th>\n",
              "      <th>director</th>\n",
              "      <th>actors</th>\n",
              "      <th>year</th>\n",
              "      <th>runtime</th>\n",
              "      <th>rating</th>\n",
              "      <th>votes</th>\n",
              "      <th>revenue</th>\n",
              "      <th>metascore</th>\n",
              "    </tr>\n",
              "    <tr>\n",
              "      <th>Title</th>\n",
              "      <th></th>\n",
              "      <th></th>\n",
              "      <th></th>\n",
              "      <th></th>\n",
              "      <th></th>\n",
              "      <th></th>\n",
              "      <th></th>\n",
              "      <th></th>\n",
              "      <th></th>\n",
              "      <th></th>\n",
              "      <th></th>\n",
              "    </tr>\n",
              "  </thead>\n",
              "  <tbody>\n",
              "    <tr>\n",
              "      <th>Guardians of the Galaxy</th>\n",
              "      <td>False</td>\n",
              "      <td>False</td>\n",
              "      <td>False</td>\n",
              "      <td>False</td>\n",
              "      <td>False</td>\n",
              "      <td>False</td>\n",
              "      <td>False</td>\n",
              "      <td>False</td>\n",
              "      <td>False</td>\n",
              "      <td>False</td>\n",
              "      <td>False</td>\n",
              "    </tr>\n",
              "    <tr>\n",
              "      <th>Prometheus</th>\n",
              "      <td>False</td>\n",
              "      <td>False</td>\n",
              "      <td>False</td>\n",
              "      <td>False</td>\n",
              "      <td>False</td>\n",
              "      <td>False</td>\n",
              "      <td>False</td>\n",
              "      <td>False</td>\n",
              "      <td>False</td>\n",
              "      <td>False</td>\n",
              "      <td>False</td>\n",
              "    </tr>\n",
              "    <tr>\n",
              "      <th>Split</th>\n",
              "      <td>False</td>\n",
              "      <td>False</td>\n",
              "      <td>False</td>\n",
              "      <td>False</td>\n",
              "      <td>False</td>\n",
              "      <td>False</td>\n",
              "      <td>False</td>\n",
              "      <td>False</td>\n",
              "      <td>False</td>\n",
              "      <td>False</td>\n",
              "      <td>False</td>\n",
              "    </tr>\n",
              "    <tr>\n",
              "      <th>Sing</th>\n",
              "      <td>False</td>\n",
              "      <td>False</td>\n",
              "      <td>False</td>\n",
              "      <td>False</td>\n",
              "      <td>False</td>\n",
              "      <td>False</td>\n",
              "      <td>False</td>\n",
              "      <td>False</td>\n",
              "      <td>False</td>\n",
              "      <td>False</td>\n",
              "      <td>False</td>\n",
              "    </tr>\n",
              "    <tr>\n",
              "      <th>Suicide Squad</th>\n",
              "      <td>False</td>\n",
              "      <td>False</td>\n",
              "      <td>False</td>\n",
              "      <td>False</td>\n",
              "      <td>False</td>\n",
              "      <td>False</td>\n",
              "      <td>False</td>\n",
              "      <td>False</td>\n",
              "      <td>False</td>\n",
              "      <td>False</td>\n",
              "      <td>False</td>\n",
              "    </tr>\n",
              "    <tr>\n",
              "      <th>...</th>\n",
              "      <td>...</td>\n",
              "      <td>...</td>\n",
              "      <td>...</td>\n",
              "      <td>...</td>\n",
              "      <td>...</td>\n",
              "      <td>...</td>\n",
              "      <td>...</td>\n",
              "      <td>...</td>\n",
              "      <td>...</td>\n",
              "      <td>...</td>\n",
              "      <td>...</td>\n",
              "    </tr>\n",
              "    <tr>\n",
              "      <th>Secret in Their Eyes</th>\n",
              "      <td>False</td>\n",
              "      <td>False</td>\n",
              "      <td>False</td>\n",
              "      <td>False</td>\n",
              "      <td>False</td>\n",
              "      <td>False</td>\n",
              "      <td>False</td>\n",
              "      <td>False</td>\n",
              "      <td>False</td>\n",
              "      <td>True</td>\n",
              "      <td>False</td>\n",
              "    </tr>\n",
              "    <tr>\n",
              "      <th>Hostel: Part II</th>\n",
              "      <td>False</td>\n",
              "      <td>False</td>\n",
              "      <td>False</td>\n",
              "      <td>False</td>\n",
              "      <td>False</td>\n",
              "      <td>False</td>\n",
              "      <td>False</td>\n",
              "      <td>False</td>\n",
              "      <td>False</td>\n",
              "      <td>False</td>\n",
              "      <td>False</td>\n",
              "    </tr>\n",
              "    <tr>\n",
              "      <th>Step Up 2: The Streets</th>\n",
              "      <td>False</td>\n",
              "      <td>False</td>\n",
              "      <td>False</td>\n",
              "      <td>False</td>\n",
              "      <td>False</td>\n",
              "      <td>False</td>\n",
              "      <td>False</td>\n",
              "      <td>False</td>\n",
              "      <td>False</td>\n",
              "      <td>False</td>\n",
              "      <td>False</td>\n",
              "    </tr>\n",
              "    <tr>\n",
              "      <th>Search Party</th>\n",
              "      <td>False</td>\n",
              "      <td>False</td>\n",
              "      <td>False</td>\n",
              "      <td>False</td>\n",
              "      <td>False</td>\n",
              "      <td>False</td>\n",
              "      <td>False</td>\n",
              "      <td>False</td>\n",
              "      <td>False</td>\n",
              "      <td>True</td>\n",
              "      <td>False</td>\n",
              "    </tr>\n",
              "    <tr>\n",
              "      <th>Nine Lives</th>\n",
              "      <td>False</td>\n",
              "      <td>False</td>\n",
              "      <td>False</td>\n",
              "      <td>False</td>\n",
              "      <td>False</td>\n",
              "      <td>False</td>\n",
              "      <td>False</td>\n",
              "      <td>False</td>\n",
              "      <td>False</td>\n",
              "      <td>False</td>\n",
              "      <td>False</td>\n",
              "    </tr>\n",
              "  </tbody>\n",
              "</table>\n",
              "<p>1000 rows × 11 columns</p>\n",
              "</div>"
            ],
            "text/plain": [
              "                          rank  genre  description  director  actors   year  \\\n",
              "Title                                                                         \n",
              "Guardians of the Galaxy  False  False        False     False   False  False   \n",
              "Prometheus               False  False        False     False   False  False   \n",
              "Split                    False  False        False     False   False  False   \n",
              "Sing                     False  False        False     False   False  False   \n",
              "Suicide Squad            False  False        False     False   False  False   \n",
              "...                        ...    ...          ...       ...     ...    ...   \n",
              "Secret in Their Eyes     False  False        False     False   False  False   \n",
              "Hostel: Part II          False  False        False     False   False  False   \n",
              "Step Up 2: The Streets   False  False        False     False   False  False   \n",
              "Search Party             False  False        False     False   False  False   \n",
              "Nine Lives               False  False        False     False   False  False   \n",
              "\n",
              "                         runtime  rating  votes  revenue  metascore  \n",
              "Title                                                                \n",
              "Guardians of the Galaxy    False   False  False    False      False  \n",
              "Prometheus                 False   False  False    False      False  \n",
              "Split                      False   False  False    False      False  \n",
              "Sing                       False   False  False    False      False  \n",
              "Suicide Squad              False   False  False    False      False  \n",
              "...                          ...     ...    ...      ...        ...  \n",
              "Secret in Their Eyes       False   False  False     True      False  \n",
              "Hostel: Part II            False   False  False    False      False  \n",
              "Step Up 2: The Streets     False   False  False    False      False  \n",
              "Search Party               False   False  False     True      False  \n",
              "Nine Lives                 False   False  False    False      False  \n",
              "\n",
              "[1000 rows x 11 columns]"
            ]
          },
          "execution_count": 40,
          "metadata": {},
          "output_type": "execute_result"
        }
      ]
    },
    {
      "cell_type": "code",
      "metadata": {
        "id": "comic-softball",
        "outputId": "e6953d5f-c196-490d-af44-e06728ba7d81"
      },
      "source": [
        "df.isnull().sum()"
      ],
      "id": "comic-softball",
      "execution_count": null,
      "outputs": [
        {
          "data": {
            "text/plain": [
              "rank             0\n",
              "genre            0\n",
              "description      0\n",
              "director         0\n",
              "actors           0\n",
              "year             0\n",
              "runtime          0\n",
              "rating           0\n",
              "votes            0\n",
              "revenue        128\n",
              "metascore       64\n",
              "dtype: int64"
            ]
          },
          "execution_count": 41,
          "metadata": {},
          "output_type": "execute_result"
        }
      ]
    },
    {
      "cell_type": "code",
      "metadata": {
        "id": "loving-update",
        "outputId": "8c58ea78-983b-47c6-f71a-93f90092335d"
      },
      "source": [
        "df.dropna()"
      ],
      "id": "loving-update",
      "execution_count": null,
      "outputs": [
        {
          "data": {
            "text/html": [
              "<div>\n",
              "<style scoped>\n",
              "    .dataframe tbody tr th:only-of-type {\n",
              "        vertical-align: middle;\n",
              "    }\n",
              "\n",
              "    .dataframe tbody tr th {\n",
              "        vertical-align: top;\n",
              "    }\n",
              "\n",
              "    .dataframe thead th {\n",
              "        text-align: right;\n",
              "    }\n",
              "</style>\n",
              "<table border=\"1\" class=\"dataframe\">\n",
              "  <thead>\n",
              "    <tr style=\"text-align: right;\">\n",
              "      <th></th>\n",
              "      <th>rank</th>\n",
              "      <th>genre</th>\n",
              "      <th>description</th>\n",
              "      <th>director</th>\n",
              "      <th>actors</th>\n",
              "      <th>year</th>\n",
              "      <th>runtime</th>\n",
              "      <th>rating</th>\n",
              "      <th>votes</th>\n",
              "      <th>revenue</th>\n",
              "      <th>metascore</th>\n",
              "    </tr>\n",
              "    <tr>\n",
              "      <th>Title</th>\n",
              "      <th></th>\n",
              "      <th></th>\n",
              "      <th></th>\n",
              "      <th></th>\n",
              "      <th></th>\n",
              "      <th></th>\n",
              "      <th></th>\n",
              "      <th></th>\n",
              "      <th></th>\n",
              "      <th></th>\n",
              "      <th></th>\n",
              "    </tr>\n",
              "  </thead>\n",
              "  <tbody>\n",
              "    <tr>\n",
              "      <th>Guardians of the Galaxy</th>\n",
              "      <td>1</td>\n",
              "      <td>Action,Adventure,Sci-Fi</td>\n",
              "      <td>A group of intergalactic criminals are forced ...</td>\n",
              "      <td>James Gunn</td>\n",
              "      <td>Chris Pratt, Vin Diesel, Bradley Cooper, Zoe S...</td>\n",
              "      <td>2014</td>\n",
              "      <td>121</td>\n",
              "      <td>8.1</td>\n",
              "      <td>757074</td>\n",
              "      <td>333.13</td>\n",
              "      <td>76.0</td>\n",
              "    </tr>\n",
              "    <tr>\n",
              "      <th>Prometheus</th>\n",
              "      <td>2</td>\n",
              "      <td>Adventure,Mystery,Sci-Fi</td>\n",
              "      <td>Following clues to the origin of mankind, a te...</td>\n",
              "      <td>Ridley Scott</td>\n",
              "      <td>Noomi Rapace, Logan Marshall-Green, Michael Fa...</td>\n",
              "      <td>2012</td>\n",
              "      <td>124</td>\n",
              "      <td>7.0</td>\n",
              "      <td>485820</td>\n",
              "      <td>126.46</td>\n",
              "      <td>65.0</td>\n",
              "    </tr>\n",
              "    <tr>\n",
              "      <th>Split</th>\n",
              "      <td>3</td>\n",
              "      <td>Horror,Thriller</td>\n",
              "      <td>Three girls are kidnapped by a man with a diag...</td>\n",
              "      <td>M. Night Shyamalan</td>\n",
              "      <td>James McAvoy, Anya Taylor-Joy, Haley Lu Richar...</td>\n",
              "      <td>2016</td>\n",
              "      <td>117</td>\n",
              "      <td>7.3</td>\n",
              "      <td>157606</td>\n",
              "      <td>138.12</td>\n",
              "      <td>62.0</td>\n",
              "    </tr>\n",
              "    <tr>\n",
              "      <th>Sing</th>\n",
              "      <td>4</td>\n",
              "      <td>Animation,Comedy,Family</td>\n",
              "      <td>In a city of humanoid animals, a hustling thea...</td>\n",
              "      <td>Christophe Lourdelet</td>\n",
              "      <td>Matthew McConaughey,Reese Witherspoon, Seth Ma...</td>\n",
              "      <td>2016</td>\n",
              "      <td>108</td>\n",
              "      <td>7.2</td>\n",
              "      <td>60545</td>\n",
              "      <td>270.32</td>\n",
              "      <td>59.0</td>\n",
              "    </tr>\n",
              "    <tr>\n",
              "      <th>Suicide Squad</th>\n",
              "      <td>5</td>\n",
              "      <td>Action,Adventure,Fantasy</td>\n",
              "      <td>A secret government agency recruits some of th...</td>\n",
              "      <td>David Ayer</td>\n",
              "      <td>Will Smith, Jared Leto, Margot Robbie, Viola D...</td>\n",
              "      <td>2016</td>\n",
              "      <td>123</td>\n",
              "      <td>6.2</td>\n",
              "      <td>393727</td>\n",
              "      <td>325.02</td>\n",
              "      <td>40.0</td>\n",
              "    </tr>\n",
              "    <tr>\n",
              "      <th>...</th>\n",
              "      <td>...</td>\n",
              "      <td>...</td>\n",
              "      <td>...</td>\n",
              "      <td>...</td>\n",
              "      <td>...</td>\n",
              "      <td>...</td>\n",
              "      <td>...</td>\n",
              "      <td>...</td>\n",
              "      <td>...</td>\n",
              "      <td>...</td>\n",
              "      <td>...</td>\n",
              "    </tr>\n",
              "    <tr>\n",
              "      <th>Resident Evil: Afterlife</th>\n",
              "      <td>994</td>\n",
              "      <td>Action,Adventure,Horror</td>\n",
              "      <td>While still out to destroy the evil Umbrella C...</td>\n",
              "      <td>Paul W.S. Anderson</td>\n",
              "      <td>Milla Jovovich, Ali Larter, Wentworth Miller,K...</td>\n",
              "      <td>2010</td>\n",
              "      <td>97</td>\n",
              "      <td>5.9</td>\n",
              "      <td>140900</td>\n",
              "      <td>60.13</td>\n",
              "      <td>37.0</td>\n",
              "    </tr>\n",
              "    <tr>\n",
              "      <th>Project X</th>\n",
              "      <td>995</td>\n",
              "      <td>Comedy</td>\n",
              "      <td>3 high school seniors throw a birthday party t...</td>\n",
              "      <td>Nima Nourizadeh</td>\n",
              "      <td>Thomas Mann, Oliver Cooper, Jonathan Daniel Br...</td>\n",
              "      <td>2012</td>\n",
              "      <td>88</td>\n",
              "      <td>6.7</td>\n",
              "      <td>164088</td>\n",
              "      <td>54.72</td>\n",
              "      <td>48.0</td>\n",
              "    </tr>\n",
              "    <tr>\n",
              "      <th>Hostel: Part II</th>\n",
              "      <td>997</td>\n",
              "      <td>Horror</td>\n",
              "      <td>Three American college students studying abroa...</td>\n",
              "      <td>Eli Roth</td>\n",
              "      <td>Lauren German, Heather Matarazzo, Bijou Philli...</td>\n",
              "      <td>2007</td>\n",
              "      <td>94</td>\n",
              "      <td>5.5</td>\n",
              "      <td>73152</td>\n",
              "      <td>17.54</td>\n",
              "      <td>46.0</td>\n",
              "    </tr>\n",
              "    <tr>\n",
              "      <th>Step Up 2: The Streets</th>\n",
              "      <td>998</td>\n",
              "      <td>Drama,Music,Romance</td>\n",
              "      <td>Romantic sparks occur between two dance studen...</td>\n",
              "      <td>Jon M. Chu</td>\n",
              "      <td>Robert Hoffman, Briana Evigan, Cassie Ventura,...</td>\n",
              "      <td>2008</td>\n",
              "      <td>98</td>\n",
              "      <td>6.2</td>\n",
              "      <td>70699</td>\n",
              "      <td>58.01</td>\n",
              "      <td>50.0</td>\n",
              "    </tr>\n",
              "    <tr>\n",
              "      <th>Nine Lives</th>\n",
              "      <td>1000</td>\n",
              "      <td>Comedy,Family,Fantasy</td>\n",
              "      <td>A stuffy businessman finds himself trapped ins...</td>\n",
              "      <td>Barry Sonnenfeld</td>\n",
              "      <td>Kevin Spacey, Jennifer Garner, Robbie Amell,Ch...</td>\n",
              "      <td>2016</td>\n",
              "      <td>87</td>\n",
              "      <td>5.3</td>\n",
              "      <td>12435</td>\n",
              "      <td>19.64</td>\n",
              "      <td>11.0</td>\n",
              "    </tr>\n",
              "  </tbody>\n",
              "</table>\n",
              "<p>838 rows × 11 columns</p>\n",
              "</div>"
            ],
            "text/plain": [
              "                          rank                     genre  \\\n",
              "Title                                                      \n",
              "Guardians of the Galaxy      1   Action,Adventure,Sci-Fi   \n",
              "Prometheus                   2  Adventure,Mystery,Sci-Fi   \n",
              "Split                        3           Horror,Thriller   \n",
              "Sing                         4   Animation,Comedy,Family   \n",
              "Suicide Squad                5  Action,Adventure,Fantasy   \n",
              "...                        ...                       ...   \n",
              "Resident Evil: Afterlife   994   Action,Adventure,Horror   \n",
              "Project X                  995                    Comedy   \n",
              "Hostel: Part II            997                    Horror   \n",
              "Step Up 2: The Streets     998       Drama,Music,Romance   \n",
              "Nine Lives                1000     Comedy,Family,Fantasy   \n",
              "\n",
              "                                                                description  \\\n",
              "Title                                                                         \n",
              "Guardians of the Galaxy   A group of intergalactic criminals are forced ...   \n",
              "Prometheus                Following clues to the origin of mankind, a te...   \n",
              "Split                     Three girls are kidnapped by a man with a diag...   \n",
              "Sing                      In a city of humanoid animals, a hustling thea...   \n",
              "Suicide Squad             A secret government agency recruits some of th...   \n",
              "...                                                                     ...   \n",
              "Resident Evil: Afterlife  While still out to destroy the evil Umbrella C...   \n",
              "Project X                 3 high school seniors throw a birthday party t...   \n",
              "Hostel: Part II           Three American college students studying abroa...   \n",
              "Step Up 2: The Streets    Romantic sparks occur between two dance studen...   \n",
              "Nine Lives                A stuffy businessman finds himself trapped ins...   \n",
              "\n",
              "                                      director  \\\n",
              "Title                                            \n",
              "Guardians of the Galaxy             James Gunn   \n",
              "Prometheus                        Ridley Scott   \n",
              "Split                       M. Night Shyamalan   \n",
              "Sing                      Christophe Lourdelet   \n",
              "Suicide Squad                       David Ayer   \n",
              "...                                        ...   \n",
              "Resident Evil: Afterlife    Paul W.S. Anderson   \n",
              "Project X                      Nima Nourizadeh   \n",
              "Hostel: Part II                       Eli Roth   \n",
              "Step Up 2: The Streets              Jon M. Chu   \n",
              "Nine Lives                    Barry Sonnenfeld   \n",
              "\n",
              "                                                                     actors  \\\n",
              "Title                                                                         \n",
              "Guardians of the Galaxy   Chris Pratt, Vin Diesel, Bradley Cooper, Zoe S...   \n",
              "Prometheus                Noomi Rapace, Logan Marshall-Green, Michael Fa...   \n",
              "Split                     James McAvoy, Anya Taylor-Joy, Haley Lu Richar...   \n",
              "Sing                      Matthew McConaughey,Reese Witherspoon, Seth Ma...   \n",
              "Suicide Squad             Will Smith, Jared Leto, Margot Robbie, Viola D...   \n",
              "...                                                                     ...   \n",
              "Resident Evil: Afterlife  Milla Jovovich, Ali Larter, Wentworth Miller,K...   \n",
              "Project X                 Thomas Mann, Oliver Cooper, Jonathan Daniel Br...   \n",
              "Hostel: Part II           Lauren German, Heather Matarazzo, Bijou Philli...   \n",
              "Step Up 2: The Streets    Robert Hoffman, Briana Evigan, Cassie Ventura,...   \n",
              "Nine Lives                Kevin Spacey, Jennifer Garner, Robbie Amell,Ch...   \n",
              "\n",
              "                          year  runtime  rating   votes  revenue  metascore  \n",
              "Title                                                                        \n",
              "Guardians of the Galaxy   2014      121     8.1  757074   333.13       76.0  \n",
              "Prometheus                2012      124     7.0  485820   126.46       65.0  \n",
              "Split                     2016      117     7.3  157606   138.12       62.0  \n",
              "Sing                      2016      108     7.2   60545   270.32       59.0  \n",
              "Suicide Squad             2016      123     6.2  393727   325.02       40.0  \n",
              "...                        ...      ...     ...     ...      ...        ...  \n",
              "Resident Evil: Afterlife  2010       97     5.9  140900    60.13       37.0  \n",
              "Project X                 2012       88     6.7  164088    54.72       48.0  \n",
              "Hostel: Part II           2007       94     5.5   73152    17.54       46.0  \n",
              "Step Up 2: The Streets    2008       98     6.2   70699    58.01       50.0  \n",
              "Nine Lives                2016       87     5.3   12435    19.64       11.0  \n",
              "\n",
              "[838 rows x 11 columns]"
            ]
          },
          "execution_count": 42,
          "metadata": {},
          "output_type": "execute_result"
        }
      ]
    },
    {
      "cell_type": "code",
      "metadata": {
        "id": "preliminary-deposit",
        "outputId": "4464f36c-2b1c-4774-832c-e349b003fab5"
      },
      "source": [
        "df.shape"
      ],
      "id": "preliminary-deposit",
      "execution_count": null,
      "outputs": [
        {
          "data": {
            "text/plain": [
              "(1000, 11)"
            ]
          },
          "execution_count": 43,
          "metadata": {},
          "output_type": "execute_result"
        }
      ]
    },
    {
      "cell_type": "code",
      "metadata": {
        "id": "catholic-ranking",
        "outputId": "f1f50128-8f31-4bcc-891c-4875c3864008"
      },
      "source": [
        "df.dropna(axis=1)"
      ],
      "id": "catholic-ranking",
      "execution_count": null,
      "outputs": [
        {
          "data": {
            "text/html": [
              "<div>\n",
              "<style scoped>\n",
              "    .dataframe tbody tr th:only-of-type {\n",
              "        vertical-align: middle;\n",
              "    }\n",
              "\n",
              "    .dataframe tbody tr th {\n",
              "        vertical-align: top;\n",
              "    }\n",
              "\n",
              "    .dataframe thead th {\n",
              "        text-align: right;\n",
              "    }\n",
              "</style>\n",
              "<table border=\"1\" class=\"dataframe\">\n",
              "  <thead>\n",
              "    <tr style=\"text-align: right;\">\n",
              "      <th></th>\n",
              "      <th>rank</th>\n",
              "      <th>genre</th>\n",
              "      <th>description</th>\n",
              "      <th>director</th>\n",
              "      <th>actors</th>\n",
              "      <th>year</th>\n",
              "      <th>runtime</th>\n",
              "      <th>rating</th>\n",
              "      <th>votes</th>\n",
              "    </tr>\n",
              "    <tr>\n",
              "      <th>Title</th>\n",
              "      <th></th>\n",
              "      <th></th>\n",
              "      <th></th>\n",
              "      <th></th>\n",
              "      <th></th>\n",
              "      <th></th>\n",
              "      <th></th>\n",
              "      <th></th>\n",
              "      <th></th>\n",
              "    </tr>\n",
              "  </thead>\n",
              "  <tbody>\n",
              "    <tr>\n",
              "      <th>Guardians of the Galaxy</th>\n",
              "      <td>1</td>\n",
              "      <td>Action,Adventure,Sci-Fi</td>\n",
              "      <td>A group of intergalactic criminals are forced ...</td>\n",
              "      <td>James Gunn</td>\n",
              "      <td>Chris Pratt, Vin Diesel, Bradley Cooper, Zoe S...</td>\n",
              "      <td>2014</td>\n",
              "      <td>121</td>\n",
              "      <td>8.1</td>\n",
              "      <td>757074</td>\n",
              "    </tr>\n",
              "    <tr>\n",
              "      <th>Prometheus</th>\n",
              "      <td>2</td>\n",
              "      <td>Adventure,Mystery,Sci-Fi</td>\n",
              "      <td>Following clues to the origin of mankind, a te...</td>\n",
              "      <td>Ridley Scott</td>\n",
              "      <td>Noomi Rapace, Logan Marshall-Green, Michael Fa...</td>\n",
              "      <td>2012</td>\n",
              "      <td>124</td>\n",
              "      <td>7.0</td>\n",
              "      <td>485820</td>\n",
              "    </tr>\n",
              "    <tr>\n",
              "      <th>Split</th>\n",
              "      <td>3</td>\n",
              "      <td>Horror,Thriller</td>\n",
              "      <td>Three girls are kidnapped by a man with a diag...</td>\n",
              "      <td>M. Night Shyamalan</td>\n",
              "      <td>James McAvoy, Anya Taylor-Joy, Haley Lu Richar...</td>\n",
              "      <td>2016</td>\n",
              "      <td>117</td>\n",
              "      <td>7.3</td>\n",
              "      <td>157606</td>\n",
              "    </tr>\n",
              "    <tr>\n",
              "      <th>Sing</th>\n",
              "      <td>4</td>\n",
              "      <td>Animation,Comedy,Family</td>\n",
              "      <td>In a city of humanoid animals, a hustling thea...</td>\n",
              "      <td>Christophe Lourdelet</td>\n",
              "      <td>Matthew McConaughey,Reese Witherspoon, Seth Ma...</td>\n",
              "      <td>2016</td>\n",
              "      <td>108</td>\n",
              "      <td>7.2</td>\n",
              "      <td>60545</td>\n",
              "    </tr>\n",
              "    <tr>\n",
              "      <th>Suicide Squad</th>\n",
              "      <td>5</td>\n",
              "      <td>Action,Adventure,Fantasy</td>\n",
              "      <td>A secret government agency recruits some of th...</td>\n",
              "      <td>David Ayer</td>\n",
              "      <td>Will Smith, Jared Leto, Margot Robbie, Viola D...</td>\n",
              "      <td>2016</td>\n",
              "      <td>123</td>\n",
              "      <td>6.2</td>\n",
              "      <td>393727</td>\n",
              "    </tr>\n",
              "    <tr>\n",
              "      <th>...</th>\n",
              "      <td>...</td>\n",
              "      <td>...</td>\n",
              "      <td>...</td>\n",
              "      <td>...</td>\n",
              "      <td>...</td>\n",
              "      <td>...</td>\n",
              "      <td>...</td>\n",
              "      <td>...</td>\n",
              "      <td>...</td>\n",
              "    </tr>\n",
              "    <tr>\n",
              "      <th>Secret in Their Eyes</th>\n",
              "      <td>996</td>\n",
              "      <td>Crime,Drama,Mystery</td>\n",
              "      <td>A tight-knit team of rising investigators, alo...</td>\n",
              "      <td>Billy Ray</td>\n",
              "      <td>Chiwetel Ejiofor, Nicole Kidman, Julia Roberts...</td>\n",
              "      <td>2015</td>\n",
              "      <td>111</td>\n",
              "      <td>6.2</td>\n",
              "      <td>27585</td>\n",
              "    </tr>\n",
              "    <tr>\n",
              "      <th>Hostel: Part II</th>\n",
              "      <td>997</td>\n",
              "      <td>Horror</td>\n",
              "      <td>Three American college students studying abroa...</td>\n",
              "      <td>Eli Roth</td>\n",
              "      <td>Lauren German, Heather Matarazzo, Bijou Philli...</td>\n",
              "      <td>2007</td>\n",
              "      <td>94</td>\n",
              "      <td>5.5</td>\n",
              "      <td>73152</td>\n",
              "    </tr>\n",
              "    <tr>\n",
              "      <th>Step Up 2: The Streets</th>\n",
              "      <td>998</td>\n",
              "      <td>Drama,Music,Romance</td>\n",
              "      <td>Romantic sparks occur between two dance studen...</td>\n",
              "      <td>Jon M. Chu</td>\n",
              "      <td>Robert Hoffman, Briana Evigan, Cassie Ventura,...</td>\n",
              "      <td>2008</td>\n",
              "      <td>98</td>\n",
              "      <td>6.2</td>\n",
              "      <td>70699</td>\n",
              "    </tr>\n",
              "    <tr>\n",
              "      <th>Search Party</th>\n",
              "      <td>999</td>\n",
              "      <td>Adventure,Comedy</td>\n",
              "      <td>A pair of friends embark on a mission to reuni...</td>\n",
              "      <td>Scot Armstrong</td>\n",
              "      <td>Adam Pally, T.J. Miller, Thomas Middleditch,Sh...</td>\n",
              "      <td>2014</td>\n",
              "      <td>93</td>\n",
              "      <td>5.6</td>\n",
              "      <td>4881</td>\n",
              "    </tr>\n",
              "    <tr>\n",
              "      <th>Nine Lives</th>\n",
              "      <td>1000</td>\n",
              "      <td>Comedy,Family,Fantasy</td>\n",
              "      <td>A stuffy businessman finds himself trapped ins...</td>\n",
              "      <td>Barry Sonnenfeld</td>\n",
              "      <td>Kevin Spacey, Jennifer Garner, Robbie Amell,Ch...</td>\n",
              "      <td>2016</td>\n",
              "      <td>87</td>\n",
              "      <td>5.3</td>\n",
              "      <td>12435</td>\n",
              "    </tr>\n",
              "  </tbody>\n",
              "</table>\n",
              "<p>1000 rows × 9 columns</p>\n",
              "</div>"
            ],
            "text/plain": [
              "                         rank                     genre  \\\n",
              "Title                                                     \n",
              "Guardians of the Galaxy     1   Action,Adventure,Sci-Fi   \n",
              "Prometheus                  2  Adventure,Mystery,Sci-Fi   \n",
              "Split                       3           Horror,Thriller   \n",
              "Sing                        4   Animation,Comedy,Family   \n",
              "Suicide Squad               5  Action,Adventure,Fantasy   \n",
              "...                       ...                       ...   \n",
              "Secret in Their Eyes      996       Crime,Drama,Mystery   \n",
              "Hostel: Part II           997                    Horror   \n",
              "Step Up 2: The Streets    998       Drama,Music,Romance   \n",
              "Search Party              999          Adventure,Comedy   \n",
              "Nine Lives               1000     Comedy,Family,Fantasy   \n",
              "\n",
              "                                                               description  \\\n",
              "Title                                                                        \n",
              "Guardians of the Galaxy  A group of intergalactic criminals are forced ...   \n",
              "Prometheus               Following clues to the origin of mankind, a te...   \n",
              "Split                    Three girls are kidnapped by a man with a diag...   \n",
              "Sing                     In a city of humanoid animals, a hustling thea...   \n",
              "Suicide Squad            A secret government agency recruits some of th...   \n",
              "...                                                                    ...   \n",
              "Secret in Their Eyes     A tight-knit team of rising investigators, alo...   \n",
              "Hostel: Part II          Three American college students studying abroa...   \n",
              "Step Up 2: The Streets   Romantic sparks occur between two dance studen...   \n",
              "Search Party             A pair of friends embark on a mission to reuni...   \n",
              "Nine Lives               A stuffy businessman finds himself trapped ins...   \n",
              "\n",
              "                                     director  \\\n",
              "Title                                           \n",
              "Guardians of the Galaxy            James Gunn   \n",
              "Prometheus                       Ridley Scott   \n",
              "Split                      M. Night Shyamalan   \n",
              "Sing                     Christophe Lourdelet   \n",
              "Suicide Squad                      David Ayer   \n",
              "...                                       ...   \n",
              "Secret in Their Eyes                Billy Ray   \n",
              "Hostel: Part II                      Eli Roth   \n",
              "Step Up 2: The Streets             Jon M. Chu   \n",
              "Search Party                   Scot Armstrong   \n",
              "Nine Lives                   Barry Sonnenfeld   \n",
              "\n",
              "                                                                    actors  \\\n",
              "Title                                                                        \n",
              "Guardians of the Galaxy  Chris Pratt, Vin Diesel, Bradley Cooper, Zoe S...   \n",
              "Prometheus               Noomi Rapace, Logan Marshall-Green, Michael Fa...   \n",
              "Split                    James McAvoy, Anya Taylor-Joy, Haley Lu Richar...   \n",
              "Sing                     Matthew McConaughey,Reese Witherspoon, Seth Ma...   \n",
              "Suicide Squad            Will Smith, Jared Leto, Margot Robbie, Viola D...   \n",
              "...                                                                    ...   \n",
              "Secret in Their Eyes     Chiwetel Ejiofor, Nicole Kidman, Julia Roberts...   \n",
              "Hostel: Part II          Lauren German, Heather Matarazzo, Bijou Philli...   \n",
              "Step Up 2: The Streets   Robert Hoffman, Briana Evigan, Cassie Ventura,...   \n",
              "Search Party             Adam Pally, T.J. Miller, Thomas Middleditch,Sh...   \n",
              "Nine Lives               Kevin Spacey, Jennifer Garner, Robbie Amell,Ch...   \n",
              "\n",
              "                         year  runtime  rating   votes  \n",
              "Title                                                   \n",
              "Guardians of the Galaxy  2014      121     8.1  757074  \n",
              "Prometheus               2012      124     7.0  485820  \n",
              "Split                    2016      117     7.3  157606  \n",
              "Sing                     2016      108     7.2   60545  \n",
              "Suicide Squad            2016      123     6.2  393727  \n",
              "...                       ...      ...     ...     ...  \n",
              "Secret in Their Eyes     2015      111     6.2   27585  \n",
              "Hostel: Part II          2007       94     5.5   73152  \n",
              "Step Up 2: The Streets   2008       98     6.2   70699  \n",
              "Search Party             2014       93     5.6    4881  \n",
              "Nine Lives               2016       87     5.3   12435  \n",
              "\n",
              "[1000 rows x 9 columns]"
            ]
          },
          "execution_count": 44,
          "metadata": {},
          "output_type": "execute_result"
        }
      ]
    },
    {
      "cell_type": "markdown",
      "metadata": {
        "id": "f7mOvfWVhZMW"
      },
      "source": [
        "Imputation\n"
      ],
      "id": "f7mOvfWVhZMW"
    },
    {
      "cell_type": "code",
      "metadata": {
        "id": "affecting-infection",
        "outputId": "63ced4d7-b7a4-428b-ee5a-70d334353111"
      },
      "source": [
        "revenue = df['revenue']\n",
        "revenue.head()"
      ],
      "id": "affecting-infection",
      "execution_count": null,
      "outputs": [
        {
          "data": {
            "text/plain": [
              "Title\n",
              "Guardians of the Galaxy    333.13\n",
              "Prometheus                 126.46\n",
              "Split                      138.12\n",
              "Sing                       270.32\n",
              "Suicide Squad              325.02\n",
              "Name: revenue, dtype: float64"
            ]
          },
          "execution_count": 45,
          "metadata": {},
          "output_type": "execute_result"
        }
      ]
    },
    {
      "cell_type": "code",
      "metadata": {
        "id": "powered-lloyd",
        "outputId": "e59d6bda-70ea-409e-8749-0af5161fdbf3"
      },
      "source": [
        "revenue_mean = revenue.mean()\n",
        "revenue_mean"
      ],
      "id": "powered-lloyd",
      "execution_count": null,
      "outputs": [
        {
          "data": {
            "text/plain": [
              "82.95637614678898"
            ]
          },
          "execution_count": 46,
          "metadata": {},
          "output_type": "execute_result"
        }
      ]
    },
    {
      "cell_type": "code",
      "metadata": {
        "id": "valuable-scoop",
        "outputId": "c89ec4b5-0754-4b83-8cfc-02a912ebc7d6"
      },
      "source": [
        "revenue.fillna(revenue_mean, inplace=True)\n",
        "df.isnull().sum()"
      ],
      "id": "valuable-scoop",
      "execution_count": null,
      "outputs": [
        {
          "data": {
            "text/plain": [
              "rank            0\n",
              "genre           0\n",
              "description     0\n",
              "director        0\n",
              "actors          0\n",
              "year            0\n",
              "runtime         0\n",
              "rating          0\n",
              "votes           0\n",
              "revenue         0\n",
              "metascore      64\n",
              "dtype: int64"
            ]
          },
          "execution_count": 47,
          "metadata": {},
          "output_type": "execute_result"
        }
      ]
    },
    {
      "cell_type": "markdown",
      "metadata": {
        "id": "7JqZJNUEh5JO"
      },
      "source": [
        "### Getting more information"
      ],
      "id": "7JqZJNUEh5JO"
    },
    {
      "cell_type": "code",
      "metadata": {
        "id": "polar-shell",
        "outputId": "188298a6-6a29-47bd-e171-43c4852f0d1a"
      },
      "source": [
        "df['genre'].describe()"
      ],
      "id": "polar-shell",
      "execution_count": null,
      "outputs": [
        {
          "data": {
            "text/plain": [
              "count                        1000\n",
              "unique                        207\n",
              "top       Action,Adventure,Sci-Fi\n",
              "freq                           50\n",
              "Name: genre, dtype: object"
            ]
          },
          "execution_count": 48,
          "metadata": {},
          "output_type": "execute_result"
        }
      ]
    },
    {
      "cell_type": "code",
      "metadata": {
        "id": "consolidated-auckland",
        "outputId": "c01b703e-1d34-47ff-878e-e3f8a6154912"
      },
      "source": [
        "df.corr()"
      ],
      "id": "consolidated-auckland",
      "execution_count": null,
      "outputs": [
        {
          "data": {
            "text/html": [
              "<div>\n",
              "<style scoped>\n",
              "    .dataframe tbody tr th:only-of-type {\n",
              "        vertical-align: middle;\n",
              "    }\n",
              "\n",
              "    .dataframe tbody tr th {\n",
              "        vertical-align: top;\n",
              "    }\n",
              "\n",
              "    .dataframe thead th {\n",
              "        text-align: right;\n",
              "    }\n",
              "</style>\n",
              "<table border=\"1\" class=\"dataframe\">\n",
              "  <thead>\n",
              "    <tr style=\"text-align: right;\">\n",
              "      <th></th>\n",
              "      <th>rank</th>\n",
              "      <th>year</th>\n",
              "      <th>runtime</th>\n",
              "      <th>rating</th>\n",
              "      <th>votes</th>\n",
              "      <th>revenue</th>\n",
              "      <th>metascore</th>\n",
              "    </tr>\n",
              "  </thead>\n",
              "  <tbody>\n",
              "    <tr>\n",
              "      <th>rank</th>\n",
              "      <td>1.000000</td>\n",
              "      <td>-0.261605</td>\n",
              "      <td>-0.221739</td>\n",
              "      <td>-0.219555</td>\n",
              "      <td>-0.283876</td>\n",
              "      <td>-0.252996</td>\n",
              "      <td>-0.191869</td>\n",
              "    </tr>\n",
              "    <tr>\n",
              "      <th>year</th>\n",
              "      <td>-0.261605</td>\n",
              "      <td>1.000000</td>\n",
              "      <td>-0.164900</td>\n",
              "      <td>-0.211219</td>\n",
              "      <td>-0.411904</td>\n",
              "      <td>-0.117562</td>\n",
              "      <td>-0.079305</td>\n",
              "    </tr>\n",
              "    <tr>\n",
              "      <th>runtime</th>\n",
              "      <td>-0.221739</td>\n",
              "      <td>-0.164900</td>\n",
              "      <td>1.000000</td>\n",
              "      <td>0.392214</td>\n",
              "      <td>0.407062</td>\n",
              "      <td>0.247834</td>\n",
              "      <td>0.211978</td>\n",
              "    </tr>\n",
              "    <tr>\n",
              "      <th>rating</th>\n",
              "      <td>-0.219555</td>\n",
              "      <td>-0.211219</td>\n",
              "      <td>0.392214</td>\n",
              "      <td>1.000000</td>\n",
              "      <td>0.511537</td>\n",
              "      <td>0.189527</td>\n",
              "      <td>0.631897</td>\n",
              "    </tr>\n",
              "    <tr>\n",
              "      <th>votes</th>\n",
              "      <td>-0.283876</td>\n",
              "      <td>-0.411904</td>\n",
              "      <td>0.407062</td>\n",
              "      <td>0.511537</td>\n",
              "      <td>1.000000</td>\n",
              "      <td>0.607941</td>\n",
              "      <td>0.325684</td>\n",
              "    </tr>\n",
              "    <tr>\n",
              "      <th>revenue</th>\n",
              "      <td>-0.252996</td>\n",
              "      <td>-0.117562</td>\n",
              "      <td>0.247834</td>\n",
              "      <td>0.189527</td>\n",
              "      <td>0.607941</td>\n",
              "      <td>1.000000</td>\n",
              "      <td>0.133328</td>\n",
              "    </tr>\n",
              "    <tr>\n",
              "      <th>metascore</th>\n",
              "      <td>-0.191869</td>\n",
              "      <td>-0.079305</td>\n",
              "      <td>0.211978</td>\n",
              "      <td>0.631897</td>\n",
              "      <td>0.325684</td>\n",
              "      <td>0.133328</td>\n",
              "      <td>1.000000</td>\n",
              "    </tr>\n",
              "  </tbody>\n",
              "</table>\n",
              "</div>"
            ],
            "text/plain": [
              "               rank      year   runtime    rating     votes   revenue  \\\n",
              "rank       1.000000 -0.261605 -0.221739 -0.219555 -0.283876 -0.252996   \n",
              "year      -0.261605  1.000000 -0.164900 -0.211219 -0.411904 -0.117562   \n",
              "runtime   -0.221739 -0.164900  1.000000  0.392214  0.407062  0.247834   \n",
              "rating    -0.219555 -0.211219  0.392214  1.000000  0.511537  0.189527   \n",
              "votes     -0.283876 -0.411904  0.407062  0.511537  1.000000  0.607941   \n",
              "revenue   -0.252996 -0.117562  0.247834  0.189527  0.607941  1.000000   \n",
              "metascore -0.191869 -0.079305  0.211978  0.631897  0.325684  0.133328   \n",
              "\n",
              "           metascore  \n",
              "rank       -0.191869  \n",
              "year       -0.079305  \n",
              "runtime     0.211978  \n",
              "rating      0.631897  \n",
              "votes       0.325684  \n",
              "revenue     0.133328  \n",
              "metascore   1.000000  "
            ]
          },
          "execution_count": 51,
          "metadata": {},
          "output_type": "execute_result"
        }
      ]
    },
    {
      "cell_type": "markdown",
      "metadata": {
        "id": "hsQKDkO6iDlW"
      },
      "source": [
        "### Slicing"
      ],
      "id": "hsQKDkO6iDlW"
    },
    {
      "cell_type": "markdown",
      "metadata": {
        "id": "m97oPKaQiMl2"
      },
      "source": [
        "By column"
      ],
      "id": "m97oPKaQiMl2"
    },
    {
      "cell_type": "code",
      "metadata": {
        "id": "connected-socket",
        "outputId": "85a1a587-829c-4adc-dfc2-e0ebaa69aa59"
      },
      "source": [
        "subset = df[['genre', 'rating']]\n",
        "\n",
        "subset.head()\n"
      ],
      "id": "connected-socket",
      "execution_count": null,
      "outputs": [
        {
          "data": {
            "text/html": [
              "<div>\n",
              "<style scoped>\n",
              "    .dataframe tbody tr th:only-of-type {\n",
              "        vertical-align: middle;\n",
              "    }\n",
              "\n",
              "    .dataframe tbody tr th {\n",
              "        vertical-align: top;\n",
              "    }\n",
              "\n",
              "    .dataframe thead th {\n",
              "        text-align: right;\n",
              "    }\n",
              "</style>\n",
              "<table border=\"1\" class=\"dataframe\">\n",
              "  <thead>\n",
              "    <tr style=\"text-align: right;\">\n",
              "      <th></th>\n",
              "      <th>genre</th>\n",
              "      <th>rating</th>\n",
              "    </tr>\n",
              "    <tr>\n",
              "      <th>Title</th>\n",
              "      <th></th>\n",
              "      <th></th>\n",
              "    </tr>\n",
              "  </thead>\n",
              "  <tbody>\n",
              "    <tr>\n",
              "      <th>Guardians of the Galaxy</th>\n",
              "      <td>Action,Adventure,Sci-Fi</td>\n",
              "      <td>8.1</td>\n",
              "    </tr>\n",
              "    <tr>\n",
              "      <th>Prometheus</th>\n",
              "      <td>Adventure,Mystery,Sci-Fi</td>\n",
              "      <td>7.0</td>\n",
              "    </tr>\n",
              "    <tr>\n",
              "      <th>Split</th>\n",
              "      <td>Horror,Thriller</td>\n",
              "      <td>7.3</td>\n",
              "    </tr>\n",
              "    <tr>\n",
              "      <th>Sing</th>\n",
              "      <td>Animation,Comedy,Family</td>\n",
              "      <td>7.2</td>\n",
              "    </tr>\n",
              "    <tr>\n",
              "      <th>Suicide Squad</th>\n",
              "      <td>Action,Adventure,Fantasy</td>\n",
              "      <td>6.2</td>\n",
              "    </tr>\n",
              "  </tbody>\n",
              "</table>\n",
              "</div>"
            ],
            "text/plain": [
              "                                            genre  rating\n",
              "Title                                                    \n",
              "Guardians of the Galaxy   Action,Adventure,Sci-Fi     8.1\n",
              "Prometheus               Adventure,Mystery,Sci-Fi     7.0\n",
              "Split                             Horror,Thriller     7.3\n",
              "Sing                      Animation,Comedy,Family     7.2\n",
              "Suicide Squad            Action,Adventure,Fantasy     6.2"
            ]
          },
          "execution_count": 53,
          "metadata": {},
          "output_type": "execute_result"
        }
      ]
    },
    {
      "cell_type": "markdown",
      "metadata": {
        "id": "qSd4-CF6iQte"
      },
      "source": [
        "By rows"
      ],
      "id": "qSd4-CF6iQte"
    },
    {
      "cell_type": "code",
      "metadata": {
        "id": "exotic-failure",
        "outputId": "544fae47-1210-4bba-8e32-abe4f80ef6d6"
      },
      "source": [
        "prom = df.loc[\"Prometheus\"]\n",
        "\n",
        "prom\n"
      ],
      "id": "exotic-failure",
      "execution_count": null,
      "outputs": [
        {
          "data": {
            "text/plain": [
              "rank                                                           2\n",
              "genre                                   Adventure,Mystery,Sci-Fi\n",
              "description    Following clues to the origin of mankind, a te...\n",
              "director                                            Ridley Scott\n",
              "actors         Noomi Rapace, Logan Marshall-Green, Michael Fa...\n",
              "year                                                        2012\n",
              "runtime                                                      124\n",
              "rating                                                         7\n",
              "votes                                                     485820\n",
              "revenue                                                   126.46\n",
              "metascore                                                     65\n",
              "Name: Prometheus, dtype: object"
            ]
          },
          "execution_count": 54,
          "metadata": {},
          "output_type": "execute_result"
        }
      ]
    },
    {
      "cell_type": "code",
      "metadata": {
        "id": "breathing-lloyd",
        "outputId": "9b187265-dc63-443a-f590-0ac51068c417"
      },
      "source": [
        "prom = df.iloc[1]\n",
        "prom"
      ],
      "id": "breathing-lloyd",
      "execution_count": null,
      "outputs": [
        {
          "data": {
            "text/plain": [
              "rank                                                           2\n",
              "genre                                   Adventure,Mystery,Sci-Fi\n",
              "description    Following clues to the origin of mankind, a te...\n",
              "director                                            Ridley Scott\n",
              "actors         Noomi Rapace, Logan Marshall-Green, Michael Fa...\n",
              "year                                                        2012\n",
              "runtime                                                      124\n",
              "rating                                                         7\n",
              "votes                                                     485820\n",
              "revenue                                                   126.46\n",
              "metascore                                                     65\n",
              "Name: Prometheus, dtype: object"
            ]
          },
          "execution_count": 56,
          "metadata": {},
          "output_type": "execute_result"
        }
      ]
    },
    {
      "cell_type": "code",
      "metadata": {
        "id": "careful-mambo",
        "outputId": "770d5723-df8b-49d5-da66-45a8715ca293"
      },
      "source": [
        "movie_subset = df.loc['Prometheus':'Sing']\n",
        "\n",
        "movie_subset = df.iloc[1:4]\n",
        "movie_subset"
      ],
      "id": "careful-mambo",
      "execution_count": null,
      "outputs": [
        {
          "data": {
            "text/html": [
              "<div>\n",
              "<style scoped>\n",
              "    .dataframe tbody tr th:only-of-type {\n",
              "        vertical-align: middle;\n",
              "    }\n",
              "\n",
              "    .dataframe tbody tr th {\n",
              "        vertical-align: top;\n",
              "    }\n",
              "\n",
              "    .dataframe thead th {\n",
              "        text-align: right;\n",
              "    }\n",
              "</style>\n",
              "<table border=\"1\" class=\"dataframe\">\n",
              "  <thead>\n",
              "    <tr style=\"text-align: right;\">\n",
              "      <th></th>\n",
              "      <th>rank</th>\n",
              "      <th>genre</th>\n",
              "      <th>description</th>\n",
              "      <th>director</th>\n",
              "      <th>actors</th>\n",
              "      <th>year</th>\n",
              "      <th>runtime</th>\n",
              "      <th>rating</th>\n",
              "      <th>votes</th>\n",
              "      <th>revenue</th>\n",
              "      <th>metascore</th>\n",
              "    </tr>\n",
              "    <tr>\n",
              "      <th>Title</th>\n",
              "      <th></th>\n",
              "      <th></th>\n",
              "      <th></th>\n",
              "      <th></th>\n",
              "      <th></th>\n",
              "      <th></th>\n",
              "      <th></th>\n",
              "      <th></th>\n",
              "      <th></th>\n",
              "      <th></th>\n",
              "      <th></th>\n",
              "    </tr>\n",
              "  </thead>\n",
              "  <tbody>\n",
              "    <tr>\n",
              "      <th>Prometheus</th>\n",
              "      <td>2</td>\n",
              "      <td>Adventure,Mystery,Sci-Fi</td>\n",
              "      <td>Following clues to the origin of mankind, a te...</td>\n",
              "      <td>Ridley Scott</td>\n",
              "      <td>Noomi Rapace, Logan Marshall-Green, Michael Fa...</td>\n",
              "      <td>2012</td>\n",
              "      <td>124</td>\n",
              "      <td>7.0</td>\n",
              "      <td>485820</td>\n",
              "      <td>126.46</td>\n",
              "      <td>65.0</td>\n",
              "    </tr>\n",
              "    <tr>\n",
              "      <th>Split</th>\n",
              "      <td>3</td>\n",
              "      <td>Horror,Thriller</td>\n",
              "      <td>Three girls are kidnapped by a man with a diag...</td>\n",
              "      <td>M. Night Shyamalan</td>\n",
              "      <td>James McAvoy, Anya Taylor-Joy, Haley Lu Richar...</td>\n",
              "      <td>2016</td>\n",
              "      <td>117</td>\n",
              "      <td>7.3</td>\n",
              "      <td>157606</td>\n",
              "      <td>138.12</td>\n",
              "      <td>62.0</td>\n",
              "    </tr>\n",
              "    <tr>\n",
              "      <th>Sing</th>\n",
              "      <td>4</td>\n",
              "      <td>Animation,Comedy,Family</td>\n",
              "      <td>In a city of humanoid animals, a hustling thea...</td>\n",
              "      <td>Christophe Lourdelet</td>\n",
              "      <td>Matthew McConaughey,Reese Witherspoon, Seth Ma...</td>\n",
              "      <td>2016</td>\n",
              "      <td>108</td>\n",
              "      <td>7.2</td>\n",
              "      <td>60545</td>\n",
              "      <td>270.32</td>\n",
              "      <td>59.0</td>\n",
              "    </tr>\n",
              "  </tbody>\n",
              "</table>\n",
              "</div>"
            ],
            "text/plain": [
              "            rank                     genre  \\\n",
              "Title                                        \n",
              "Prometheus     2  Adventure,Mystery,Sci-Fi   \n",
              "Split          3           Horror,Thriller   \n",
              "Sing           4   Animation,Comedy,Family   \n",
              "\n",
              "                                                  description  \\\n",
              "Title                                                           \n",
              "Prometheus  Following clues to the origin of mankind, a te...   \n",
              "Split       Three girls are kidnapped by a man with a diag...   \n",
              "Sing        In a city of humanoid animals, a hustling thea...   \n",
              "\n",
              "                        director  \\\n",
              "Title                              \n",
              "Prometheus          Ridley Scott   \n",
              "Split         M. Night Shyamalan   \n",
              "Sing        Christophe Lourdelet   \n",
              "\n",
              "                                                       actors  year  runtime  \\\n",
              "Title                                                                          \n",
              "Prometheus  Noomi Rapace, Logan Marshall-Green, Michael Fa...  2012      124   \n",
              "Split       James McAvoy, Anya Taylor-Joy, Haley Lu Richar...  2016      117   \n",
              "Sing        Matthew McConaughey,Reese Witherspoon, Seth Ma...  2016      108   \n",
              "\n",
              "            rating   votes  revenue  metascore  \n",
              "Title                                           \n",
              "Prometheus     7.0  485820   126.46       65.0  \n",
              "Split          7.3  157606   138.12       62.0  \n",
              "Sing           7.2   60545   270.32       59.0  "
            ]
          },
          "execution_count": 58,
          "metadata": {},
          "output_type": "execute_result"
        }
      ]
    },
    {
      "cell_type": "markdown",
      "metadata": {
        "id": "x-hdHNzBitYl"
      },
      "source": [
        "By condition"
      ],
      "id": "x-hdHNzBitYl"
    },
    {
      "cell_type": "code",
      "metadata": {
        "id": "unexpected-venice",
        "outputId": "ba0b1d4e-15e5-4d61-a073-e4f3853d934f"
      },
      "source": [
        "condition = (df['director'] == \"Ridley Scott\")\n",
        "\n",
        "condition.head()\n"
      ],
      "id": "unexpected-venice",
      "execution_count": null,
      "outputs": [
        {
          "data": {
            "text/plain": [
              "Title\n",
              "Guardians of the Galaxy    False\n",
              "Prometheus                  True\n",
              "Split                      False\n",
              "Sing                       False\n",
              "Suicide Squad              False\n",
              "Name: director, dtype: bool"
            ]
          },
          "execution_count": 60,
          "metadata": {},
          "output_type": "execute_result"
        }
      ]
    },
    {
      "cell_type": "code",
      "metadata": {
        "id": "hungarian-liberty",
        "outputId": "f39ca30b-2d83-476a-895c-f10240e743fe"
      },
      "source": [
        "df[df['rating'] >= 8.6].head(3)"
      ],
      "id": "hungarian-liberty",
      "execution_count": null,
      "outputs": [
        {
          "data": {
            "text/html": [
              "<div>\n",
              "<style scoped>\n",
              "    .dataframe tbody tr th:only-of-type {\n",
              "        vertical-align: middle;\n",
              "    }\n",
              "\n",
              "    .dataframe tbody tr th {\n",
              "        vertical-align: top;\n",
              "    }\n",
              "\n",
              "    .dataframe thead th {\n",
              "        text-align: right;\n",
              "    }\n",
              "</style>\n",
              "<table border=\"1\" class=\"dataframe\">\n",
              "  <thead>\n",
              "    <tr style=\"text-align: right;\">\n",
              "      <th></th>\n",
              "      <th>rank</th>\n",
              "      <th>genre</th>\n",
              "      <th>description</th>\n",
              "      <th>director</th>\n",
              "      <th>actors</th>\n",
              "      <th>year</th>\n",
              "      <th>runtime</th>\n",
              "      <th>rating</th>\n",
              "      <th>votes</th>\n",
              "      <th>revenue</th>\n",
              "      <th>metascore</th>\n",
              "    </tr>\n",
              "    <tr>\n",
              "      <th>Title</th>\n",
              "      <th></th>\n",
              "      <th></th>\n",
              "      <th></th>\n",
              "      <th></th>\n",
              "      <th></th>\n",
              "      <th></th>\n",
              "      <th></th>\n",
              "      <th></th>\n",
              "      <th></th>\n",
              "      <th></th>\n",
              "      <th></th>\n",
              "    </tr>\n",
              "  </thead>\n",
              "  <tbody>\n",
              "    <tr>\n",
              "      <th>Interstellar</th>\n",
              "      <td>37</td>\n",
              "      <td>Adventure,Drama,Sci-Fi</td>\n",
              "      <td>A team of explorers travel through a wormhole ...</td>\n",
              "      <td>Christopher Nolan</td>\n",
              "      <td>Matthew McConaughey, Anne Hathaway, Jessica Ch...</td>\n",
              "      <td>2014</td>\n",
              "      <td>169</td>\n",
              "      <td>8.6</td>\n",
              "      <td>1047747</td>\n",
              "      <td>187.99</td>\n",
              "      <td>74.0</td>\n",
              "    </tr>\n",
              "    <tr>\n",
              "      <th>The Dark Knight</th>\n",
              "      <td>55</td>\n",
              "      <td>Action,Crime,Drama</td>\n",
              "      <td>When the menace known as the Joker wreaks havo...</td>\n",
              "      <td>Christopher Nolan</td>\n",
              "      <td>Christian Bale, Heath Ledger, Aaron Eckhart,Mi...</td>\n",
              "      <td>2008</td>\n",
              "      <td>152</td>\n",
              "      <td>9.0</td>\n",
              "      <td>1791916</td>\n",
              "      <td>533.32</td>\n",
              "      <td>82.0</td>\n",
              "    </tr>\n",
              "    <tr>\n",
              "      <th>Inception</th>\n",
              "      <td>81</td>\n",
              "      <td>Action,Adventure,Sci-Fi</td>\n",
              "      <td>A thief, who steals corporate secrets through ...</td>\n",
              "      <td>Christopher Nolan</td>\n",
              "      <td>Leonardo DiCaprio, Joseph Gordon-Levitt, Ellen...</td>\n",
              "      <td>2010</td>\n",
              "      <td>148</td>\n",
              "      <td>8.8</td>\n",
              "      <td>1583625</td>\n",
              "      <td>292.57</td>\n",
              "      <td>74.0</td>\n",
              "    </tr>\n",
              "  </tbody>\n",
              "</table>\n",
              "</div>"
            ],
            "text/plain": [
              "                 rank                    genre  \\\n",
              "Title                                            \n",
              "Interstellar       37   Adventure,Drama,Sci-Fi   \n",
              "The Dark Knight    55       Action,Crime,Drama   \n",
              "Inception          81  Action,Adventure,Sci-Fi   \n",
              "\n",
              "                                                       description  \\\n",
              "Title                                                                \n",
              "Interstellar     A team of explorers travel through a wormhole ...   \n",
              "The Dark Knight  When the menace known as the Joker wreaks havo...   \n",
              "Inception        A thief, who steals corporate secrets through ...   \n",
              "\n",
              "                          director  \\\n",
              "Title                                \n",
              "Interstellar     Christopher Nolan   \n",
              "The Dark Knight  Christopher Nolan   \n",
              "Inception        Christopher Nolan   \n",
              "\n",
              "                                                            actors  year  \\\n",
              "Title                                                                      \n",
              "Interstellar     Matthew McConaughey, Anne Hathaway, Jessica Ch...  2014   \n",
              "The Dark Knight  Christian Bale, Heath Ledger, Aaron Eckhart,Mi...  2008   \n",
              "Inception        Leonardo DiCaprio, Joseph Gordon-Levitt, Ellen...  2010   \n",
              "\n",
              "                 runtime  rating    votes  revenue  metascore  \n",
              "Title                                                          \n",
              "Interstellar         169     8.6  1047747   187.99       74.0  \n",
              "The Dark Knight      152     9.0  1791916   533.32       82.0  \n",
              "Inception            148     8.8  1583625   292.57       74.0  "
            ]
          },
          "execution_count": 63,
          "metadata": {},
          "output_type": "execute_result"
        }
      ]
    },
    {
      "cell_type": "code",
      "metadata": {
        "id": "changed-angle",
        "outputId": "f2b2b477-a885-436a-94d7-847ebbafc8ef"
      },
      "source": [
        "df[(df['director'] == 'Christopher Nolan') | (df['director'] == 'Ridley Scott')].head()"
      ],
      "id": "changed-angle",
      "execution_count": null,
      "outputs": [
        {
          "data": {
            "text/html": [
              "<div>\n",
              "<style scoped>\n",
              "    .dataframe tbody tr th:only-of-type {\n",
              "        vertical-align: middle;\n",
              "    }\n",
              "\n",
              "    .dataframe tbody tr th {\n",
              "        vertical-align: top;\n",
              "    }\n",
              "\n",
              "    .dataframe thead th {\n",
              "        text-align: right;\n",
              "    }\n",
              "</style>\n",
              "<table border=\"1\" class=\"dataframe\">\n",
              "  <thead>\n",
              "    <tr style=\"text-align: right;\">\n",
              "      <th></th>\n",
              "      <th>rank</th>\n",
              "      <th>genre</th>\n",
              "      <th>description</th>\n",
              "      <th>director</th>\n",
              "      <th>actors</th>\n",
              "      <th>year</th>\n",
              "      <th>runtime</th>\n",
              "      <th>rating</th>\n",
              "      <th>votes</th>\n",
              "      <th>revenue</th>\n",
              "      <th>metascore</th>\n",
              "    </tr>\n",
              "    <tr>\n",
              "      <th>Title</th>\n",
              "      <th></th>\n",
              "      <th></th>\n",
              "      <th></th>\n",
              "      <th></th>\n",
              "      <th></th>\n",
              "      <th></th>\n",
              "      <th></th>\n",
              "      <th></th>\n",
              "      <th></th>\n",
              "      <th></th>\n",
              "      <th></th>\n",
              "    </tr>\n",
              "  </thead>\n",
              "  <tbody>\n",
              "    <tr>\n",
              "      <th>Prometheus</th>\n",
              "      <td>2</td>\n",
              "      <td>Adventure,Mystery,Sci-Fi</td>\n",
              "      <td>Following clues to the origin of mankind, a te...</td>\n",
              "      <td>Ridley Scott</td>\n",
              "      <td>Noomi Rapace, Logan Marshall-Green, Michael Fa...</td>\n",
              "      <td>2012</td>\n",
              "      <td>124</td>\n",
              "      <td>7.0</td>\n",
              "      <td>485820</td>\n",
              "      <td>126.46</td>\n",
              "      <td>65.0</td>\n",
              "    </tr>\n",
              "    <tr>\n",
              "      <th>Interstellar</th>\n",
              "      <td>37</td>\n",
              "      <td>Adventure,Drama,Sci-Fi</td>\n",
              "      <td>A team of explorers travel through a wormhole ...</td>\n",
              "      <td>Christopher Nolan</td>\n",
              "      <td>Matthew McConaughey, Anne Hathaway, Jessica Ch...</td>\n",
              "      <td>2014</td>\n",
              "      <td>169</td>\n",
              "      <td>8.6</td>\n",
              "      <td>1047747</td>\n",
              "      <td>187.99</td>\n",
              "      <td>74.0</td>\n",
              "    </tr>\n",
              "    <tr>\n",
              "      <th>The Dark Knight</th>\n",
              "      <td>55</td>\n",
              "      <td>Action,Crime,Drama</td>\n",
              "      <td>When the menace known as the Joker wreaks havo...</td>\n",
              "      <td>Christopher Nolan</td>\n",
              "      <td>Christian Bale, Heath Ledger, Aaron Eckhart,Mi...</td>\n",
              "      <td>2008</td>\n",
              "      <td>152</td>\n",
              "      <td>9.0</td>\n",
              "      <td>1791916</td>\n",
              "      <td>533.32</td>\n",
              "      <td>82.0</td>\n",
              "    </tr>\n",
              "    <tr>\n",
              "      <th>The Prestige</th>\n",
              "      <td>65</td>\n",
              "      <td>Drama,Mystery,Sci-Fi</td>\n",
              "      <td>Two stage magicians engage in competitive one-...</td>\n",
              "      <td>Christopher Nolan</td>\n",
              "      <td>Christian Bale, Hugh Jackman, Scarlett Johanss...</td>\n",
              "      <td>2006</td>\n",
              "      <td>130</td>\n",
              "      <td>8.5</td>\n",
              "      <td>913152</td>\n",
              "      <td>53.08</td>\n",
              "      <td>66.0</td>\n",
              "    </tr>\n",
              "    <tr>\n",
              "      <th>Inception</th>\n",
              "      <td>81</td>\n",
              "      <td>Action,Adventure,Sci-Fi</td>\n",
              "      <td>A thief, who steals corporate secrets through ...</td>\n",
              "      <td>Christopher Nolan</td>\n",
              "      <td>Leonardo DiCaprio, Joseph Gordon-Levitt, Ellen...</td>\n",
              "      <td>2010</td>\n",
              "      <td>148</td>\n",
              "      <td>8.8</td>\n",
              "      <td>1583625</td>\n",
              "      <td>292.57</td>\n",
              "      <td>74.0</td>\n",
              "    </tr>\n",
              "  </tbody>\n",
              "</table>\n",
              "</div>"
            ],
            "text/plain": [
              "                 rank                     genre  \\\n",
              "Title                                             \n",
              "Prometheus          2  Adventure,Mystery,Sci-Fi   \n",
              "Interstellar       37    Adventure,Drama,Sci-Fi   \n",
              "The Dark Knight    55        Action,Crime,Drama   \n",
              "The Prestige       65      Drama,Mystery,Sci-Fi   \n",
              "Inception          81   Action,Adventure,Sci-Fi   \n",
              "\n",
              "                                                       description  \\\n",
              "Title                                                                \n",
              "Prometheus       Following clues to the origin of mankind, a te...   \n",
              "Interstellar     A team of explorers travel through a wormhole ...   \n",
              "The Dark Knight  When the menace known as the Joker wreaks havo...   \n",
              "The Prestige     Two stage magicians engage in competitive one-...   \n",
              "Inception        A thief, who steals corporate secrets through ...   \n",
              "\n",
              "                          director  \\\n",
              "Title                                \n",
              "Prometheus            Ridley Scott   \n",
              "Interstellar     Christopher Nolan   \n",
              "The Dark Knight  Christopher Nolan   \n",
              "The Prestige     Christopher Nolan   \n",
              "Inception        Christopher Nolan   \n",
              "\n",
              "                                                            actors  year  \\\n",
              "Title                                                                      \n",
              "Prometheus       Noomi Rapace, Logan Marshall-Green, Michael Fa...  2012   \n",
              "Interstellar     Matthew McConaughey, Anne Hathaway, Jessica Ch...  2014   \n",
              "The Dark Knight  Christian Bale, Heath Ledger, Aaron Eckhart,Mi...  2008   \n",
              "The Prestige     Christian Bale, Hugh Jackman, Scarlett Johanss...  2006   \n",
              "Inception        Leonardo DiCaprio, Joseph Gordon-Levitt, Ellen...  2010   \n",
              "\n",
              "                 runtime  rating    votes  revenue  metascore  \n",
              "Title                                                          \n",
              "Prometheus           124     7.0   485820   126.46       65.0  \n",
              "Interstellar         169     8.6  1047747   187.99       74.0  \n",
              "The Dark Knight      152     9.0  1791916   533.32       82.0  \n",
              "The Prestige         130     8.5   913152    53.08       66.0  \n",
              "Inception            148     8.8  1583625   292.57       74.0  "
            ]
          },
          "execution_count": 64,
          "metadata": {},
          "output_type": "execute_result"
        }
      ]
    },
    {
      "cell_type": "markdown",
      "metadata": {
        "id": "vdGUQLDoi3dI"
      },
      "source": [
        "Using functions in slicing"
      ],
      "id": "vdGUQLDoi3dI"
    },
    {
      "cell_type": "code",
      "metadata": {
        "id": "incorporate-albany",
        "outputId": "16842f77-3161-47c1-bf08-c537ac1d656f"
      },
      "source": [
        "def rating_function(x):\n",
        "    if x >= 8.0:\n",
        "        return \"good\"\n",
        "    else:\n",
        "        return \"bad\"\n",
        "\n",
        "df[\"rating_category\"] = df[\"rating\"].apply(rating_function)\n",
        "\n",
        "df.head(2)\n"
      ],
      "id": "incorporate-albany",
      "execution_count": null,
      "outputs": [
        {
          "data": {
            "text/html": [
              "<div>\n",
              "<style scoped>\n",
              "    .dataframe tbody tr th:only-of-type {\n",
              "        vertical-align: middle;\n",
              "    }\n",
              "\n",
              "    .dataframe tbody tr th {\n",
              "        vertical-align: top;\n",
              "    }\n",
              "\n",
              "    .dataframe thead th {\n",
              "        text-align: right;\n",
              "    }\n",
              "</style>\n",
              "<table border=\"1\" class=\"dataframe\">\n",
              "  <thead>\n",
              "    <tr style=\"text-align: right;\">\n",
              "      <th></th>\n",
              "      <th>rank</th>\n",
              "      <th>genre</th>\n",
              "      <th>description</th>\n",
              "      <th>director</th>\n",
              "      <th>actors</th>\n",
              "      <th>year</th>\n",
              "      <th>runtime</th>\n",
              "      <th>rating</th>\n",
              "      <th>votes</th>\n",
              "      <th>revenue</th>\n",
              "      <th>metascore</th>\n",
              "      <th>rating_category</th>\n",
              "    </tr>\n",
              "    <tr>\n",
              "      <th>Title</th>\n",
              "      <th></th>\n",
              "      <th></th>\n",
              "      <th></th>\n",
              "      <th></th>\n",
              "      <th></th>\n",
              "      <th></th>\n",
              "      <th></th>\n",
              "      <th></th>\n",
              "      <th></th>\n",
              "      <th></th>\n",
              "      <th></th>\n",
              "      <th></th>\n",
              "    </tr>\n",
              "  </thead>\n",
              "  <tbody>\n",
              "    <tr>\n",
              "      <th>Guardians of the Galaxy</th>\n",
              "      <td>1</td>\n",
              "      <td>Action,Adventure,Sci-Fi</td>\n",
              "      <td>A group of intergalactic criminals are forced ...</td>\n",
              "      <td>James Gunn</td>\n",
              "      <td>Chris Pratt, Vin Diesel, Bradley Cooper, Zoe S...</td>\n",
              "      <td>2014</td>\n",
              "      <td>121</td>\n",
              "      <td>8.1</td>\n",
              "      <td>757074</td>\n",
              "      <td>333.13</td>\n",
              "      <td>76.0</td>\n",
              "      <td>good</td>\n",
              "    </tr>\n",
              "    <tr>\n",
              "      <th>Prometheus</th>\n",
              "      <td>2</td>\n",
              "      <td>Adventure,Mystery,Sci-Fi</td>\n",
              "      <td>Following clues to the origin of mankind, a te...</td>\n",
              "      <td>Ridley Scott</td>\n",
              "      <td>Noomi Rapace, Logan Marshall-Green, Michael Fa...</td>\n",
              "      <td>2012</td>\n",
              "      <td>124</td>\n",
              "      <td>7.0</td>\n",
              "      <td>485820</td>\n",
              "      <td>126.46</td>\n",
              "      <td>65.0</td>\n",
              "      <td>bad</td>\n",
              "    </tr>\n",
              "  </tbody>\n",
              "</table>\n",
              "</div>"
            ],
            "text/plain": [
              "                         rank                     genre  \\\n",
              "Title                                                     \n",
              "Guardians of the Galaxy     1   Action,Adventure,Sci-Fi   \n",
              "Prometheus                  2  Adventure,Mystery,Sci-Fi   \n",
              "\n",
              "                                                               description  \\\n",
              "Title                                                                        \n",
              "Guardians of the Galaxy  A group of intergalactic criminals are forced ...   \n",
              "Prometheus               Following clues to the origin of mankind, a te...   \n",
              "\n",
              "                             director  \\\n",
              "Title                                   \n",
              "Guardians of the Galaxy    James Gunn   \n",
              "Prometheus               Ridley Scott   \n",
              "\n",
              "                                                                    actors  \\\n",
              "Title                                                                        \n",
              "Guardians of the Galaxy  Chris Pratt, Vin Diesel, Bradley Cooper, Zoe S...   \n",
              "Prometheus               Noomi Rapace, Logan Marshall-Green, Michael Fa...   \n",
              "\n",
              "                         year  runtime  rating   votes  revenue  metascore  \\\n",
              "Title                                                                        \n",
              "Guardians of the Galaxy  2014      121     8.1  757074   333.13       76.0   \n",
              "Prometheus               2012      124     7.0  485820   126.46       65.0   \n",
              "\n",
              "                        rating_category  \n",
              "Title                                    \n",
              "Guardians of the Galaxy            good  \n",
              "Prometheus                          bad  "
            ]
          },
          "execution_count": 65,
          "metadata": {},
          "output_type": "execute_result"
        }
      ]
    },
    {
      "cell_type": "markdown",
      "metadata": {
        "id": "f3dRsxy5jA30"
      },
      "source": [
        "### Data cleaning"
      ],
      "id": "f3dRsxy5jA30"
    },
    {
      "cell_type": "markdown",
      "metadata": {
        "id": "u5Qra-U0jOtC"
      },
      "source": [
        "Dropping columns"
      ],
      "id": "u5Qra-U0jOtC"
    },
    {
      "cell_type": "code",
      "metadata": {
        "colab": {
          "base_uri": "https://localhost:8080/",
          "height": 521
        },
        "id": "infinite-tribe",
        "outputId": "bb99eed3-c654-4161-983f-d28875470d32"
      },
      "source": [
        "df = pd.read_csv('BL-Flickr-Images-Book.csv')\n",
        "df.head()\n"
      ],
      "id": "infinite-tribe",
      "execution_count": 10,
      "outputs": [
        {
          "output_type": "execute_result",
          "data": {
            "text/html": [
              "<div>\n",
              "<style scoped>\n",
              "    .dataframe tbody tr th:only-of-type {\n",
              "        vertical-align: middle;\n",
              "    }\n",
              "\n",
              "    .dataframe tbody tr th {\n",
              "        vertical-align: top;\n",
              "    }\n",
              "\n",
              "    .dataframe thead th {\n",
              "        text-align: right;\n",
              "    }\n",
              "</style>\n",
              "<table border=\"1\" class=\"dataframe\">\n",
              "  <thead>\n",
              "    <tr style=\"text-align: right;\">\n",
              "      <th></th>\n",
              "      <th>Identifier</th>\n",
              "      <th>Edition Statement</th>\n",
              "      <th>Place of Publication</th>\n",
              "      <th>Date of Publication</th>\n",
              "      <th>Publisher</th>\n",
              "      <th>Title</th>\n",
              "      <th>Author</th>\n",
              "      <th>Contributors</th>\n",
              "      <th>Corporate Author</th>\n",
              "      <th>Corporate Contributors</th>\n",
              "      <th>Former owner</th>\n",
              "      <th>Engraver</th>\n",
              "      <th>Issuance type</th>\n",
              "      <th>Flickr URL</th>\n",
              "      <th>Shelfmarks</th>\n",
              "    </tr>\n",
              "  </thead>\n",
              "  <tbody>\n",
              "    <tr>\n",
              "      <th>0</th>\n",
              "      <td>206</td>\n",
              "      <td>NaN</td>\n",
              "      <td>London</td>\n",
              "      <td>1879 [1878]</td>\n",
              "      <td>S. Tinsley &amp; Co.</td>\n",
              "      <td>Walter Forbes. [A novel.] By A. A</td>\n",
              "      <td>A. A.</td>\n",
              "      <td>FORBES, Walter.</td>\n",
              "      <td>NaN</td>\n",
              "      <td>NaN</td>\n",
              "      <td>NaN</td>\n",
              "      <td>NaN</td>\n",
              "      <td>monographic</td>\n",
              "      <td>http://www.flickr.com/photos/britishlibrary/ta...</td>\n",
              "      <td>British Library HMNTS 12641.b.30.</td>\n",
              "    </tr>\n",
              "    <tr>\n",
              "      <th>1</th>\n",
              "      <td>216</td>\n",
              "      <td>NaN</td>\n",
              "      <td>London; Virtue &amp; Yorston</td>\n",
              "      <td>1868</td>\n",
              "      <td>Virtue &amp; Co.</td>\n",
              "      <td>All for Greed. [A novel. The dedication signed...</td>\n",
              "      <td>A., A. A.</td>\n",
              "      <td>BLAZE DE BURY, Marie Pauline Rose - Baroness</td>\n",
              "      <td>NaN</td>\n",
              "      <td>NaN</td>\n",
              "      <td>NaN</td>\n",
              "      <td>NaN</td>\n",
              "      <td>monographic</td>\n",
              "      <td>http://www.flickr.com/photos/britishlibrary/ta...</td>\n",
              "      <td>British Library HMNTS 12626.cc.2.</td>\n",
              "    </tr>\n",
              "    <tr>\n",
              "      <th>2</th>\n",
              "      <td>218</td>\n",
              "      <td>NaN</td>\n",
              "      <td>London</td>\n",
              "      <td>1869</td>\n",
              "      <td>Bradbury, Evans &amp; Co.</td>\n",
              "      <td>Love the Avenger. By the author of “All for Gr...</td>\n",
              "      <td>A., A. A.</td>\n",
              "      <td>BLAZE DE BURY, Marie Pauline Rose - Baroness</td>\n",
              "      <td>NaN</td>\n",
              "      <td>NaN</td>\n",
              "      <td>NaN</td>\n",
              "      <td>NaN</td>\n",
              "      <td>monographic</td>\n",
              "      <td>http://www.flickr.com/photos/britishlibrary/ta...</td>\n",
              "      <td>British Library HMNTS 12625.dd.1.</td>\n",
              "    </tr>\n",
              "    <tr>\n",
              "      <th>3</th>\n",
              "      <td>472</td>\n",
              "      <td>NaN</td>\n",
              "      <td>London</td>\n",
              "      <td>1851</td>\n",
              "      <td>James Darling</td>\n",
              "      <td>Welsh Sketches, chiefly ecclesiastical, to the...</td>\n",
              "      <td>A., E. S.</td>\n",
              "      <td>Appleyard, Ernest Silvanus.</td>\n",
              "      <td>NaN</td>\n",
              "      <td>NaN</td>\n",
              "      <td>NaN</td>\n",
              "      <td>NaN</td>\n",
              "      <td>monographic</td>\n",
              "      <td>http://www.flickr.com/photos/britishlibrary/ta...</td>\n",
              "      <td>British Library HMNTS 10369.bbb.15.</td>\n",
              "    </tr>\n",
              "    <tr>\n",
              "      <th>4</th>\n",
              "      <td>480</td>\n",
              "      <td>A new edition, revised, etc.</td>\n",
              "      <td>London</td>\n",
              "      <td>1857</td>\n",
              "      <td>Wertheim &amp; Macintosh</td>\n",
              "      <td>[The World in which I live, and my place in it...</td>\n",
              "      <td>A., E. S.</td>\n",
              "      <td>BROOME, John Henry.</td>\n",
              "      <td>NaN</td>\n",
              "      <td>NaN</td>\n",
              "      <td>NaN</td>\n",
              "      <td>NaN</td>\n",
              "      <td>monographic</td>\n",
              "      <td>http://www.flickr.com/photos/britishlibrary/ta...</td>\n",
              "      <td>British Library HMNTS 9007.d.28.</td>\n",
              "    </tr>\n",
              "  </tbody>\n",
              "</table>\n",
              "</div>"
            ],
            "text/plain": [
              "   Identifier  ...                           Shelfmarks\n",
              "0         206  ...    British Library HMNTS 12641.b.30.\n",
              "1         216  ...    British Library HMNTS 12626.cc.2.\n",
              "2         218  ...    British Library HMNTS 12625.dd.1.\n",
              "3         472  ...  British Library HMNTS 10369.bbb.15.\n",
              "4         480  ...     British Library HMNTS 9007.d.28.\n",
              "\n",
              "[5 rows x 15 columns]"
            ]
          },
          "metadata": {},
          "execution_count": 10
        }
      ]
    },
    {
      "cell_type": "code",
      "metadata": {
        "id": "utility-fault"
      },
      "source": [
        "to_drop = ['Edition Statement',\n",
        "           'Corporate Author',\n",
        "           'Corporate Contributors',\n",
        "           'Former owner',\n",
        "           'Engraver',\n",
        "           'Contributors',\n",
        "           'Issuance type',\n",
        "           'Shelfmarks']\n",
        "\n",
        "df.drop(to_drop, inplace=True, axis=1)\n",
        "#df.drop(columns=to_drop, inplace=True)"
      ],
      "id": "utility-fault",
      "execution_count": 21,
      "outputs": []
    },
    {
      "cell_type": "code",
      "metadata": {
        "id": "mineral-transport",
        "outputId": "50c6cd93-b8a8-4861-f1b9-ab27e360bbcc"
      },
      "source": [
        "df.head()"
      ],
      "id": "mineral-transport",
      "execution_count": null,
      "outputs": [
        {
          "data": {
            "text/html": [
              "<div>\n",
              "<style scoped>\n",
              "    .dataframe tbody tr th:only-of-type {\n",
              "        vertical-align: middle;\n",
              "    }\n",
              "\n",
              "    .dataframe tbody tr th {\n",
              "        vertical-align: top;\n",
              "    }\n",
              "\n",
              "    .dataframe thead th {\n",
              "        text-align: right;\n",
              "    }\n",
              "</style>\n",
              "<table border=\"1\" class=\"dataframe\">\n",
              "  <thead>\n",
              "    <tr style=\"text-align: right;\">\n",
              "      <th></th>\n",
              "      <th>Identifier</th>\n",
              "      <th>Place of Publication</th>\n",
              "      <th>Date of Publication</th>\n",
              "      <th>Publisher</th>\n",
              "      <th>Title</th>\n",
              "      <th>Author</th>\n",
              "      <th>Flickr URL</th>\n",
              "    </tr>\n",
              "  </thead>\n",
              "  <tbody>\n",
              "    <tr>\n",
              "      <th>0</th>\n",
              "      <td>206</td>\n",
              "      <td>London</td>\n",
              "      <td>1879 [1878]</td>\n",
              "      <td>S. Tinsley &amp; Co.</td>\n",
              "      <td>Walter Forbes. [A novel.] By A. A</td>\n",
              "      <td>A. A.</td>\n",
              "      <td>http://www.flickr.com/photos/britishlibrary/ta...</td>\n",
              "    </tr>\n",
              "    <tr>\n",
              "      <th>1</th>\n",
              "      <td>216</td>\n",
              "      <td>London; Virtue &amp; Yorston</td>\n",
              "      <td>1868</td>\n",
              "      <td>Virtue &amp; Co.</td>\n",
              "      <td>All for Greed. [A novel. The dedication signed...</td>\n",
              "      <td>A., A. A.</td>\n",
              "      <td>http://www.flickr.com/photos/britishlibrary/ta...</td>\n",
              "    </tr>\n",
              "    <tr>\n",
              "      <th>2</th>\n",
              "      <td>218</td>\n",
              "      <td>London</td>\n",
              "      <td>1869</td>\n",
              "      <td>Bradbury, Evans &amp; Co.</td>\n",
              "      <td>Love the Avenger. By the author of “All for Gr...</td>\n",
              "      <td>A., A. A.</td>\n",
              "      <td>http://www.flickr.com/photos/britishlibrary/ta...</td>\n",
              "    </tr>\n",
              "    <tr>\n",
              "      <th>3</th>\n",
              "      <td>472</td>\n",
              "      <td>London</td>\n",
              "      <td>1851</td>\n",
              "      <td>James Darling</td>\n",
              "      <td>Welsh Sketches, chiefly ecclesiastical, to the...</td>\n",
              "      <td>A., E. S.</td>\n",
              "      <td>http://www.flickr.com/photos/britishlibrary/ta...</td>\n",
              "    </tr>\n",
              "    <tr>\n",
              "      <th>4</th>\n",
              "      <td>480</td>\n",
              "      <td>London</td>\n",
              "      <td>1857</td>\n",
              "      <td>Wertheim &amp; Macintosh</td>\n",
              "      <td>[The World in which I live, and my place in it...</td>\n",
              "      <td>A., E. S.</td>\n",
              "      <td>http://www.flickr.com/photos/britishlibrary/ta...</td>\n",
              "    </tr>\n",
              "  </tbody>\n",
              "</table>\n",
              "</div>"
            ],
            "text/plain": [
              "   Identifier      Place of Publication Date of Publication  \\\n",
              "0         206                    London         1879 [1878]   \n",
              "1         216  London; Virtue & Yorston                1868   \n",
              "2         218                    London                1869   \n",
              "3         472                    London                1851   \n",
              "4         480                    London                1857   \n",
              "\n",
              "               Publisher                                              Title  \\\n",
              "0       S. Tinsley & Co.                  Walter Forbes. [A novel.] By A. A   \n",
              "1           Virtue & Co.  All for Greed. [A novel. The dedication signed...   \n",
              "2  Bradbury, Evans & Co.  Love the Avenger. By the author of “All for Gr...   \n",
              "3          James Darling  Welsh Sketches, chiefly ecclesiastical, to the...   \n",
              "4   Wertheim & Macintosh  [The World in which I live, and my place in it...   \n",
              "\n",
              "      Author                                         Flickr URL  \n",
              "0      A. A.  http://www.flickr.com/photos/britishlibrary/ta...  \n",
              "1  A., A. A.  http://www.flickr.com/photos/britishlibrary/ta...  \n",
              "2  A., A. A.  http://www.flickr.com/photos/britishlibrary/ta...  \n",
              "3  A., E. S.  http://www.flickr.com/photos/britishlibrary/ta...  \n",
              "4  A., E. S.  http://www.flickr.com/photos/britishlibrary/ta...  "
            ]
          },
          "execution_count": 32,
          "metadata": {},
          "output_type": "execute_result"
        }
      ]
    },
    {
      "cell_type": "markdown",
      "metadata": {
        "id": "48vni0ntjhqt"
      },
      "source": [
        "Changing index"
      ],
      "id": "48vni0ntjhqt"
    },
    {
      "cell_type": "code",
      "metadata": {
        "id": "correct-decline",
        "outputId": "fb901cab-0bb6-4e59-fe11-776ceaafa682"
      },
      "source": [
        "df['Identifier'].is_unique\n",
        "df = df.set_index('Identifier')\n",
        "df.head()"
      ],
      "id": "correct-decline",
      "execution_count": null,
      "outputs": [
        {
          "data": {
            "text/html": [
              "<div>\n",
              "<style scoped>\n",
              "    .dataframe tbody tr th:only-of-type {\n",
              "        vertical-align: middle;\n",
              "    }\n",
              "\n",
              "    .dataframe tbody tr th {\n",
              "        vertical-align: top;\n",
              "    }\n",
              "\n",
              "    .dataframe thead th {\n",
              "        text-align: right;\n",
              "    }\n",
              "</style>\n",
              "<table border=\"1\" class=\"dataframe\">\n",
              "  <thead>\n",
              "    <tr style=\"text-align: right;\">\n",
              "      <th></th>\n",
              "      <th>Place of Publication</th>\n",
              "      <th>Date of Publication</th>\n",
              "      <th>Publisher</th>\n",
              "      <th>Title</th>\n",
              "      <th>Author</th>\n",
              "      <th>Flickr URL</th>\n",
              "    </tr>\n",
              "    <tr>\n",
              "      <th>Identifier</th>\n",
              "      <th></th>\n",
              "      <th></th>\n",
              "      <th></th>\n",
              "      <th></th>\n",
              "      <th></th>\n",
              "      <th></th>\n",
              "    </tr>\n",
              "  </thead>\n",
              "  <tbody>\n",
              "    <tr>\n",
              "      <th>206</th>\n",
              "      <td>London</td>\n",
              "      <td>1879 [1878]</td>\n",
              "      <td>S. Tinsley &amp; Co.</td>\n",
              "      <td>Walter Forbes. [A novel.] By A. A</td>\n",
              "      <td>A. A.</td>\n",
              "      <td>http://www.flickr.com/photos/britishlibrary/ta...</td>\n",
              "    </tr>\n",
              "    <tr>\n",
              "      <th>216</th>\n",
              "      <td>London; Virtue &amp; Yorston</td>\n",
              "      <td>1868</td>\n",
              "      <td>Virtue &amp; Co.</td>\n",
              "      <td>All for Greed. [A novel. The dedication signed...</td>\n",
              "      <td>A., A. A.</td>\n",
              "      <td>http://www.flickr.com/photos/britishlibrary/ta...</td>\n",
              "    </tr>\n",
              "    <tr>\n",
              "      <th>218</th>\n",
              "      <td>London</td>\n",
              "      <td>1869</td>\n",
              "      <td>Bradbury, Evans &amp; Co.</td>\n",
              "      <td>Love the Avenger. By the author of “All for Gr...</td>\n",
              "      <td>A., A. A.</td>\n",
              "      <td>http://www.flickr.com/photos/britishlibrary/ta...</td>\n",
              "    </tr>\n",
              "    <tr>\n",
              "      <th>472</th>\n",
              "      <td>London</td>\n",
              "      <td>1851</td>\n",
              "      <td>James Darling</td>\n",
              "      <td>Welsh Sketches, chiefly ecclesiastical, to the...</td>\n",
              "      <td>A., E. S.</td>\n",
              "      <td>http://www.flickr.com/photos/britishlibrary/ta...</td>\n",
              "    </tr>\n",
              "    <tr>\n",
              "      <th>480</th>\n",
              "      <td>London</td>\n",
              "      <td>1857</td>\n",
              "      <td>Wertheim &amp; Macintosh</td>\n",
              "      <td>[The World in which I live, and my place in it...</td>\n",
              "      <td>A., E. S.</td>\n",
              "      <td>http://www.flickr.com/photos/britishlibrary/ta...</td>\n",
              "    </tr>\n",
              "  </tbody>\n",
              "</table>\n",
              "</div>"
            ],
            "text/plain": [
              "                Place of Publication Date of Publication  \\\n",
              "Identifier                                                 \n",
              "206                           London         1879 [1878]   \n",
              "216         London; Virtue & Yorston                1868   \n",
              "218                           London                1869   \n",
              "472                           London                1851   \n",
              "480                           London                1857   \n",
              "\n",
              "                        Publisher  \\\n",
              "Identifier                          \n",
              "206              S. Tinsley & Co.   \n",
              "216                  Virtue & Co.   \n",
              "218         Bradbury, Evans & Co.   \n",
              "472                 James Darling   \n",
              "480          Wertheim & Macintosh   \n",
              "\n",
              "                                                        Title     Author  \\\n",
              "Identifier                                                                 \n",
              "206                         Walter Forbes. [A novel.] By A. A      A. A.   \n",
              "216         All for Greed. [A novel. The dedication signed...  A., A. A.   \n",
              "218         Love the Avenger. By the author of “All for Gr...  A., A. A.   \n",
              "472         Welsh Sketches, chiefly ecclesiastical, to the...  A., E. S.   \n",
              "480         [The World in which I live, and my place in it...  A., E. S.   \n",
              "\n",
              "                                                   Flickr URL  \n",
              "Identifier                                                     \n",
              "206         http://www.flickr.com/photos/britishlibrary/ta...  \n",
              "216         http://www.flickr.com/photos/britishlibrary/ta...  \n",
              "218         http://www.flickr.com/photos/britishlibrary/ta...  \n",
              "472         http://www.flickr.com/photos/britishlibrary/ta...  \n",
              "480         http://www.flickr.com/photos/britishlibrary/ta...  "
            ]
          },
          "execution_count": 33,
          "metadata": {},
          "output_type": "execute_result"
        }
      ]
    },
    {
      "cell_type": "markdown",
      "metadata": {
        "id": "T9MDg_XPjo2S"
      },
      "source": [
        "Field tidying"
      ],
      "id": "T9MDg_XPjo2S"
    },
    {
      "cell_type": "code",
      "metadata": {
        "colab": {
          "base_uri": "https://localhost:8080/"
        },
        "id": "african-wilderness",
        "outputId": "feb35ba1-e55f-42e5-b003-97c3df5cd64d"
      },
      "source": [
        "extr = df['Date of Publication'].str.extract(r'^(\\d{4})', expand=False)\n",
        "extr.head()"
      ],
      "id": "african-wilderness",
      "execution_count": 20,
      "outputs": [
        {
          "output_type": "execute_result",
          "data": {
            "text/plain": [
              "0    1879\n",
              "1    1868\n",
              "2    1869\n",
              "3    1851\n",
              "4    1857\n",
              "Name: Date of Publication, dtype: object"
            ]
          },
          "metadata": {},
          "execution_count": 20
        }
      ]
    },
    {
      "cell_type": "code",
      "metadata": {
        "id": "adaptive-construction",
        "outputId": "bd34582d-b4aa-40d4-b3ef-2e264ddf074e"
      },
      "source": [
        "df['Date of Publication'] = pd.to_numeric(extr)\n",
        "df['Date of Publication'].dtype"
      ],
      "id": "adaptive-construction",
      "execution_count": null,
      "outputs": [
        {
          "data": {
            "text/plain": [
              "dtype('float64')"
            ]
          },
          "execution_count": 40,
          "metadata": {},
          "output_type": "execute_result"
        }
      ]
    },
    {
      "cell_type": "markdown",
      "metadata": {
        "id": "eeSjp0Nij5e9"
      },
      "source": [
        "Data cleaning with string methods and NumPy"
      ],
      "id": "eeSjp0Nij5e9"
    },
    {
      "cell_type": "code",
      "metadata": {
        "id": "legendary-paper",
        "outputId": "69a1076f-a7c6-467f-cd60-d09b6d53b28a"
      },
      "source": [
        "df.loc[4157862]"
      ],
      "id": "legendary-paper",
      "execution_count": null,
      "outputs": [
        {
          "data": {
            "text/plain": [
              "Place of Publication                                  Newcastle-upon-Tyne\n",
              "Date of Publication                                                  1867\n",
              "Publisher                                                      T. Fordyce\n",
              "Title                   Local Records; or, Historical Register of rema...\n",
              "Author                      FORDYCE, T. - Printer, of Newcastle-upon-Tyne\n",
              "Flickr URL              http://www.flickr.com/photos/britishlibrary/ta...\n",
              "Name: 4157862, dtype: object"
            ]
          },
          "execution_count": 35,
          "metadata": {},
          "output_type": "execute_result"
        }
      ]
    },
    {
      "cell_type": "code",
      "metadata": {
        "id": "polar-fence",
        "outputId": "edf3d72a-fc1b-43c1-ee48-21bbe6299b98"
      },
      "source": [
        "df.loc[4159587]"
      ],
      "id": "polar-fence",
      "execution_count": null,
      "outputs": [
        {
          "data": {
            "text/plain": [
              "Place of Publication                                  Newcastle upon Tyne\n",
              "Date of Publication                                                  1834\n",
              "Publisher                                                Mackenzie & Dent\n",
              "Title                   An historical, topographical and descriptive v...\n",
              "Author                                              Mackenzie, E. (Eneas)\n",
              "Flickr URL              http://www.flickr.com/photos/britishlibrary/ta...\n",
              "Name: 4159587, dtype: object"
            ]
          },
          "execution_count": 36,
          "metadata": {},
          "output_type": "execute_result"
        }
      ]
    },
    {
      "cell_type": "code",
      "metadata": {
        "colab": {
          "base_uri": "https://localhost:8080/"
        },
        "id": "partial-practice",
        "outputId": "bec878df-6e0b-4979-a392-889ed3f8fd81"
      },
      "source": [
        "pub = df['Place of Publication']\n",
        "london = pub.str.contains('London')\n",
        "print(london[:5])\n",
        "oxford = pub.str.contains('Oxford')"
      ],
      "id": "partial-practice",
      "execution_count": 14,
      "outputs": [
        {
          "output_type": "stream",
          "name": "stdout",
          "text": [
            "0    True\n",
            "1    True\n",
            "2    True\n",
            "3    True\n",
            "4    True\n",
            "Name: Place of Publication, dtype: bool\n"
          ]
        }
      ]
    },
    {
      "cell_type": "code",
      "metadata": {
        "colab": {
          "base_uri": "https://localhost:8080/"
        },
        "id": "acceptable-clone",
        "outputId": "b8feceb4-9e80-4e13-8bb6-b3195396a699"
      },
      "source": [
        "df['Place of Publication'] = np.where(london, 'London',\n",
        "                                      np.where(oxford, 'Oxford',\n",
        "                                               pub.str.replace('-', ' ')))\n",
        "\n",
        "df['Place of Publication'].head()"
      ],
      "id": "acceptable-clone",
      "execution_count": 17,
      "outputs": [
        {
          "output_type": "execute_result",
          "data": {
            "text/plain": [
              "0    London\n",
              "1    London\n",
              "2    London\n",
              "3    London\n",
              "4    London\n",
              "Name: Place of Publication, dtype: object"
            ]
          },
          "metadata": {},
          "execution_count": 17
        }
      ]
    },
    {
      "cell_type": "code",
      "metadata": {
        "colab": {
          "base_uri": "https://localhost:8080/",
          "height": 521
        },
        "id": "academic-chorus",
        "outputId": "3a9f61a4-e577-4056-95b6-83e9745cda6e"
      },
      "source": [
        "df.head()"
      ],
      "id": "academic-chorus",
      "execution_count": 18,
      "outputs": [
        {
          "output_type": "execute_result",
          "data": {
            "text/html": [
              "<div>\n",
              "<style scoped>\n",
              "    .dataframe tbody tr th:only-of-type {\n",
              "        vertical-align: middle;\n",
              "    }\n",
              "\n",
              "    .dataframe tbody tr th {\n",
              "        vertical-align: top;\n",
              "    }\n",
              "\n",
              "    .dataframe thead th {\n",
              "        text-align: right;\n",
              "    }\n",
              "</style>\n",
              "<table border=\"1\" class=\"dataframe\">\n",
              "  <thead>\n",
              "    <tr style=\"text-align: right;\">\n",
              "      <th></th>\n",
              "      <th>Identifier</th>\n",
              "      <th>Edition Statement</th>\n",
              "      <th>Place of Publication</th>\n",
              "      <th>Date of Publication</th>\n",
              "      <th>Publisher</th>\n",
              "      <th>Title</th>\n",
              "      <th>Author</th>\n",
              "      <th>Contributors</th>\n",
              "      <th>Corporate Author</th>\n",
              "      <th>Corporate Contributors</th>\n",
              "      <th>Former owner</th>\n",
              "      <th>Engraver</th>\n",
              "      <th>Issuance type</th>\n",
              "      <th>Flickr URL</th>\n",
              "      <th>Shelfmarks</th>\n",
              "    </tr>\n",
              "  </thead>\n",
              "  <tbody>\n",
              "    <tr>\n",
              "      <th>0</th>\n",
              "      <td>206</td>\n",
              "      <td>NaN</td>\n",
              "      <td>London</td>\n",
              "      <td>1879 [1878]</td>\n",
              "      <td>S. Tinsley &amp; Co.</td>\n",
              "      <td>Walter Forbes. [A novel.] By A. A</td>\n",
              "      <td>A. A.</td>\n",
              "      <td>FORBES, Walter.</td>\n",
              "      <td>NaN</td>\n",
              "      <td>NaN</td>\n",
              "      <td>NaN</td>\n",
              "      <td>NaN</td>\n",
              "      <td>monographic</td>\n",
              "      <td>http://www.flickr.com/photos/britishlibrary/ta...</td>\n",
              "      <td>British Library HMNTS 12641.b.30.</td>\n",
              "    </tr>\n",
              "    <tr>\n",
              "      <th>1</th>\n",
              "      <td>216</td>\n",
              "      <td>NaN</td>\n",
              "      <td>London</td>\n",
              "      <td>1868</td>\n",
              "      <td>Virtue &amp; Co.</td>\n",
              "      <td>All for Greed. [A novel. The dedication signed...</td>\n",
              "      <td>A., A. A.</td>\n",
              "      <td>BLAZE DE BURY, Marie Pauline Rose - Baroness</td>\n",
              "      <td>NaN</td>\n",
              "      <td>NaN</td>\n",
              "      <td>NaN</td>\n",
              "      <td>NaN</td>\n",
              "      <td>monographic</td>\n",
              "      <td>http://www.flickr.com/photos/britishlibrary/ta...</td>\n",
              "      <td>British Library HMNTS 12626.cc.2.</td>\n",
              "    </tr>\n",
              "    <tr>\n",
              "      <th>2</th>\n",
              "      <td>218</td>\n",
              "      <td>NaN</td>\n",
              "      <td>London</td>\n",
              "      <td>1869</td>\n",
              "      <td>Bradbury, Evans &amp; Co.</td>\n",
              "      <td>Love the Avenger. By the author of “All for Gr...</td>\n",
              "      <td>A., A. A.</td>\n",
              "      <td>BLAZE DE BURY, Marie Pauline Rose - Baroness</td>\n",
              "      <td>NaN</td>\n",
              "      <td>NaN</td>\n",
              "      <td>NaN</td>\n",
              "      <td>NaN</td>\n",
              "      <td>monographic</td>\n",
              "      <td>http://www.flickr.com/photos/britishlibrary/ta...</td>\n",
              "      <td>British Library HMNTS 12625.dd.1.</td>\n",
              "    </tr>\n",
              "    <tr>\n",
              "      <th>3</th>\n",
              "      <td>472</td>\n",
              "      <td>NaN</td>\n",
              "      <td>London</td>\n",
              "      <td>1851</td>\n",
              "      <td>James Darling</td>\n",
              "      <td>Welsh Sketches, chiefly ecclesiastical, to the...</td>\n",
              "      <td>A., E. S.</td>\n",
              "      <td>Appleyard, Ernest Silvanus.</td>\n",
              "      <td>NaN</td>\n",
              "      <td>NaN</td>\n",
              "      <td>NaN</td>\n",
              "      <td>NaN</td>\n",
              "      <td>monographic</td>\n",
              "      <td>http://www.flickr.com/photos/britishlibrary/ta...</td>\n",
              "      <td>British Library HMNTS 10369.bbb.15.</td>\n",
              "    </tr>\n",
              "    <tr>\n",
              "      <th>4</th>\n",
              "      <td>480</td>\n",
              "      <td>A new edition, revised, etc.</td>\n",
              "      <td>London</td>\n",
              "      <td>1857</td>\n",
              "      <td>Wertheim &amp; Macintosh</td>\n",
              "      <td>[The World in which I live, and my place in it...</td>\n",
              "      <td>A., E. S.</td>\n",
              "      <td>BROOME, John Henry.</td>\n",
              "      <td>NaN</td>\n",
              "      <td>NaN</td>\n",
              "      <td>NaN</td>\n",
              "      <td>NaN</td>\n",
              "      <td>monographic</td>\n",
              "      <td>http://www.flickr.com/photos/britishlibrary/ta...</td>\n",
              "      <td>British Library HMNTS 9007.d.28.</td>\n",
              "    </tr>\n",
              "  </tbody>\n",
              "</table>\n",
              "</div>"
            ],
            "text/plain": [
              "   Identifier  ...                           Shelfmarks\n",
              "0         206  ...    British Library HMNTS 12641.b.30.\n",
              "1         216  ...    British Library HMNTS 12626.cc.2.\n",
              "2         218  ...    British Library HMNTS 12625.dd.1.\n",
              "3         472  ...  British Library HMNTS 10369.bbb.15.\n",
              "4         480  ...     British Library HMNTS 9007.d.28.\n",
              "\n",
              "[5 rows x 15 columns]"
            ]
          },
          "metadata": {},
          "execution_count": 18
        }
      ]
    },
    {
      "cell_type": "code",
      "metadata": {
        "id": "downtown-certification"
      },
      "source": [
        "'''Source:\n",
        "\n",
        "https://www.learndatasci.com/tutorials/python-pandas-tutorial-complete-introduction-for-beginners/\n",
        "https://realpython.com/python-data-cleaning-numpy-pandas/\n",
        "'''"
      ],
      "id": "downtown-certification",
      "execution_count": null,
      "outputs": []
    }
  ]
}