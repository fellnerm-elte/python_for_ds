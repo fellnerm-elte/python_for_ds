{
 "cells": [
  {
   "cell_type": "markdown",
   "metadata": {},
   "source": [
    "## Reading and writing files\n"
   ]
  },
  {
   "cell_type": "markdown",
   "metadata": {},
   "source": [
    "Most important operations:\n",
    "\n",
    "- The `open('filename','r')` command will open the file called filename read-only, and will return with a file object\n",
    "- The `open('filename','w')` command will open the file called filename for writing, and will return with a file object\n",
    "- The `fileobject.close()` command will close the file, no matter if it was open for reading or writing.\n",
    "\n",
    "We will use 'example_file.txt' of which contents are the following:"
   ]
  },
  {
   "cell_type": "raw",
   "metadata": {},
   "source": [
    "1,Donielle,Vickar,dvickar0@tmall.com,true\n",
    "2,Perle,Claye,pclaye1@blogs.com,true\n",
    "3,Flori,Wharf,fwharf2@zdnet.com,true\n",
    "4,Kristen,Haryngton,kharyngton3@yelp.com,false\n",
    "5,Bibby,Covill,bcovill4@psu.edu,true\n",
    "6,Illa,D'Elias,idelias5@twitter.com,true\n",
    "7,Genia,Woodyear,gwoodyear6@reuters.com,false\n",
    "8,Patrice,Rhys,prhys7@meetup.com,false\n",
    "9,Rich,Gavozzi,rgavozzi8@istockphoto.com,false\n",
    "10,Elfie,Comben,ecomben9@un.org,true"
   ]
  },
  {
   "cell_type": "markdown",
   "metadata": {},
   "source": [
    "## Reading files \n",
    "\n",
    "We can read one line of the file by using `.readline()` function: \n",
    "- It will read whitespaces like the new line character at the end of the line\n",
    "- It will step to the next line so if we repeatedly call it, it will go through the file\n",
    "- It raises an error when it reaches the end of file, so it can be used in a while cycle"
   ]
  },
  {
   "cell_type": "code",
   "execution_count": 1,
   "metadata": {},
   "outputs": [
    {
     "name": "stdout",
     "output_type": "stream",
     "text": [
      "<class '_io.TextIOWrapper'>\n",
      "1,Donielle,Vickar,dvickar0@tmall.com,true\n",
      "\n",
      "2,Perle,Claye,pclaye1@blogs.com,true\n",
      "\n",
      "'2,Perle,Claye,pclaye1@blogs.com,true\\n'\n"
     ]
    }
   ],
   "source": [
    "fileobj = open(\"example_file.txt\", \"r\")\n",
    "print(type(fileobj))\n",
    "line=fileobj.readline()\n",
    "print(line)\n",
    "line=fileobj.readline()\n",
    "print(line)\n",
    "print(repr(line))\n",
    "fileobj.close()"
   ]
  },
  {
   "cell_type": "code",
   "execution_count": 2,
   "metadata": {},
   "outputs": [
    {
     "name": "stdout",
     "output_type": "stream",
     "text": [
      "Donielle Vickar e-mail: dvickar0@tmall.com\n",
      "Perle Claye e-mail: pclaye1@blogs.com\n",
      "Flori Wharf e-mail: fwharf2@zdnet.com\n",
      "Kristen Haryngton e-mail: kharyngton3@yelp.com\n",
      "Bibby Covill e-mail: bcovill4@psu.edu\n",
      "Illa D'Elias e-mail: idelias5@twitter.com\n",
      "Genia Woodyear e-mail: gwoodyear6@reuters.com\n",
      "Patrice Rhys e-mail: prhys7@meetup.com\n",
      "Rich Gavozzi e-mail: rgavozzi8@istockphoto.com\n",
      "Elfie Comben e-mail: ecomben9@un.org\n"
     ]
    }
   ],
   "source": [
    "fileobj = open(\"example_file.txt\", \"r\")\n",
    "line=fileobj.readline()\n",
    "while line:\n",
    "    values = line.strip().split(\",\")\n",
    "    print(values[1]+\" \"+values[2]+\" e-mail: \"+values[3])\n",
    "    line=fileobj.readline()\n",
    "fileobj.close()\n"
   ]
  },
  {
   "cell_type": "markdown",
   "metadata": {},
   "source": [
    "We can iterate through a file with a for cycle as well."
   ]
  },
  {
   "cell_type": "code",
   "execution_count": 3,
   "metadata": {},
   "outputs": [
    {
     "name": "stdout",
     "output_type": "stream",
     "text": [
      "['1', 'Donielle', 'Vickar', 'dvickar0@tmall.com', 'true']\n",
      "['2', 'Perle', 'Claye', 'pclaye1@blogs.com', 'true']\n",
      "['3', 'Flori', 'Wharf', 'fwharf2@zdnet.com', 'true']\n",
      "['4', 'Kristen', 'Haryngton', 'kharyngton3@yelp.com', 'false']\n",
      "['5', 'Bibby', 'Covill', 'bcovill4@psu.edu', 'true']\n",
      "['6', 'Illa', \"D'Elias\", 'idelias5@twitter.com', 'true']\n",
      "['7', 'Genia', 'Woodyear', 'gwoodyear6@reuters.com', 'false']\n",
      "['8', 'Patrice', 'Rhys', 'prhys7@meetup.com', 'false']\n",
      "['9', 'Rich', 'Gavozzi', 'rgavozzi8@istockphoto.com', 'false']\n",
      "['10', 'Elfie', 'Comben', 'ecomben9@un.org', 'true']\n"
     ]
    }
   ],
   "source": [
    "fileobj = open(\"example_file.txt\", \"r\")\n",
    "\n",
    "for line in fileobj:\n",
    "    values = line.strip().split(\",\")\n",
    "    print(values)\n",
    "\n",
    "fileobj.close()\n"
   ]
  },
  {
   "cell_type": "markdown",
   "metadata": {},
   "source": [
    "#### Variations:\n",
    "- `fileobj.read(n)` reads 'n' number of characters, or if not specified, the whole file \n",
    "- `fileobj.readlines()` returns all lines from the file in a list\n"
   ]
  },
  {
   "cell_type": "code",
   "execution_count": 5,
   "metadata": {},
   "outputs": [
    {
     "name": "stdout",
     "output_type": "stream",
     "text": [
      "1,Donielle,Vickar,dvickar0@tmall.com,true\n",
      "2,Perle,Claye,pclaye1@blogs.com,true\n",
      "3,Flori,Wharf,fwharf2@zdnet.com,true\n",
      "4,Kristen,Haryngton,kharyngton3@yelp.com,false\n",
      "5,Bibby,Covill,bcovill4@psu.edu,true\n",
      "6,Illa,D'Elias,idelias5@twitter.com,true\n",
      "7,Genia,Woodyear,gwoodyear6@reuters.com,false\n",
      "8,Patrice,Rhys,prhys7@meetup.com,false\n",
      "9,Rich,Gavozzi,rgavozzi8@istockphoto.com,false\n",
      "10,Elfie,Comben,ecomben9@un.org,true\n",
      "\"1,Donielle,Vickar,dvickar0@tmall.com,true\\n2,Perle,Claye,pclaye1@blogs.com,true\\n3,Flori,Wharf,fwharf2@zdnet.com,true\\n4,Kristen,Haryngton,kharyngton3@yelp.com,false\\n5,Bibby,Covill,bcovill4@psu.edu,true\\n6,Illa,D'Elias,idelias5@twitter.com,true\\n7,Genia,Woodyear,gwoodyear6@reuters.com,false\\n8,Patrice,Rhys,prhys7@meetup.com,false\\n9,Rich,Gavozzi,rgavozzi8@istockphoto.com,false\\n10,Elfie,Comben,ecomben9@un.org,true\"\n"
     ]
    }
   ],
   "source": [
    "fileobj = open(\"example_file.txt\", \"r\")\n",
    "\n",
    "content=fileobj.read()\n",
    "print(content)\n",
    "print(repr(content))\n",
    "\n",
    "fileobj.close()\n"
   ]
  },
  {
   "cell_type": "markdown",
   "metadata": {},
   "source": [
    "## Writing files\n",
    "\n",
    " A `fileobj.write(one_string)` command appends the given string to the end of the file. In order to do this, you need to open the file for writing.\n"
   ]
  },
  {
   "cell_type": "code",
   "execution_count": 8,
   "metadata": {},
   "outputs": [
    {
     "name": "stdout",
     "output_type": "stream",
     "text": [
      "I found this in the file: I will totally write this text into the file!\n"
     ]
    }
   ],
   "source": [
    "file_to_write = open(\"example_file_writing.txt\", \"w\")  # If the file does not exist, it will create it \n",
    "\n",
    "file_to_write.write(\"I will totally write this text into the file!\")\n",
    "\n",
    "file_to_write.close()\n",
    "\n",
    "file_to_read = open(\"example_file_writing.txt\", \"r\")  \n",
    "content=file_to_read.read()\n",
    "print(\"I found this in the file: \" + content)\n",
    "file_to_read.close()\n",
    "\n"
   ]
  },
  {
   "cell_type": "markdown",
   "metadata": {},
   "source": [
    "# Possible errors"
   ]
  },
  {
   "cell_type": "markdown",
   "metadata": {},
   "source": [
    "### Why should you always close a file?\n",
    "If you do not close a file, the operations that were not completed can cause some problems. E.g:"
   ]
  },
  {
   "cell_type": "code",
   "execution_count": 9,
   "metadata": {},
   "outputs": [
    {
     "name": "stdout",
     "output_type": "stream",
     "text": [
      "I found this in the file: \n"
     ]
    }
   ],
   "source": [
    "file_to_write = open(\"example_file_writing.txt\", \"w\")  # If the file does not exist, it will create it \n",
    "\n",
    "file_to_write.write(\"I will totally write something else into the file!\")\n",
    "\n",
    "file_to_read = open(\"example_file_writing.txt\", \"r\")  \n",
    "content=file_to_read.read()\n",
    "print(\"I found this in the file: \" + content)\n",
    "file_to_read.close()\n",
    "\n"
   ]
  },
  {
   "cell_type": "markdown",
   "metadata": {},
   "source": [
    "## with keyword\n",
    "The `with` keyword will automatically handle the file closure and the errors. To use:\n",
    "\n",
    "`with open(args) as varname:`\n",
    "    \n",
    "    code indented\n",
    "\n",
    "If the file could be opened, the indented code part will be run and then a close command will automatically be called."
   ]
  },
  {
   "cell_type": "code",
   "execution_count": 10,
   "metadata": {},
   "outputs": [
    {
     "name": "stdout",
     "output_type": "stream",
     "text": [
      "I found this in the file: I will totally write this text into the file!\n"
     ]
    }
   ],
   "source": [
    "with open(\"example_file_writing.txt\", \"w\") as file_to_write:\n",
    "    file_to_write.write(\"I will totally write this text into the file!\")\n",
    "    \n",
    "\n",
    "with open(\"example_file_writing.txt\", \"r\") as file_to_read:\n",
    "    content=file_to_read.read()\n",
    "    print(\"I found this in the file: \" + content)\n",
    "\n"
   ]
  },
  {
   "cell_type": "markdown",
   "metadata": {},
   "source": [
    "#### This is the recommended method to avoid all possible errors!\n"
   ]
  },
  {
   "cell_type": "markdown",
   "metadata": {},
   "source": [
    "### Character coding\n",
    "- Multiple character codings exist\n",
    "- Sometimes you need to specify which coding should Python use else it will misinterpret your file\n",
    "- Most common: utf-8 and latin-1"
   ]
  },
  {
   "cell_type": "code",
   "execution_count": 11,
   "metadata": {},
   "outputs": [
    {
     "name": "stdout",
     "output_type": "stream",
     "text": [
      "I found this in the file: ĂˇrvĂ­ztĹ±rĹ‘ tĂĽkĂ¶rfĂşrĂłgĂ©p\n"
     ]
    }
   ],
   "source": [
    "with open(\"example_file_writing.txt\", \"w\", encoding='utf-8') as file_to_write:\n",
    "    file_to_write.write(\"árvíztűrő tükörfúrógép\")\n",
    "\n",
    "with open(\"example_file_writing.txt\", \"r\") as file_to_read:\n",
    "    content=file_to_read.read()\n",
    "    print(\"I found this in the file: \" + content)\n"
   ]
  },
  {
   "cell_type": "code",
   "execution_count": 12,
   "metadata": {},
   "outputs": [
    {
     "name": "stdout",
     "output_type": "stream",
     "text": [
      "I found this in the file: árvíztűrő tükörfúrógép\n"
     ]
    }
   ],
   "source": [
    "with open(\"example_file_writing.txt\", \"w\", encoding='utf-8') as file_to_write:\n",
    "    file_to_write.write(\"árvíztűrő tükörfúrógép\")\n",
    "\n",
    "with open(\"example_file_writing.txt\", \"r\", encoding='utf-8') as file_to_read:\n",
    "    content=file_to_read.read()\n",
    "    print(\"I found this in the file: \" + content)\n"
   ]
  },
  {
   "cell_type": "markdown",
   "metadata": {},
   "source": [
    "### json (JavaScript Object Notation)\n",
    "- The json is a file format which is very common in webapp programming\n",
    "- It is a convenient method to write and read dictionaries\n",
    "-  Write: `json.dump(data, outfile)`, Read: `json.load(json_file)`"
   ]
  },
  {
   "cell_type": "code",
   "execution_count": 13,
   "metadata": {},
   "outputs": [],
   "source": [
    "import json \n",
    "\n",
    "data = {}\n",
    "data['dragons'] = []\n",
    "data['dragons'].append({\n",
    "    'name': 'Süsü',\n",
    "    'attack': 'hugs',\n",
    "    'city': 'Magyarország'\n",
    "})\n",
    "data['dragons'].append({\n",
    "    'name': 'Smaug',\n",
    "    'attack': 'firebreathing',\n",
    "    'city': 'Middangeard'\n",
    "})\n",
    "data['dragons'].append({\n",
    "    'name': 'Rhaegal',\n",
    "    'attack': 'firebreathing',\n",
    "    'city': 'Westeros'\n",
    "})\n",
    "\n",
    "with open('data.txt', 'w') as outfile:\n",
    "    json.dump(data, outfile)"
   ]
  },
  {
   "cell_type": "code",
   "execution_count": 14,
   "metadata": {},
   "outputs": [
    {
     "name": "stdout",
     "output_type": "stream",
     "text": [
      "Name: Süsü\n",
      "Attack: hugs\n",
      "City: Magyarország\n",
      "\n",
      "Name: Smaug\n",
      "Attack: firebreathing\n",
      "City: Middangeard\n",
      "\n",
      "Name: Rhaegal\n",
      "Attack: firebreathing\n",
      "City: Westeros\n",
      "\n"
     ]
    }
   ],
   "source": [
    "import json\n",
    "\n",
    "with open('data.txt') as json_file:\n",
    "    adat = json.load(json_file)\n",
    "    for p in adat['dragons']:\n",
    "        print('Name: ' + p['name'])\n",
    "        print('Attack: ' + p['attack'])\n",
    "        print('City: ' + p['city'])\n",
    "        print('')"
   ]
  },
  {
   "cell_type": "code",
   "execution_count": null,
   "metadata": {},
   "outputs": [],
   "source": []
  },
  {
   "cell_type": "markdown",
   "metadata": {},
   "source": [
    "## Iterators and generators\n"
   ]
  },
  {
   "cell_type": "markdown",
   "metadata": {},
   "source": [
    "Many objects can be used in for cycles:"
   ]
  },
  {
   "cell_type": "code",
   "execution_count": 1,
   "metadata": {},
   "outputs": [
    {
     "name": "stdout",
     "output_type": "stream",
     "text": [
      "1\n",
      "2\n",
      "3\n",
      "4\n"
     ]
    }
   ],
   "source": [
    "for i in [1, 2, 3, 4]:\n",
    "    print(i)"
   ]
  },
  {
   "cell_type": "code",
   "execution_count": 2,
   "metadata": {},
   "outputs": [
    {
     "name": "stdout",
     "output_type": "stream",
     "text": [
      "p\n",
      "y\n",
      "t\n",
      "h\n",
      "o\n",
      "n\n"
     ]
    }
   ],
   "source": [
    "for c in \"python\":\n",
    "    print(c)"
   ]
  },
  {
   "cell_type": "code",
   "execution_count": 3,
   "metadata": {},
   "outputs": [
    {
     "name": "stdout",
     "output_type": "stream",
     "text": [
      "x\n",
      "y\n"
     ]
    }
   ],
   "source": [
    "for k in {\"x\": 1, \"y\": 2}:\n",
    "    print(k)"
   ]
  },
  {
   "cell_type": "code",
   "execution_count": 5,
   "metadata": {},
   "outputs": [
    {
     "name": "stdout",
     "output_type": "stream",
     "text": [
      "abck\t22419\tl69\n",
      "\n",
      "skwk\t99284\tk28\n",
      "\n",
      "loik\t85728\th76\n",
      "\n"
     ]
    }
   ],
   "source": [
    "with open(\"example_file.txt\", \"r\") as fileobj:\n",
    "    for line in fileobj:\n",
    "        print(line)"
   ]
  },
  {
   "cell_type": "markdown",
   "metadata": {},
   "source": [
    "The common name for this type of classes is: **iterables**.\n",
    "Every iterable class has an **iterator**, which we can get using the `iter` function. The `next()` function gives the next item of the iterator. If there are no more items in an iterator, we get the `StopIteration` error (this makes the iterators one-use)."
   ]
  },
  {
   "cell_type": "code",
   "execution_count": 6,
   "metadata": {},
   "outputs": [
    {
     "name": "stdout",
     "output_type": "stream",
     "text": [
      "S\n",
      "ü\n",
      "s\n",
      "ü\n"
     ]
    },
    {
     "ename": "StopIteration",
     "evalue": "",
     "output_type": "error",
     "traceback": [
      "\u001b[1;31m---------------------------------------------------------------------------\u001b[0m",
      "\u001b[1;31mStopIteration\u001b[0m                             Traceback (most recent call last)",
      "\u001b[1;32m<ipython-input-6-33e9e039eb89>\u001b[0m in \u001b[0;36m<module>\u001b[1;34m\u001b[0m\n\u001b[0;32m      4\u001b[0m \u001b[0mprint\u001b[0m\u001b[1;33m(\u001b[0m\u001b[0mnext\u001b[0m\u001b[1;33m(\u001b[0m\u001b[0mmyiter\u001b[0m\u001b[1;33m)\u001b[0m\u001b[1;33m)\u001b[0m\u001b[1;33m\u001b[0m\u001b[1;33m\u001b[0m\u001b[0m\n\u001b[0;32m      5\u001b[0m \u001b[0mprint\u001b[0m\u001b[1;33m(\u001b[0m\u001b[0mnext\u001b[0m\u001b[1;33m(\u001b[0m\u001b[0mmyiter\u001b[0m\u001b[1;33m)\u001b[0m\u001b[1;33m)\u001b[0m\u001b[1;33m\u001b[0m\u001b[1;33m\u001b[0m\u001b[0m\n\u001b[1;32m----> 6\u001b[1;33m \u001b[0mprint\u001b[0m\u001b[1;33m(\u001b[0m\u001b[0mnext\u001b[0m\u001b[1;33m(\u001b[0m\u001b[0mmyiter\u001b[0m\u001b[1;33m)\u001b[0m\u001b[1;33m)\u001b[0m\u001b[1;33m\u001b[0m\u001b[1;33m\u001b[0m\u001b[0m\n\u001b[0m",
      "\u001b[1;31mStopIteration\u001b[0m: "
     ]
    }
   ],
   "source": [
    "myiter=iter(\"Süsü\")\n",
    "print(next(myiter))\n",
    "print(next(myiter))\n",
    "print(next(myiter))\n",
    "print(next(myiter))\n",
    "print(next(myiter))\n"
   ]
  },
  {
   "cell_type": "markdown",
   "metadata": {},
   "source": [
    "We can use these two properties in order to define what is an iterator. An iterator has to fulfill the following two requirements:\n",
    "1. It should have a `__next__` function in order to return its items in order\n",
    "2.  `StopIteration` error should be triggered if no items left.\n"
   ]
  },
  {
   "cell_type": "markdown",
   "metadata": {},
   "source": [
    "A class is **iterable** if it has an  `__iter__` function, which returns an **iterator** that fulfills the requirements above.\n"
   ]
  },
  {
   "cell_type": "code",
   "execution_count": 7,
   "metadata": {},
   "outputs": [
    {
     "name": "stdout",
     "output_type": "stream",
     "text": [
      "Actual: 4\n",
      "4\n",
      "Actual: 3\n",
      "3\n",
      "Actual: 2\n",
      "2\n",
      "Actual: 1\n",
      "1\n",
      "Actual: 0\n",
      "0\n"
     ]
    }
   ],
   "source": [
    "class MyIterator:\n",
    "    def __init__(self):\n",
    "        self.iter_no = 5\n",
    "        \n",
    "    def __iter__(self):\n",
    "        return self\n",
    "    \n",
    "    def __next__(self):\n",
    "        if self.iter_no <= 0:\n",
    "            raise StopIteration()\n",
    "        self.iter_no = self.iter_no- 1\n",
    "        print(\"Actual: {}\".format(self.iter_no))\n",
    "        return self.iter_no\n",
    "        #return \"we are here:\"+str(self.iter_no)\n",
    "    \n",
    "myiter = MyIterator()\n",
    "\n",
    "for i in myiter:\n",
    "    print(i)"
   ]
  },
  {
   "cell_type": "code",
   "execution_count": 9,
   "metadata": {},
   "outputs": [
    {
     "name": "stdout",
     "output_type": "stream",
     "text": [
      "['Süsü', 1]\n",
      "['Smaug', 1]\n",
      "['Sevenhead', 1]\n",
      "['Sevenhead', 2]\n",
      "['Sevenhead', 3]\n",
      "['Sevenhead', 4]\n",
      "['Sevenhead', 5]\n",
      "['Sevenhead', 6]\n",
      "['Sevenhead', 7]\n",
      "['Ghidorah', 1]\n",
      "['Ghidorah', 2]\n",
      "['Ghidorah', 3]\n"
     ]
    }
   ],
   "source": [
    "class Dragoniterator:\n",
    "    def __init__(self,headlist):\n",
    "        self.headlist=headlist\n",
    "        self.actual_dragon=0\n",
    "        self.actual_head=1\n",
    "        \n",
    "    \n",
    "    def __next__(self):\n",
    "        current_dragon=self.actual_dragon\n",
    "        current_head=self.actual_head\n",
    "        if self.actual_dragon>=len(self.headlist) or (self.actual_dragon==len(self.headlist)-1 and self.actual_head>self.headlist[-1][1]):\n",
    "            raise StopIteration()\n",
    "        \n",
    "        if self.headlist[self.actual_dragon][1]>self.actual_head:\n",
    "            self.actual_head= self.actual_head+1\n",
    "        else:\n",
    "            self.actual_dragon=self.actual_dragon+1\n",
    "            self.actual_head=1\n",
    "           \n",
    "        return [self.headlist[ current_dragon][0],current_head]\n",
    "    \n",
    "        \n",
    "class DragonCave:\n",
    "    def __init__(self):\n",
    "        self.dragonheadlist = [(\"Süsü\",1),(\"Smaug\",1),(\"Sevenhead\",7),(\"Ghidorah\",3)]\n",
    "               \n",
    "    def __iter__(self):\n",
    "        return Dragoniterator(self.dragonheadlist)\n",
    "        \n",
    "cave = DragonCave()\n",
    "\n",
    "for head in cave:\n",
    "    print(head)"
   ]
  },
  {
   "cell_type": "markdown",
   "metadata": {},
   "source": [
    "**There is a vast number of functions that accept any kind of iterator!** "
   ]
  },
  {
   "cell_type": "code",
   "execution_count": 10,
   "metadata": {},
   "outputs": [
    {
     "data": {
      "text/plain": [
       "[['Süsü', 1],\n",
       " ['Smaug', 1],\n",
       " ['Sevenhead', 1],\n",
       " ['Sevenhead', 2],\n",
       " ['Sevenhead', 3],\n",
       " ['Sevenhead', 4],\n",
       " ['Sevenhead', 5],\n",
       " ['Sevenhead', 6],\n",
       " ['Sevenhead', 7],\n",
       " ['Ghidorah', 1],\n",
       " ['Ghidorah', 2],\n",
       " ['Ghidorah', 3]]"
      ]
     },
     "execution_count": 10,
     "metadata": {},
     "output_type": "execute_result"
    }
   ],
   "source": [
    "list(cave)"
   ]
  },
  {
   "cell_type": "code",
   "execution_count": 11,
   "metadata": {},
   "outputs": [
    {
     "data": {
      "text/plain": [
       "['Sevenhead', 7]"
      ]
     },
     "execution_count": 11,
     "metadata": {},
     "output_type": "execute_result"
    }
   ],
   "source": [
    "max(cave,key=lambda x:x[1])"
   ]
  },
  {
   "cell_type": "markdown",
   "metadata": {},
   "source": [
    "# Making an iterator faster\n",
    "### Generator expressions\n",
    "\n",
    "The **generators** are special iterators. The main thought is that if we would like to iterate through a list, we do not always have to construct the whole list if we can always calculate the next item of the list. This uses significantly less memory.\n",
    "\n",
    "There are multiple methods to create a generator, one of them are the **generator expressions**, which mean a generalizaton of the list comprehension.\n",
    "\n",
    "Syntactically we can define a generator expression by using () brackets instead of the [] brackets of the list comprehension."
   ]
  },
  {
   "cell_type": "code",
   "execution_count": 12,
   "metadata": {},
   "outputs": [
    {
     "name": "stdout",
     "output_type": "stream",
     "text": [
      "9999999900000000\n"
     ]
    }
   ],
   "source": [
    "N = 8\n",
    "s = sum([i*2 for i in range(int(10**N))])\n",
    "print(s)"
   ]
  },
  {
   "cell_type": "code",
   "execution_count": 13,
   "metadata": {},
   "outputs": [
    {
     "name": "stdout",
     "output_type": "stream",
     "text": [
      "9999999900000000\n"
     ]
    }
   ],
   "source": [
    "s = sum((i*2 for i in range(int(10**N))))\n",
    "print(s)"
   ]
  },
  {
   "cell_type": "markdown",
   "metadata": {},
   "source": [
    "As generators only iterate through a list, they do not actually produce the list. This does not make a generator reusable."
   ]
  },
  {
   "cell_type": "code",
   "execution_count": 14,
   "metadata": {},
   "outputs": [
    {
     "data": {
      "text/plain": [
       "<generator object <genexpr> at 0x0000015966886900>"
      ]
     },
     "execution_count": 14,
     "metadata": {},
     "output_type": "execute_result"
    }
   ],
   "source": [
    "even_numbers = (2*n for n in range(10))\n",
    "even_numbers"
   ]
  },
  {
   "cell_type": "code",
   "execution_count": 15,
   "metadata": {},
   "outputs": [
    {
     "name": "stdout",
     "output_type": "stream",
     "text": [
      "0\n",
      "2\n",
      "4\n",
      "6\n",
      "8\n",
      "10\n",
      "12\n",
      "14\n",
      "16\n",
      "18\n"
     ]
    }
   ],
   "source": [
    "for num in even_numbers:\n",
    "    print(num)"
   ]
  },
  {
   "cell_type": "markdown",
   "metadata": {},
   "source": [
    "You can see that if we do a second run, the results will be empty."
   ]
  },
  {
   "cell_type": "code",
   "execution_count": 16,
   "metadata": {},
   "outputs": [],
   "source": [
    "for num in even_numbers:\n",
    "    print(num)"
   ]
  },
  {
   "cell_type": "markdown",
   "metadata": {},
   "source": [
    "Every generator is an iterator, which means that the `next()` function will be providing the next item, and if there are no more items, it will raise a `StopIteration` error."
   ]
  },
  {
   "cell_type": "code",
   "execution_count": 17,
   "metadata": {},
   "outputs": [
    {
     "name": "stdout",
     "output_type": "stream",
     "text": [
      "0\n",
      "2\n",
      "4\n",
      "6\n",
      "8\n",
      "10\n",
      "12\n",
      "14\n",
      "16\n",
      "18\n"
     ]
    }
   ],
   "source": [
    "even_numbers = (2*n for n in range(10))\n",
    "\n",
    "while True:\n",
    "    try:\n",
    "        print(next(even_numbers))\n",
    "    except StopIteration:\n",
    "        break"
   ]
  },
  {
   "cell_type": "code",
   "execution_count": 18,
   "metadata": {},
   "outputs": [
    {
     "ename": "StopIteration",
     "evalue": "",
     "output_type": "error",
     "traceback": [
      "\u001b[1;31m---------------------------------------------------------------------------\u001b[0m",
      "\u001b[1;31mStopIteration\u001b[0m                             Traceback (most recent call last)",
      "\u001b[1;32m<ipython-input-18-6cda3138393a>\u001b[0m in \u001b[0;36m<module>\u001b[1;34m\u001b[0m\n\u001b[1;32m----> 1\u001b[1;33m \u001b[0mnext\u001b[0m\u001b[1;33m(\u001b[0m\u001b[0meven_numbers\u001b[0m\u001b[1;33m)\u001b[0m  \u001b[1;31m# StopIteration\u001b[0m\u001b[1;33m\u001b[0m\u001b[1;33m\u001b[0m\u001b[0m\n\u001b[0m",
      "\u001b[1;31mStopIteration\u001b[0m: "
     ]
    }
   ],
   "source": [
    " next(even_numbers)  # StopIteration"
   ]
  },
  {
   "cell_type": "markdown",
   "metadata": {},
   "source": [
    "### `yield` keyword\n",
    "\n",
    "Another method to make a generator is to use **generator functions**.\n",
    "- This is a function, where the return statement uses the keyword `yield`.\n",
    "- The function has to create a generator that runs the function till it reaches the `yield` command, which provides you the next value. On `next()` the function will run until it reaches the `yield` command, or if the function ends without `yield` it will raise `StopIteration`."
   ]
  },
  {
   "cell_type": "code",
   "execution_count": 19,
   "metadata": {},
   "outputs": [],
   "source": [
    "def hungarian_vowels():\n",
    "    alphabet = (\"a\", \"á\", \"e\", \"é\", \"i\", \"í\", \"o\", \"ó\",\n",
    "                \"ö\", \"ő\", \"u\", \"ú\", \"ü\", \"ű\")\n",
    "    for vowel in alphabet:\n",
    "        yield vowel"
   ]
  },
  {
   "cell_type": "markdown",
   "metadata": {},
   "source": [
    "This function returns a **generator object**."
   ]
  },
  {
   "cell_type": "code",
   "execution_count": 21,
   "metadata": {},
   "outputs": [
    {
     "data": {
      "text/plain": [
       "generator"
      ]
     },
     "execution_count": 21,
     "metadata": {},
     "output_type": "execute_result"
    }
   ],
   "source": [
    "type(hungarian_vowels())"
   ]
  },
  {
   "cell_type": "code",
   "execution_count": 22,
   "metadata": {},
   "outputs": [
    {
     "name": "stdout",
     "output_type": "stream",
     "text": [
      "a\n",
      "á\n",
      "e\n",
      "é\n",
      "i\n",
      "í\n",
      "o\n",
      "ó\n",
      "ö\n",
      "ő\n",
      "u\n",
      "ú\n",
      "ü\n",
      "ű\n"
     ]
    }
   ],
   "source": [
    "for vowel in hungarian_vowels():\n",
    "    print(vowel)"
   ]
  },
  {
   "cell_type": "markdown",
   "metadata": {},
   "source": [
    "A generator function produces a generator object on all instances it is called."
   ]
  },
  {
   "cell_type": "code",
   "execution_count": 23,
   "metadata": {},
   "outputs": [
    {
     "name": "stdout",
     "output_type": "stream",
     "text": [
      "False\n",
      "gen1 first time: ['a', 'á', 'e', 'é', 'i', 'í', 'o', 'ó', 'ö', 'ő', 'u', 'ú', 'ü', 'ű']\n",
      "gen1 second time: []\n",
      "gen2 first time: ['a', 'á', 'e', 'é', 'i', 'í', 'o', 'ó', 'ö', 'ő', 'u', 'ú', 'ü', 'ű']\n"
     ]
    }
   ],
   "source": [
    "gen1 = hungarian_vowels()\n",
    "gen2 = hungarian_vowels()\n",
    "\n",
    "print(gen1 is gen2)\n",
    "print(\"gen1 first time:\", list(gen1))\n",
    "print(\"gen1 second time:\", list(gen1))\n",
    "print(\"gen2 first time:\", list(gen2))"
   ]
  },
  {
   "cell_type": "code",
   "execution_count": 25,
   "metadata": {},
   "outputs": [],
   "source": [
    "def dragonheads(headlist):\n",
    "    for dragon in headlist:\n",
    "        for i in range(dragon[1]):\n",
    "            yield [dragon[0],i+1]"
   ]
  },
  {
   "cell_type": "code",
   "execution_count": 26,
   "metadata": {},
   "outputs": [
    {
     "name": "stdout",
     "output_type": "stream",
     "text": [
      "['Süsü', 1]\n",
      "['Smaug', 1]\n",
      "['Sevenhead', 1]\n",
      "['Sevenhead', 2]\n",
      "['Sevenhead', 3]\n",
      "['Sevenhead', 4]\n",
      "['Sevenhead', 5]\n",
      "['Sevenhead', 6]\n",
      "['Sevenhead', 7]\n",
      "['Ghidorah', 1]\n",
      "['Ghidorah', 2]\n",
      "['Ghidorah', 3]\n"
     ]
    }
   ],
   "source": [
    "cave = DragonCave()\n",
    "headiterator=dragonheads(cave.dragonheadlist)\n",
    "for head in headiterator:\n",
    "    print(head)"
   ]
  },
  {
   "cell_type": "code",
   "execution_count": 27,
   "metadata": {},
   "outputs": [
    {
     "data": {
      "text/plain": [
       "['Süsü', 1]"
      ]
     },
     "execution_count": 27,
     "metadata": {},
     "output_type": "execute_result"
    }
   ],
   "source": [
    "headiterator=dragonheads(cave.dragonheadlist)\n",
    "max(headiterator)"
   ]
  },
  {
   "cell_type": "markdown",
   "metadata": {},
   "source": [
    "###  itertools module\n",
    "- Iterators are the most useful when we apply certain expansions\n",
    "- The itertools module offers lots of such expansions, it is worth to take a look on the official documentation: https://docs.python.org/3.8/library/itertools.html#module-itertools\n",
    "\n",
    "Some examples:"
   ]
  },
  {
   "cell_type": "code",
   "execution_count": 29,
   "metadata": {},
   "outputs": [],
   "source": [
    "import itertools as it"
   ]
  },
  {
   "cell_type": "markdown",
   "metadata": {},
   "source": [
    "Infinite iterators:"
   ]
  },
  {
   "cell_type": "code",
   "execution_count": 30,
   "metadata": {},
   "outputs": [
    {
     "name": "stdout",
     "output_type": "stream",
     "text": [
      "A\n",
      "B\n",
      "C\n",
      "D\n",
      "A\n",
      "B\n",
      "C\n",
      "D\n",
      "A\n",
      "B\n"
     ]
    }
   ],
   "source": [
    "gen=it.cycle('ABCD')\n",
    "for _ in range(10):\n",
    "    print(next(gen))"
   ]
  },
  {
   "cell_type": "code",
   "execution_count": 31,
   "metadata": {},
   "outputs": [
    {
     "name": "stdout",
     "output_type": "stream",
     "text": [
      "3\n",
      "4\n",
      "5\n",
      "6\n",
      "7\n",
      "8\n",
      "9\n",
      "10\n",
      "11\n",
      "12\n"
     ]
    }
   ],
   "source": [
    "gen=it.count(3)\n",
    "for _ in range(10):\n",
    "    print(next(gen))"
   ]
  },
  {
   "cell_type": "code",
   "execution_count": 32,
   "metadata": {},
   "outputs": [
    {
     "data": {
      "text/plain": [
       "<filter at 0x15966896a90>"
      ]
     },
     "execution_count": 32,
     "metadata": {},
     "output_type": "execute_result"
    }
   ],
   "source": [
    "(filter(lambda x: x%2, range(10)))"
   ]
  },
  {
   "cell_type": "code",
   "execution_count": 33,
   "metadata": {},
   "outputs": [
    {
     "data": {
      "text/plain": [
       "[0, 2, 4, 6, 8]"
      ]
     },
     "execution_count": 33,
     "metadata": {},
     "output_type": "execute_result"
    }
   ],
   "source": [
    "list(it.filterfalse(lambda x: x%2, range(10)))"
   ]
  },
  {
   "cell_type": "code",
   "execution_count": 34,
   "metadata": {},
   "outputs": [
    {
     "name": "stdout",
     "output_type": "stream",
     "text": [
      "A\n",
      "B\n",
      "C\n",
      "0\n",
      "1\n",
      "2\n",
      "3\n",
      "4\n",
      "5\n",
      "6\n",
      "7\n",
      "8\n",
      "9\n"
     ]
    }
   ],
   "source": [
    "c=it.chain.from_iterable(['ABC', range(10)])\n",
    "for a in c:\n",
    "    print(a)"
   ]
  },
  {
   "cell_type": "code",
   "execution_count": 35,
   "metadata": {},
   "outputs": [
    {
     "name": "stdout",
     "output_type": "stream",
     "text": [
      "0 0\n",
      "0 1\n",
      "0 2\n",
      "0 3\n",
      "1 0\n",
      "1 1\n",
      "1 2\n",
      "1 3\n",
      "2 0\n",
      "2 1\n",
      "2 2\n",
      "2 3\n"
     ]
    }
   ],
   "source": [
    "for i,j in it.product(range(3),range(4)):\n",
    "    print(i,j)"
   ]
  },
  {
   "cell_type": "markdown",
   "metadata": {},
   "source": [
    "### map\n",
    " The `map` calls a given function on every item of the iterator."
   ]
  },
  {
   "cell_type": "code",
   "execution_count": 36,
   "metadata": {},
   "outputs": [
    {
     "data": {
      "text/plain": [
       "[4, 6, 'abcabc']"
      ]
     },
     "execution_count": 36,
     "metadata": {},
     "output_type": "execute_result"
    }
   ],
   "source": [
    "def double(e):\n",
    "    return e + e\n",
    "\n",
    "l = [2, 3, \"abc\"]\n",
    "\n",
    "list(map(double, l))"
   ]
  },
  {
   "cell_type": "code",
   "execution_count": 37,
   "metadata": {},
   "outputs": [],
   "source": [
    "m=map(double, l)"
   ]
  },
  {
   "cell_type": "code",
   "execution_count": 41,
   "metadata": {},
   "outputs": [
    {
     "ename": "StopIteration",
     "evalue": "",
     "output_type": "error",
     "traceback": [
      "\u001b[1;31m---------------------------------------------------------------------------\u001b[0m",
      "\u001b[1;31mStopIteration\u001b[0m                             Traceback (most recent call last)",
      "\u001b[1;32m<ipython-input-41-8efa10874b95>\u001b[0m in \u001b[0;36m<module>\u001b[1;34m\u001b[0m\n\u001b[1;32m----> 1\u001b[1;33m \u001b[0mnext\u001b[0m\u001b[1;33m(\u001b[0m\u001b[0mm\u001b[0m\u001b[1;33m)\u001b[0m\u001b[1;33m\u001b[0m\u001b[1;33m\u001b[0m\u001b[0m\n\u001b[0m",
      "\u001b[1;31mStopIteration\u001b[0m: "
     ]
    }
   ],
   "source": [
    "next(m)"
   ]
  },{
   "cell_type": "markdown",
   "metadata": {},
   "source": [
    "## Exception handling\n"
   ]
  },
  {
   "cell_type": "markdown",
   "metadata": {},
   "source": [
    "### String formatting\n",
    "We have multiple convenient approaches to generate text output. One of these is the `format()` function. This creates a new string from a base string by replacing the {}-s with the given data. We have multiple solutions to pass on the parameters, just like we had at functions."
   ]
  },
  {
   "cell_type": "code",
   "execution_count": 1,
   "metadata": {},
   "outputs": [
    {
     "name": "stdout",
     "output_type": "stream",
     "text": [
      "Dear Adam, your current balance is 230.2346.\n",
      "Dear Adam, your current balance is 230.2346.\n",
      "Dear Adam, your current balance is 230.2346.\n",
      "Dear Adam, your current balance is 230.2346.\n"
     ]
    }
   ],
   "source": [
    "# default arguments\n",
    "print(\"Dear {}, your current balance is {}.\".format(\"Adam\", 230.2346))\n",
    "\n",
    "# positional arguments\n",
    "print(\"Dear {0}, your current balance is {1}.\".format(\"Adam\", 230.2346))\n",
    "\n",
    "# keyword arguments\n",
    "print(\"Dear {name}, your current balance is {bal}.\".format(name=\"Adam\", bal=230.2346))\n",
    "\n",
    "# mixed\n",
    "print(\"Dear {0}, your current balance is {bal}.\".format(\"Adam\",bal= 230.2346))"
   ]
  },
  {
   "cell_type": "markdown",
   "metadata": {},
   "source": [
    "We can use a dictionary as well:"
   ]
  },
  {
   "cell_type": "code",
   "execution_count": 2,
   "metadata": {},
   "outputs": [
    {
     "name": "stdout",
     "output_type": "stream",
     "text": [
      "Adam is aged: 23\n"
     ]
    }
   ],
   "source": [
    "person = {'age': 23, 'name': 'Adam'}\n",
    "\n",
    "print(\"{p[name]} is aged: {p[age]}\".format(p=person))"
   ]
  },
  {
   "cell_type": "markdown",
   "metadata": {
    "slideshow": {
     "slide_type": "subslide"
    }
   },
   "source": [
    "### String interpolation\n",
    "We can use f-strings as well (details: [PEP498](https://www.python.org/dev/peps/pep-0498/))\n",
    "- This is similar to the method before, but allows us to use any variable.\n",
    "- Watch out for the letter `f` before the string!"
   ]
  },
  {
   "cell_type": "code",
   "execution_count": 3,
   "metadata": {},
   "outputs": [
    {
     "name": "stdout",
     "output_type": "stream",
     "text": [
      "John Smith has 12 apples and 1 dogs.\n"
     ]
    }
   ],
   "source": [
    "szam1 = 12\n",
    "szam2 = 1\n",
    "nev=\"John Smith\"\n",
    "print(f\"{nev} has {szam1} apples and {szam2} dogs.\")"
   ]
  },
  {
   "cell_type": "markdown",
   "metadata": {},
   "source": [
    "#### Problem\n",
    "Try to think of what will happen if we run the code below!"
   ]
  },
  {
   "cell_type": "code",
   "execution_count": 4,
   "metadata": {},
   "outputs": [],
   "source": [
    "import random"
   ]
  },
  {
   "cell_type": "code",
   "execution_count": 5,
   "metadata": {},
   "outputs": [
    {
     "name": "stdout",
     "output_type": "stream",
     "text": [
      "0.1111111111111111\n",
      "0.5\n",
      "0.1111111111111111\n",
      "0.14285714285714285\n",
      "0.2\n",
      "0.3333333333333333\n",
      "0.5\n",
      "0.5\n",
      "0.25\n",
      "0.5\n",
      "0.125\n",
      "0.3333333333333333\n",
      "0.5\n"
     ]
    },
    {
     "ename": "ZeroDivisionError",
     "evalue": "division by zero",
     "output_type": "error",
     "traceback": [
      "\u001b[1;31m---------------------------------------------------------------------------\u001b[0m",
      "\u001b[1;31mZeroDivisionError\u001b[0m                         Traceback (most recent call last)",
      "\u001b[1;32m<ipython-input-5-bee39ce313dd>\u001b[0m in \u001b[0;36m<module>\u001b[1;34m\u001b[0m\n\u001b[0;32m      1\u001b[0m \u001b[1;32mfor\u001b[0m \u001b[0mi\u001b[0m \u001b[1;32min\u001b[0m \u001b[0mrange\u001b[0m\u001b[1;33m(\u001b[0m\u001b[1;36m20\u001b[0m\u001b[1;33m)\u001b[0m\u001b[1;33m:\u001b[0m\u001b[1;33m\u001b[0m\u001b[1;33m\u001b[0m\u001b[0m\n\u001b[1;32m----> 2\u001b[1;33m    \u001b[0mprint\u001b[0m\u001b[1;33m(\u001b[0m\u001b[1;36m1\u001b[0m\u001b[1;33m/\u001b[0m\u001b[0mrandom\u001b[0m\u001b[1;33m.\u001b[0m\u001b[0mrandrange\u001b[0m\u001b[1;33m(\u001b[0m\u001b[1;36m10\u001b[0m\u001b[1;33m)\u001b[0m\u001b[1;33m)\u001b[0m\u001b[1;33m\u001b[0m\u001b[1;33m\u001b[0m\u001b[0m\n\u001b[0m",
      "\u001b[1;31mZeroDivisionError\u001b[0m: division by zero"
     ]
    }
   ],
   "source": [
    "for i in range(20):\n",
    "    print(1/random.randrange(10))"
   ]
  },
  {
   "cell_type": "markdown",
   "metadata": {},
   "source": [
    "# Exception handling\n"
   ]
  },
  {
   "cell_type": "markdown",
   "metadata": {},
   "source": [
    "Some of the common errors:\n",
    "\n",
    "| Error name | Typical reason |\n",
    "| --- | --- |\n",
    "| IndexError: string index out of range  | You went over the length of the string with your index   |\n",
    "| KeyError: 'some_text_here'               |    You have used a key in a dictionary that it did not contain   |\n",
    "| ModuleNotFoundError: No module named 'some_text_here' | You tried to import a module which is not found |\n",
    "| NameError: name 'some_text_here' is not defined | You tried to evaluate a variable name which is not yet pointing to any object | \n",
    "| SyntaxError: can't assign to literal | You tried to use a string as a variable name like `'a'=3` |\n",
    "| SyntaxError: EOL while scanning string literal | Wrong notation of string |\n",
    "| IndentationError: expected an indented block | Identation is incorrect |\n",
    "| SyntaxError: invalid syntax | Syntax error, which is commonly a missing `:` somewhere |\n",
    "| TypeError: can only concatenate str (not \"int\") to str | You tried to handle something as a string which is not a string (this is usually a number) | \n",
    "| TypeError: 'str' object is not callable | You notated a string like a function, e.g.: `\"asd\"(5)` |\n",
    "| ValueError: invalid literal for int() with base 10: 'some_text_here' | You tried to convert a string to text, but the string is not consisting from numbers only | \n",
    "| ZeroDivisionError: division by zero | You divided by zero |\n"
   ]
  },
  {
   "cell_type": "markdown",
   "metadata": {},
   "source": [
    "### Runtime exceptions\n",
    "We can handle runtime exceptions in runtime by using `try` and ` except` commands. We can define what should the program do in case of an error, so it will not raise an error right away. Between `try` and `except` the program watches if it encounters the error defined after `except` , and if so, it will execute the commands that you specify."
   ]
  },
  {
   "cell_type": "code",
   "execution_count": 8,
   "metadata": {},
   "outputs": [
    {
     "name": "stdout",
     "output_type": "stream",
     "text": [
      "0.16666666666666666\n",
      "0.1111111111111111\n",
      "Congrats, you ended the universe by dividing with zero.\n",
      "1.0\n",
      "0.125\n",
      "0.16666666666666666\n",
      "0.125\n",
      "0.16666666666666666\n",
      "0.25\n",
      "0.3333333333333333\n"
     ]
    }
   ],
   "source": [
    "for i in range(10):\n",
    "    try:\n",
    "        print(1/random.randrange(10))\n",
    "    except ZeroDivisionError as e:\n",
    "        print(\"Congrats, you ended the universe by dividing with zero.\")"
   ]
  },
  {
   "cell_type": "code",
   "execution_count": 9,
   "metadata": {},
   "outputs": [
    {
     "name": "stdout",
     "output_type": "stream",
     "text": [
      "<class 'ValueError'>\n",
      "invalid literal for int() with base 10: 'Süsü'\n"
     ]
    }
   ],
   "source": [
    "try:\n",
    "    int(\"Süsü\")\n",
    "except ValueError as e:\n",
    "    print(type(e))\n",
    "    print(e)"
   ]
  },
  {
   "cell_type": "markdown",
   "metadata": {},
   "source": [
    "- We can specify multiple branches of possible errors\n",
    "- Go from the most specific error to the least specific one\n",
    "- We can also define errors that should be raised"
   ]
  },
  {
   "cell_type": "code",
   "execution_count": 11,
   "metadata": {},
   "outputs": [
    {
     "name": "stdout",
     "output_type": "stream",
     "text": [
      "süsü\n",
      "ValueError\n"
     ]
    }
   ],
   "source": [
    "try:\n",
    "    age = int(input())\n",
    "    if age < 0:\n",
    "        raise Exception(\"Age cannot be a negative number\")\n",
    "except ValueError as e:\n",
    "    print(\"ValueError\")\n",
    "except Exception as e:\n",
    "    print(\"This is another type of exception: \"+ str(type(e)))\n",
    "    print(e)"
   ]
  },
  {
   "cell_type": "markdown",
   "metadata": {},
   "source": [
    "### We can handle multiple exceptions together"
   ]
  },
  {
   "cell_type": "markdown",
   "metadata": {},
   "source": [
    "Separately:"
   ]
  },
  {
   "cell_type": "code",
   "execution_count": 13,
   "metadata": {},
   "outputs": [
    {
     "name": "stdout",
     "output_type": "stream",
     "text": [
      "666\n",
      "Your age in the next calendar year will be: 667\n"
     ]
    }
   ],
   "source": [
    "def age_printer(age):\n",
    "    next_age = age + 1\n",
    "    print(\"Your age in the next calendar year will be: \" + str(next_age))\n",
    "    \n",
    "try:\n",
    "    your_age = input()\n",
    "    your_age = int(your_age)\n",
    "    age_printer(your_age)\n",
    "except ValueError:\n",
    "    print(\"We encountered a ValueError\")\n",
    "except TypeError:\n",
    "    print(\"We encountered a TypeError\")"
   ]
  },
  {
   "cell_type": "markdown",
   "metadata": {},
   "source": [
    "Together:\n",
    "    "
   ]
  },
  {
   "cell_type": "code",
   "execution_count": 16,
   "metadata": {},
   "outputs": [
    {
     "name": "stdout",
     "output_type": "stream",
     "text": [
      "süsü\n",
      "We have encountered a ValueError\n"
     ]
    }
   ],
   "source": [
    "def age_printer(age):\n",
    "    next_age = age + 1\n",
    "    print(\"Your age in the next calendar year will be:\" + str(next_age))\n",
    "    \n",
    "try:\n",
    "    your_age = input()\n",
    "    your_age = int(your_age)\n",
    "    age_printer(your_age)\n",
    "except (ValueError, TypeError) as e:\n",
    "    print(\"We have encountered a {}\".format(type(e).__name__))"
   ]
  },
  {
   "cell_type": "markdown",
   "metadata": {},
   "source": [
    "### Except without type\n",
    "\n",
    "- If we do not specify the error type, the command will catch any error, however we lose the error type related information.\n",
    "- The exception without type needs to be the last one."
   ]
  },
  {
   "cell_type": "code",
   "execution_count": 19,
   "metadata": {},
   "outputs": [
    {
     "name": "stdout",
     "output_type": "stream",
     "text": [
      "-6\n",
      "Another type of exception\n"
     ]
    }
   ],
   "source": [
    "try:\n",
    "    age = int(input())\n",
    "    if age < 0:\n",
    "        raise Exception(\"Age cannot be a negative number.\")\n",
    "except ValueError:\n",
    "    print(\"ValueError\")\n",
    "except:\n",
    "    print(\"Another type of exception\")\n",
    "    "
   ]
  },
  {
   "cell_type": "code",
   "execution_count": 20,
   "metadata": {},
   "outputs": [
    {
     "name": "stdout",
     "output_type": "stream",
     "text": [
      "süsü\n",
      "Exception caught: <class 'ValueError'>\n"
     ]
    }
   ],
   "source": [
    "try:\n",
    "    age = int(input())\n",
    "    if age < 0:\n",
    "        raise Exception(\"Age cannot be negative\")\n",
    "except Exception as e:\n",
    "    print(\"Exception caught: {}\".format(type(e)))\n",
    "except ValueError:\n",
    "    print(\"ValueError caught\")"
   ]
  },
  {
   "cell_type": "markdown",
   "metadata": {},
   "source": [
    "### finally\n",
    "\n",
    "- Code after the keyword `finally` will run no matter the errors caught (or no errors)."
   ]
  },
  {
   "cell_type": "code",
   "execution_count": 4,
   "metadata": {},
   "outputs": [
    {
     "name": "stdin",
     "output_type": "stream",
     "text": [
      " d\n"
     ]
    },
    {
     "name": "stdout",
     "output_type": "stream",
     "text": [
      "<class 'ValueError'> invalid literal for int() with base 10: 'd'\n",
      "This code will always run\n"
     ]
    }
   ],
   "source": [
    "try:\n",
    "    age = int(input())\n",
    "except Exception as e:\n",
    "    print(type(e), e)\n",
    "finally:\n",
    "    print(\"This code will always run\")"
   ]
  },
  {
   "cell_type": "markdown",
   "metadata": {},
   "source": [
    "### else\n",
    "\n",
    "- Code after `else` will only run if there are no errors caught"
   ]
  },
  {
   "cell_type": "code",
   "execution_count": 24,
   "metadata": {},
   "outputs": [
    {
     "name": "stdout",
     "output_type": "stream",
     "text": [
      "süsü\n",
      "Exception invalid literal for int() with base 10: 'süsü'\n",
      "This will always run\n"
     ]
    }
   ],
   "source": [
    "try:\n",
    "    age = int(input())\n",
    "except ValueError as e:\n",
    "    print(\"Exception\", e)\n",
    "else:\n",
    "    print(\"No error\")\n",
    "finally:\n",
    "    print(\"This will always run\")"
   ]
  },
  {
   "cell_type": "markdown",
   "metadata": {},
   "source": [
    "### Extending exception handling\n",
    "- We can define additional cases where the program should raise an error\n",
    "- We can define an exception class as well"
   ]
  },
  {
   "cell_type": "markdown",
   "metadata": {},
   "source": [
    "### `raise` keyword\n",
    "\n",
    "- `raise` will raise the defined error"
   ]
  },
  {
   "cell_type": "code",
   "execution_count": 25,
   "metadata": {},
   "outputs": [
    {
     "name": "stdout",
     "output_type": "stream",
     "text": [
      "-6\n",
      "Another type of error: <class 'Exception'>\n",
      "Age cannot be negative\n"
     ]
    }
   ],
   "source": [
    "try:\n",
    "    eletkor = int(input())\n",
    "    if eletkor < 0:\n",
    "        raise Exception(\"Age cannot be negative\")\n",
    "except ValueError as e:\n",
    "    print(\"ValueError\")\n",
    "except Exception as e:\n",
    "    print(\"Another type of error: \"+ str(type(e)))\n",
    "    print(e)"
   ]
  },
  {
   "cell_type": "markdown",
   "metadata": {},
   "source": [
    "### Defining exception classes\n",
    "\n",
    "- Every type that is a child of the class `Exception` (more accurately `BaseException`) can be used as an exception object."
   ]
  },
  {
   "cell_type": "code",
   "execution_count": 26,
   "metadata": {},
   "outputs": [
    {
     "data": {
      "text/plain": [
       "(Exception,)"
      ]
     },
     "execution_count": 26,
     "metadata": {},
     "output_type": "execute_result"
    }
   ],
   "source": [
    "ValueError.__bases__  # This is the query to list the parent classes of a given class "
   ]
  },
  {
   "cell_type": "code",
   "execution_count": 27,
   "metadata": {},
   "outputs": [
    {
     "data": {
      "text/plain": [
       "(BaseException,)"
      ]
     },
     "execution_count": 27,
     "metadata": {},
     "output_type": "execute_result"
    }
   ],
   "source": [
    "Exception.__bases__"
   ]
  },
  {
   "cell_type": "code",
   "execution_count": 28,
   "metadata": {},
   "outputs": [
    {
     "data": {
      "text/plain": [
       "(object,)"
      ]
     },
     "execution_count": 28,
     "metadata": {},
     "output_type": "execute_result"
    }
   ],
   "source": [
    "BaseException.__bases__"
   ]
  },
  {
   "cell_type": "code",
   "execution_count": 29,
   "metadata": {},
   "outputs": [
    {
     "name": "stdout",
     "output_type": "stream",
     "text": [
      "süsü\n",
      "Another error caught of type <class 'ValueError'> and message invalid literal for int() with base 10: 'süsü'\n"
     ]
    }
   ],
   "source": [
    "class NegativeAgeError(Exception):\n",
    "    pass\n",
    "\n",
    "try:\n",
    "    age = int(input())\n",
    "    if age < 0:\n",
    "        raise NegativeAgeError(\"Age cannot be negative\")\n",
    "except NegativeAgeError as e:\n",
    "    print(e)\n",
    "except Exception as e:\n",
    "    print(\"Another error caught of type {} and message {}\".format(type(e), e))"
   ]
  },
  {
   "cell_type": "markdown",
   "metadata": {},
   "source": [
    "Parent class will catch its children as well."
   ]
  },
  {
   "cell_type": "code",
   "execution_count": 31,
   "metadata": {},
   "outputs": [
    {
     "name": "stdout",
     "output_type": "stream",
     "text": [
      "süsü\n",
      "Exception caught: <class 'ValueError'>\n"
     ]
    }
   ],
   "source": [
    "try:\n",
    "    age = int(input())\n",
    "    if age < 0:\n",
    "        raise NegativeAgeError(\"Age cannot be negative. Invalid age: {}\".format(age))\n",
    "except Exception as e:\n",
    "    print(\"Exception caught: {}\".format(type(e)))\n",
    "except NegativeAgeError:\n",
    "    print(\"ValueError caught\")"
   ]
  },
  {
   "cell_type": "markdown",
   "metadata": {},
   "source": [
    "We will see more instances in the lectures where Python uses exception handling in the background."
   ]
  },{
   "cell_type": "markdown",
   "metadata": {},
   "source": [
    "## Introduction to Modules"
   ]
  },
  {
   "cell_type": "markdown",
   "metadata": {},
   "source": [
    "### Importing modules\n",
    "\n",
    "- The `import` method does two things:\n",
    "    1. Looks up the module based on the provided name\n",
    "    2. Makes the module available in the local scope\n",
    "\n",
    "### Importing a full module\n",
    "`import modulename` "
   ]
  },
  {
   "cell_type": "code",
   "execution_count": 2,
   "metadata": {},
   "outputs": [
    {
     "data": {
      "text/plain": [
       "'__breakpointhook__, __displayhook__, __doc__, __excepthook__, __interactivehook__, __loader__, __name__, __package__, __spec__, __stderr__, __stdin__, __stdout__, __unraisablehook__, _base_executable, _clear_type_cache, _current_frames, _debugmallocstats, _enablelegacywindowsfsencoding, _framework, _getframe, _git, _home, _xoptions, addaudithook, api_version, argv, audit, base_exec_prefix, base_prefix, breakpointhook, builtin_module_names, byteorder, call_tracing, callstats, copyright, displayhook, dllhandle, dont_write_bytecode, exc_info, excepthook, exec_prefix, executable, exit, flags, float_info, float_repr_style, get_asyncgen_hooks, get_coroutine_origin_tracking_depth, getallocatedblocks, getcheckinterval, getdefaultencoding, getfilesystemencodeerrors, getfilesystemencoding, getprofile, getrecursionlimit, getrefcount, getsizeof, getswitchinterval, gettrace, getwindowsversion, hash_info, hexversion, implementation, int_info, intern, is_finalizing, maxsize, maxunicode, meta_path, modules, path, path_hooks, path_importer_cache, platform, prefix, ps1, ps2, ps3, pycache_prefix, set_asyncgen_hooks, set_coroutine_origin_tracking_depth, setcheckinterval, setprofile, setrecursionlimit, setswitchinterval, settrace, stderr, stdin, stdout, thread_info, unraisablehook, version, version_info, warnoptions, winver'"
      ]
     },
     "execution_count": 2,
     "metadata": {},
     "output_type": "execute_result"
    }
   ],
   "source": [
    "import sys\n",
    "\n",
    "\", \".join(dir(sys))  # dir function will list an object's methods and attributes"
   ]
  },
  {
   "cell_type": "code",
   "execution_count": 4,
   "metadata": {},
   "outputs": [
    {
     "data": {
      "text/plain": [
       "module"
      ]
     },
     "execution_count": 4,
     "metadata": {},
     "output_type": "execute_result"
    }
   ],
   "source": [
    "import random\n",
    "type(random)"
   ]
  },
  {
   "cell_type": "markdown",
   "metadata": {},
   "source": [
    "After the import, we can call the contents of the module as `modulename.attribute`"
   ]
  },
  {
   "cell_type": "code",
   "execution_count": 5,
   "metadata": {},
   "outputs": [
    {
     "data": {
      "text/plain": [
       "5"
      ]
     },
     "execution_count": 5,
     "metadata": {},
     "output_type": "execute_result"
    }
   ],
   "source": [
    "random.choice([3,4,5]) "
   ]
  },
  {
   "cell_type": "markdown",
   "metadata": {},
   "source": [
    "### Importing a submodule\n",
    "`from modulename import submodule`\n",
    "\n",
    "After this, we can access the content only by calling `submodule` and we do **not** need to specify `modulename.submodule` any more."
   ]
  },
  {
   "cell_type": "code",
   "execution_count": 7,
   "metadata": {},
   "outputs": [
    {
     "name": "stdout",
     "output_type": "stream",
     "text": [
      "os is not defined\n",
      "path is defined\n",
      "os.path is not defined\n"
     ]
    }
   ],
   "source": [
    "from os import path\n",
    "\n",
    "try:\n",
    "    os\n",
    "except NameError:\n",
    "    print(\"os is not defined\")\n",
    "    \n",
    "try:\n",
    "    path\n",
    "    print(\"path is defined\")\n",
    "except NameError:\n",
    "    print(\"path is not defined\")\n",
    "try:\n",
    "    os.path\n",
    "    print(\"os.path is defined\")\n",
    "except NameError:\n",
    "    print(\"os.path is not defined\")"
   ]
  },
  {
   "cell_type": "markdown",
   "metadata": {},
   "source": [
    "With keyword `as` we can specify a custom name which we will use to call the module"
   ]
  },
  {
   "cell_type": "code",
   "execution_count": 8,
   "metadata": {},
   "outputs": [
    {
     "name": "stdout",
     "output_type": "stream",
     "text": [
      "os is not defined\n",
      "os_module is defined\n"
     ]
    }
   ],
   "source": [
    "import os as os_module\n",
    "\n",
    "try:\n",
    "    os\n",
    "except NameError:\n",
    "    print(\"os is not defined\")\n",
    "    \n",
    "try:\n",
    "    os_module\n",
    "    print(\"os_module is defined\")\n",
    "except NameError:\n",
    "    print(\"os_module is not defined\")"
   ]
  },
  {
   "cell_type": "markdown",
   "metadata": {},
   "source": [
    "### We can import multiple modules or submodules in one line"
   ]
  },
  {
   "cell_type": "code",
   "execution_count": null,
   "metadata": {},
   "outputs": [],
   "source": [
    "import os, sys\n",
    "from sys import stdin, stderr, stdout"
   ]
  },
  {
   "cell_type": "markdown",
   "metadata": {},
   "source": [
    "### We can import classes or functions as well"
   ]
  },
  {
   "cell_type": "code",
   "execution_count": 9,
   "metadata": {},
   "outputs": [
    {
     "data": {
      "text/plain": [
       "True"
      ]
     },
     "execution_count": 9,
     "metadata": {},
     "output_type": "execute_result"
    }
   ],
   "source": [
    "from argparse import ArgumentParser\n",
    "import inspect\n",
    "\n",
    "inspect.isclass(ArgumentParser)"
   ]
  },
  {
   "cell_type": "markdown",
   "metadata": {},
   "source": [
    "### Import every submodule from a module\n",
    "\n",
    "`from modulename import *` gives us the full submodule scope from the module without the need to use `modulename.` when calling them. \n",
    "\n",
    "**THIS IS HIGHLY UNRECOMMENDED** because it is possible to overwrite things without noticing it."
   ]
  },
  {
   "cell_type": "code",
   "execution_count": 10,
   "metadata": {},
   "outputs": [
    {
     "name": "stdout",
     "output_type": "stream",
     "text": [
      "I am just some kind of statistic\n"
     ]
    },
    {
     "ename": "TypeError",
     "evalue": "stat() missing required argument 'path' (pos 1)",
     "output_type": "error",
     "traceback": [
      "\u001b[1;31m---------------------------------------------------------------------------\u001b[0m",
      "\u001b[1;31mTypeError\u001b[0m                                 Traceback (most recent call last)",
      "\u001b[1;32m<ipython-input-10-dbac0c59294b>\u001b[0m in \u001b[0;36m<module>\u001b[1;34m\u001b[0m\n\u001b[0;32m      3\u001b[0m \u001b[0mstat\u001b[0m\u001b[1;33m(\u001b[0m\u001b[1;33m)\u001b[0m\u001b[1;33m\u001b[0m\u001b[1;33m\u001b[0m\u001b[0m\n\u001b[0;32m      4\u001b[0m \u001b[1;32mfrom\u001b[0m \u001b[0mos\u001b[0m \u001b[1;32mimport\u001b[0m \u001b[1;33m*\u001b[0m\u001b[1;33m\u001b[0m\u001b[1;33m\u001b[0m\u001b[0m\n\u001b[1;32m----> 5\u001b[1;33m \u001b[0mstat\u001b[0m\u001b[1;33m(\u001b[0m\u001b[1;33m)\u001b[0m\u001b[1;33m\u001b[0m\u001b[1;33m\u001b[0m\u001b[0m\n\u001b[0m",
      "\u001b[1;31mTypeError\u001b[0m: stat() missing required argument 'path' (pos 1)"
     ]
    }
   ],
   "source": [
    "def stat():\n",
    "    print(\"I am just some kind of statistic\")\n",
    "stat()\n",
    "from os import *\n",
    "stat()"
   ]
  },
  {
   "cell_type": "code",
   "execution_count": 11,
   "metadata": {},
   "outputs": [
    {
     "data": {
      "text/plain": [
       "<function nt.stat(path, *, dir_fd=None, follow_symlinks=True)>"
      ]
     },
     "execution_count": 11,
     "metadata": {},
     "output_type": "execute_result"
    }
   ],
   "source": [
    "stat"
   ]
  },
  {
   "cell_type": "markdown",
   "metadata": {},
   "source": [
    "## Installing modules"
   ]
  },
  {
   "cell_type": "code",
   "execution_count": 2,
   "metadata": {},
   "outputs": [],
   "source": [
    "import wikipedia"
   ]
  },
  {
   "cell_type": "markdown",
   "metadata": {},
   "source": [
    "If we get `ModuleNotFoundError`, Python did not find the module on our computer. We have to install the module in this case."
   ]
  },
  {
   "cell_type": "markdown",
   "metadata": {},
   "source": [
    "### pip (pip installs packages)\n",
    "The pip software is automatically installed with Anaconda. On Windows, you can access it with the Anaconda Prompt, and from the Terminal on Linux. How to use:\n",
    "- `pip install modulename`     Installing the module\n",
    "- `pip uninstall modulename`   Deleting the module\n",
    "- `pip list`  Listing the installed modules \n",
    "\n",
    "We can use this to install packages that can be found in the PyPi (https://pypi.org/)"
   ]
  },
  {
   "cell_type": "code",
   "execution_count": 12,
   "metadata": {},
   "outputs": [
    {
     "name": "stdout",
     "output_type": "stream",
     "text": [
      "Package                       Version\n",
      "----------------------------- -------------------\n",
      "alabaster                     0.7.12\n",
      "anyio                         2.0.2\n",
      "appdirs                       1.4.4\n",
      "apptools                      5.1.0\n",
      "argon2-cffi                   20.1.0\n",
      "async-generator               1.10\n",
      "attrs                         20.3.0\n",
      "Babel                         2.9.0\n",
      "backcall                      0.2.0\n",
      "backports.functools-lru-cache 1.6.1\n",
      "beautifulsoup4                4.9.3\n",
      "bleach                        3.2.2\n",
      "brotlipy                      0.7.0\n",
      "cachetools                    4.2.1\n",
      "cachey                        0.2.1\n",
      "certifi                       2020.6.20\n",
      "cffi                          1.14.3\n",
      "chardet                       3.0.4\n",
      "click                         7.1.2\n",
      "cloudpickle                   1.6.0\n",
      "colorama                      0.4.4\n",
      "colorcet                      2.0.6\n",
      "conda                         4.9.2\n",
      "conda-package-handling        1.7.2\n",
      "configobj                     5.0.6\n",
      "cryptography                  3.2.1\n",
      "cycler                        0.10.0\n",
      "cytoolz                       0.11.0\n",
      "dask                          2021.1.1\n",
      "decorator                     4.4.2\n",
      "defusedxml                    0.6.0\n",
      "docstring-parser              0.7.3\n",
      "docutils                      0.16\n",
      "entrypoints                   0.3\n",
      "envisage                      5.0.0\n",
      "Flask                         1.1.2\n",
      "freetype-py                   2.2.0\n",
      "gevent                        21.1.2\n",
      "google-auth                   1.27.1\n",
      "greenlet                      1.0.0\n",
      "HeapDict                      1.0.1\n",
      "idna                          2.10\n",
      "imageio                       2.9.0\n",
      "imageio-ffmpeg                0.4.3\n",
      "imagesize                     1.2.0\n",
      "importlib-metadata            3.4.0\n",
      "importlib-resources           5.1.0\n",
      "ipydatawidgets                4.2.0\n",
      "ipyevents                     0.8.1\n",
      "ipykernel                     5.4.3\n",
      "ipympl                        0.6.3\n",
      "ipython                       7.12.0\n",
      "ipython-genutils              0.2.0\n",
      "ipywidgets                    7.6.3\n",
      "itk-core                      5.1.2\n",
      "itk-filtering                 5.1.2\n",
      "itk-io                        5.1.2\n",
      "itk-numerics                  5.1.2\n",
      "itk-registration              5.1.2\n",
      "itkwidgets                    0.32.0\n",
      "itsdangerous                  1.1.0\n",
      "jedi                          0.17.0\n",
      "Jinja2                        2.11.2\n",
      "json5                         0.9.5\n",
      "jsonschema                    3.2.0\n",
      "jupyter-client                6.1.11\n",
      "jupyter-core                  4.7.0\n",
      "jupyter-server                1.2.2\n",
      "jupyterlab                    3.0.5\n",
      "jupyterlab-pygments           0.1.2\n",
      "jupyterlab-server             2.1.2\n",
      "jupyterlab-widgets            1.0.0\n",
      "kiwisolver                    1.3.1\n",
      "magicgui                      0.2.6\n",
      "MarkupSafe                    1.1.1\n",
      "matplotlib                    3.3.4\n",
      "mayavi                        4.7.2\n",
      "menuinst                      1.4.16\n",
      "mistune                       0.8.4\n",
      "mkl-fft                       1.2.0\n",
      "mkl-random                    1.1.1\n",
      "mkl-service                   2.3.0\n",
      "moviepy                       1.0.3\n",
      "napari                        0.4.3\n",
      "napari-plugin-engine          0.1.9\n",
      "napari-svg                    0.1.4\n",
      "naparimovie                   0.1\n",
      "nbclassic                     0.2.6\n",
      "nbclient                      0.5.1\n",
      "nbconvert                     6.0.7\n",
      "nbformat                      5.1.2\n",
      "nest-asyncio                  1.4.3\n",
      "networkx                      2.5\n",
      "notebook                      6.2.0\n",
      "numpy                         1.19.2\n",
      "numpydoc                      1.1.0\n",
      "oauthlib                      3.1.0\n",
      "olefile                       0.46\n",
      "packaging                     20.8\n",
      "pandas                        1.2.3\n",
      "pandocfilters                 1.4.2\n",
      "param                         1.10.1\n",
      "parso                         0.8.1\n",
      "pickleshare                   0.7.5\n",
      "Pillow                        8.1.2\n",
      "pip                           21.0.1\n",
      "plotly                        4.14.3\n",
      "proglog                       0.1.9\n",
      "prometheus-client             0.9.0\n",
      "prompt-toolkit                3.0.13\n",
      "protobuf                      3.15.5\n",
      "psutil                        5.8.0\n",
      "pyasn1                        0.4.8\n",
      "pyasn1-modules                0.2.8\n",
      "pycosat                       0.6.3\n",
      "pycparser                     2.20\n",
      "pyct                          0.4.6\n",
      "pyface                        7.2.0\n",
      "Pygments                      2.7.4\n",
      "PyOpenGL                      3.1.5\n",
      "pyOpenSSL                     19.1.0\n",
      "pyparsing                     2.4.7\n",
      "PyQt5                         5.15.2\n",
      "PyQt5-sip                     12.8.1\n",
      "pyquaternion                  0.9.9\n",
      "pyrsistent                    0.17.3\n",
      "PySocks                       1.7.1\n",
      "python-dateutil               2.8.1\n",
      "pytz                          2020.5\n",
      "PyWavelets                    1.1.1\n",
      "pywin32                       227\n",
      "pywinpty                      0.5.7\n",
      "PyYAML                        5.4.1\n",
      "pyzmq                         20.0.0\n",
      "qtconsole                     5.0.2\n",
      "QtPy                          1.9.0\n",
      "requests                      2.24.0\n",
      "requests-oauthlib             1.3.0\n",
      "retrying                      1.3.3\n",
      "rsa                           4.7.2\n",
      "ruamel-yaml                   0.15.87\n",
      "scikit-image                  0.17.2\n",
      "scipy                         1.6.0\n",
      "Send2Trash                    1.5.0\n",
      "setuptools                    50.3.1.post20201107\n",
      "six                           1.15.0\n",
      "sniffio                       1.2.0\n",
      "snowballstemmer               2.1.0\n",
      "soupsieve                     2.2.1\n",
      "Sphinx                        3.4.3\n",
      "sphinxcontrib-applehelp       1.0.2\n",
      "sphinxcontrib-devhelp         1.0.2\n",
      "sphinxcontrib-htmlhelp        1.0.3\n",
      "sphinxcontrib-jsmath          1.0.1\n",
      "sphinxcontrib-qthelp          1.0.3\n",
      "sphinxcontrib-serializinghtml 1.1.4\n",
      "tensorboard-plugin-wit        1.8.0\n",
      "terminado                     0.9.2\n",
      "testpath                      0.4.4\n",
      "tifffile                      2021.1.14\n",
      "toolz                         0.11.1\n",
      "tornado                       6.1\n",
      "tqdm                          4.51.0\n",
      "traitlets                     5.0.5\n",
      "traits                        6.2.0\n",
      "traitsui                      7.1.1\n",
      "traittypes                    0.2.1\n",
      "typing-extensions             3.7.4.3\n",
      "urllib3                       1.25.11\n",
      "vispy                         0.6.6\n",
      "vtk                           9.0.1\n",
      "wcwidth                       0.2.5\n",
      "webencodings                  0.5.1\n",
      "Werkzeug                      0.16.0\n",
      "wheel                         0.35.1\n",
      "widgetsnbextension            3.5.1\n",
      "wikipedia                     1.4.0\n",
      "win-inet-pton                 1.1.0\n",
      "wincertstore                  0.2\n",
      "wrapt                         1.12.1\n",
      "zipp                          3.4.0\n",
      "zope.event                    4.5.0\n",
      "zope.interface                5.2.0\n",
      "zstandard                     0.15.1\n"
     ]
    },
    {
     "name": "stderr",
     "output_type": "stream",
     "text": [
      "WARNING: You are using pip version 21.0.1; however, version 21.1.2 is available.\n",
      "You should consider upgrading via the 'c:\\users\\user\\miniconda3\\python.exe -m pip install --upgrade pip' command.\n"
     ]
    }
   ],
   "source": [
    "!pip list     # The ! will make the command behind it run in the Terminal"
   ]
  },
  {
   "cell_type": "markdown",
   "metadata": {},
   "source": [
    "## Useful built-in packages from the standard library\n",
    "Details: https://docs.python.org/3/library/\n",
    "\n",
    "Numeric and Mathematical Modules\n",
    "- numbers — Numeric abstract base classes\n",
    "- math — Mathematical functions\n",
    "- cmath — Mathematical functions for complex numbers\n",
    "- decimal — Decimal fixed point and floating point arithmetic\n",
    "- fractions — Rational numbers\n",
    "- random — Generate pseudo-random numbers\n",
    "- statistics — Mathematical statistics functions\n",
    "\n",
    "Functional Programming Modules\n",
    "- itertools — Functions creating iterators for efficient looping\n",
    "- functools — Higher-order functions and operations on callable objects\n",
    "- operator — Standard operators as functions\n"
   ]
  },
  {
   "cell_type": "markdown",
   "metadata": {},
   "source": [
    "## Useful external libraries\n",
    "- Mathematical and scientific modules  \n",
    " - numpy \n",
    " - scipy\n",
    " - sympy\n",
    "- Visualization\n",
    " - Matplotlib\n",
    " - bokeh \n",
    "- Deep and machine learning, data mining\n",
    " - TensorFlow\n",
    " - PyTorch\n",
    " - Pandas\n",
    "- Languge toolkits\n",
    " - NLTK \n",
    "- Parsing\n",
    " - BeautifulSoup"
   ]
  },
  {
   "cell_type": "markdown",
   "metadata": {},
   "source": [
    "## Additional know-how\n",
    "- How to make your own package https://packaging.python.org/tutorials/distributing-packages/\n",
    "- Virtualenv: For advanced Python users, different versions of each package may be needed for given projects. Virtualenv will help you in handling these and more."
   ]
  },
  {
   "cell_type": "code",
   "execution_count": null,
   "metadata": {},
   "outputs": [],
   "source": []
  }
 ],
 "metadata": {
  "kernelspec": {
   "display_name": "Python 3",
   "language": "python",
   "name": "python3"
  },
  "language_info": {
   "codemirror_mode": {
    "name": "ipython",
    "version": 3
   },
   "file_extension": ".py",
   "mimetype": "text/x-python",
   "name": "python",
   "nbconvert_exporter": "python",
   "pygments_lexer": "ipython3",
   "version": "3.8.8"
  }
 },
 "nbformat": 4,
 "nbformat_minor": 4
}
