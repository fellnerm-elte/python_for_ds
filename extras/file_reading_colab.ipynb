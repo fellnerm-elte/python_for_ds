{
  "nbformat": 4,
  "nbformat_minor": 0,
  "metadata": {
    "colab": {
      "name": "file_reading_colab.ipynb",
      "provenance": []
    },
    "kernelspec": {
      "name": "python3",
      "display_name": "Python 3"
    },
    "language_info": {
      "name": "python"
    }
  },
  "cells": [
    {
      "cell_type": "code",
      "metadata": {
        "colab": {
          "base_uri": "https://localhost:8080/"
        },
        "id": "l-VV1znbRRbk",
        "outputId": "cb0efa59-0121-49c1-eeee-6cf0f31b3743"
      },
      "source": [
        "from google.colab import drive\n",
        "drive.mount('/content/drive')\n",
        "file_path = \"/content/drive/My Drive/Colab Notebooks/demo/week_2_example_file.txt\""
      ],
      "execution_count": 2,
      "outputs": [
        {
          "output_type": "stream",
          "name": "stdout",
          "text": [
            "Drive already mounted at /content/drive; to attempt to forcibly remount, call drive.mount(\"/content/drive\", force_remount=True).\n"
          ]
        }
      ]
    },
    {
      "cell_type": "code",
      "metadata": {
        "id": "E0wtVdifTPZt"
      },
      "source": [
        "with open(file_path) as file:\n",
        "    file_text = file.read()"
      ],
      "execution_count": 5,
      "outputs": []
    },
    {
      "cell_type": "code",
      "metadata": {
        "colab": {
          "base_uri": "https://localhost:8080/"
        },
        "id": "8RxARGIPT4-8",
        "outputId": "a200b54e-0748-405b-82c7-db6b20fc0e3c"
      },
      "source": [
        "print(file_text)"
      ],
      "execution_count": 7,
      "outputs": [
        {
          "output_type": "stream",
          "name": "stdout",
          "text": [
            "1,Donielle,Vickar,dvickar0@tmall.com,true\n",
            "2,Perle,Claye,pclaye1@blogs.com,true\n",
            "3,Flori,Wharf,fwharf2@zdnet.com,true\n",
            "4,Kristen,Haryngton,kharyngton3@yelp.com,false\n",
            "5,Bibby,Covill,bcovill4@psu.edu,true\n",
            "6,Illa,D'Elias,idelias5@twitter.com,true\n",
            "7,Genia,Woodyear,gwoodyear6@reuters.com,false\n",
            "8,Patrice,Rhys,prhys7@meetup.com,false\n",
            "9,Rich,Gavozzi,rgavozzi8@istockphoto.com,false\n",
            "10,Elfie,Comben,ecomben9@un.org,true\n"
          ]
        }
      ]
    },
    {
      "cell_type": "code",
      "metadata": {
        "colab": {
          "base_uri": "https://localhost:8080/"
        },
        "id": "wyXH_q0jTisz",
        "outputId": "1fa1e098-ff23-472d-85bb-582144131e9f"
      },
      "source": [
        "print(type(file_text))"
      ],
      "execution_count": 8,
      "outputs": [
        {
          "output_type": "stream",
          "name": "stdout",
          "text": [
            "<class 'str'>\n"
          ]
        }
      ]
    },
    {
      "cell_type": "code",
      "metadata": {
        "id": "1iVAoc67T2yp"
      },
      "source": [
        ""
      ],
      "execution_count": null,
      "outputs": []
    }
  ]
}