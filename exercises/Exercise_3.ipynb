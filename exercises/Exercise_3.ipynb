{
 "cells": [
  {
   "cell_type": "markdown",
   "id": "2c6fc33d-ba85-402b-896c-456ee1a2960c",
   "metadata": {},
   "source": [
    "# Exercises 3.\n",
    "\n",
    "Deadline for submission: 24th of Oct, 2021\n",
    "\n",
    "These exercises are about operations with files.\n",
    "To work on google colab, use the example inside the <b>extras</b> folder, although from now on it is recommended to use Jupyter Notebook or Jupyter Lab on your computer.\n",
    "\n",
    "A guide for installation:\n",
    "https://test-jupyter.readthedocs.io/en/latest/install.html"
   ]
  },
  {
   "cell_type": "markdown",
   "id": "48ebc74b-bfbd-483b-bc77-1468b1f315ae",
   "metadata": {},
   "source": [
    "## Merging files\n",
    "\n",
    "Given text files f1.txt and f2.txt, write a function that reads the files from their path then merges their lines into a new text file f3.txt as follows:\n",
    "\n",
    "(1) f1_l1\\\n",
    "(2) f2_l1\\\n",
    "(3) f1_l2\\\n",
    "(4) f1_l3\\\n",
    "(5) f2_l2\\\n",
    "(6) f2_l3\\\n",
    "(7) f1_l4\\\n",
    "(8) f1_l5\\\n",
    "(9) f1_l6\\\n",
    "(10) f2_l4\\\n",
    "(11) f2_l5\\\n",
    "(12) f2_l6\\\n",
    "...\n",
    "\n",
    "where fi_lj denotes the jth line of fi.txt (i = 1, 2).\n",
    "\n",
    "### Example inputs\n",
    "\n",
    "<b>f1.txt</b>:\n",
    "\n",
    "aaa\\\n",
    "bbb\\\n",
    "ccc\\\n",
    "ddd\\\n",
    "eee\\\n",
    "fff\\\n",
    "ggg\n",
    "\n",
    "<b>f2.txt</b>:\n",
    "\n",
    "zzz\\\n",
    "yyy\\\n",
    "xxx\n",
    "\n",
    "### Example output\n",
    "\n",
    "<b>f3.txt</b>:\n",
    "\n",
    "aaa\\\n",
    "zzz\\\n",
    "bbb\\\n",
    "yyy\\\n",
    "ccc\\\n",
    "xxx\\\n",
    "ddd\\\n",
    "eee\\\n",
    "fff\\\n",
    "ggg"
   ]
  },
  {
   "cell_type": "code",
   "execution_count": null,
   "id": "577ce12e-f217-4d81-9e8e-ca9cc6a99abe",
   "metadata": {},
   "outputs": [],
   "source": [
    "def file_merger_function(f1_path, f2_path):\n",
    "    pass"
   ]
  },
  {
   "cell_type": "markdown",
   "id": "d4c4978e-b652-43bb-b78e-5bc72b3f1b1b",
   "metadata": {},
   "source": [
    "Make a statistics of the word-distribution of 'The Jungle Book' by Rudyard Kipling:\n",
    "- The file 'JB.txt' contains the book\n",
    "- Use a dictionary, where the individual words are the keys and a word-count are the values.\n",
    "- Use only lower case letters (convert upper case letters to lower case) and omit typographical symbols and punctuation marks (like ., :, !, ?, etc) as well."
   ]
  },
  {
   "cell_type": "code",
   "execution_count": null,
   "id": "20982624-3c8a-4b89-b01a-43af81ff3d9b",
   "metadata": {},
   "outputs": [],
   "source": []
  },
  {
   "cell_type": "markdown",
   "id": "6fda102c-dec0-41dc-9fb1-6f1abe9f4d30",
   "metadata": {},
   "source": [
    "## Invert the dictionary from the previous excercise\n",
    "\n",
    "Create a new dictionary, where the word-counts are the keys and the values are lists containing the appropriate keys from the previous dictionary.\n",
    "\n",
    "## Example:\n",
    "\n",
    "From d = {\n",
    "  'a' : 8,\n",
    "  'b' : 3,\n",
    "  'c' : 3,\n",
    "  'd' : 2,\n",
    "  't' : 1,\n",
    "  'z' : 1\n",
    "  }\n",
    "\n",
    "  To {\n",
    "    1 : ['t', 'z'],\n",
    "    2 : ['d'],\n",
    "    3 : ['b','c'],\n",
    "    8 : ['a']\n",
    "  }"
   ]
  },
  {
   "cell_type": "code",
   "execution_count": null,
   "id": "673abeca-0e5f-4506-abeb-67e63c78466e",
   "metadata": {},
   "outputs": [],
   "source": []
  }
 ],
 "metadata": {
  "kernelspec": {
   "display_name": "Python 3",
   "language": "python",
   "name": "python3"
  },
  "language_info": {
   "codemirror_mode": {
    "name": "ipython",
    "version": 3
   },
   "file_extension": ".py",
   "mimetype": "text/x-python",
   "name": "python",
   "nbconvert_exporter": "python",
   "pygments_lexer": "ipython3",
   "version": "3.8.8"
  }
 },
 "nbformat": 4,
 "nbformat_minor": 5
}
