{
 "cells": [
  {
   "cell_type": "code",
   "execution_count": 1,
   "id": "aa3cedf9-7602-4f74-9547-d118d8eaafaa",
   "metadata": {},
   "outputs": [],
   "source": [
    "import pandas as pd\n",
    "import numpy as np"
   ]
  },
  {
   "cell_type": "markdown",
   "id": "7fcfea9c-d0f5-4783-9c6c-fb50c38a9a56",
   "metadata": {},
   "source": [
    "# Print the result dataframe after each task!"
   ]
  },
  {
   "cell_type": "markdown",
   "id": "775ed14a-0ef9-40b2-a1c3-e6b4dbad0c59",
   "metadata": {},
   "source": [
    "## 1.a Read the test_scores.csv file and store the data in a DataFrame, with the first column as and index"
   ]
  },
  {
   "cell_type": "code",
   "execution_count": null,
   "id": "166e9e28-f6ff-4d6f-9bda-82080c5e3028",
   "metadata": {},
   "outputs": [],
   "source": []
  },
  {
   "cell_type": "markdown",
   "id": "fa8edd9f-03fe-42d1-ad0a-b92be6b3b1df",
   "metadata": {},
   "source": [
    "## 1.b print the first 3 rows of the dataframe, with the following data: name, qualify"
   ]
  },
  {
   "cell_type": "code",
   "execution_count": null,
   "id": "ee9a0f95-61ca-4ab0-a894-f3e0c077170b",
   "metadata": {},
   "outputs": [],
   "source": []
  },
  {
   "cell_type": "markdown",
   "id": "b70c2aba-711a-412f-a7bc-71a6b156626a",
   "metadata": {},
   "source": [
    "## 2.a print the average score of those who qualify"
   ]
  },
  {
   "cell_type": "code",
   "execution_count": null,
   "id": "c41a051a-667d-4fa8-bfd3-b1c61e993ec8",
   "metadata": {},
   "outputs": [],
   "source": []
  },
  {
   "cell_type": "markdown",
   "id": "4ac9170e-8660-4610-9c2d-4f9f84ba6382",
   "metadata": {},
   "source": [
    "## 2.b replace the missing values with the average of the others. Keep in mind that this is not an \"inplace\" operation by default"
   ]
  },
  {
   "cell_type": "code",
   "execution_count": null,
   "id": "e42de4d3-aeee-49e2-80e4-178319691c5c",
   "metadata": {},
   "outputs": [],
   "source": []
  },
  {
   "cell_type": "markdown",
   "id": "dc54cd87-d199-47a4-95af-022820fc3d78",
   "metadata": {},
   "source": [
    "## 3.a in the previously filled dataframe, select the rows where the number of attempts is greater than 2 and qualify is false"
   ]
  },
  {
   "cell_type": "code",
   "execution_count": null,
   "id": "6b5e2f50-0494-49e0-bcc4-3b4ea929f65f",
   "metadata": {},
   "outputs": [],
   "source": []
  },
  {
   "cell_type": "markdown",
   "id": "6a22298a-dc74-45c3-bebb-aa8a8c1ce5e6",
   "metadata": {},
   "source": [
    "## 3.b return the sum of the examination attempts by the students"
   ]
  },
  {
   "cell_type": "code",
   "execution_count": null,
   "id": "35a35f31-448d-4688-b980-6b94a6dfc6a1",
   "metadata": {},
   "outputs": [],
   "source": []
  },
  {
   "cell_type": "markdown",
   "id": "af1cf127-c0b9-4dcb-bbdb-c4ff28872f92",
   "metadata": {},
   "source": [
    "## 4.a replace the \"yes\" and \"no\" values in the qualify column to True and False"
   ]
  },
  {
   "cell_type": "code",
   "execution_count": null,
   "id": "fe967bb8-95df-4f8b-853f-58fc0e0af44d",
   "metadata": {},
   "outputs": [],
   "source": []
  },
  {
   "cell_type": "markdown",
   "id": "508eb4b5-3898-4674-9b6e-86c257ae6ac6",
   "metadata": {},
   "source": [
    "## 4.b change the name James in row 3 to Sam"
   ]
  },
  {
   "cell_type": "code",
   "execution_count": null,
   "id": "234ca650-ceba-43d9-9e61-c5415b4bf694",
   "metadata": {},
   "outputs": [],
   "source": []
  },
  {
   "cell_type": "markdown",
   "id": "cd62f349-e4ed-4b38-b7d1-081bcfdd7666",
   "metadata": {},
   "source": [
    "## 5.a insert a new colum \"color\" to the dataframe"
   ]
  },
  {
   "cell_type": "code",
   "execution_count": 28,
   "id": "f1db499c-d69e-4c89-8e53-681806ba050c",
   "metadata": {},
   "outputs": [],
   "source": [
    "color = ['Red','Blue','Orange','Red','White','White','Blue','Green','Green','Red']"
   ]
  },
  {
   "cell_type": "code",
   "execution_count": null,
   "id": "c584929c-60eb-4b93-b167-2f9b6b4800f0",
   "metadata": {},
   "outputs": [],
   "source": []
  },
  {
   "cell_type": "markdown",
   "id": "fee62b3e-4c1f-4332-83e6-2906c20f48c5",
   "metadata": {},
   "source": [
    "## 5.b save the modified df to file as test_scores_updated.csv"
   ]
  },
  {
   "cell_type": "code",
   "execution_count": null,
   "id": "997ffff9-b9da-4ac1-bf11-8cad34b1c783",
   "metadata": {},
   "outputs": [],
   "source": []
  }
 ],
 "metadata": {
  "kernelspec": {
   "display_name": "taverz",
   "language": "python",
   "name": "taverz"
  },
  "language_info": {
   "codemirror_mode": {
    "name": "ipython",
    "version": 3
   },
   "file_extension": ".py",
   "mimetype": "text/x-python",
   "name": "python",
   "nbconvert_exporter": "python",
   "pygments_lexer": "ipython3",
   "version": "3.7.13"
  }
 },
 "nbformat": 4,
 "nbformat_minor": 5
}
