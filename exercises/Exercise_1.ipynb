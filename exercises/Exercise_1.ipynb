{
 "cells": [
  {
   "cell_type": "markdown",
   "id": "0501f330-6702-4908-9782-2dd24c32e00e",
   "metadata": {},
   "source": [
    "# Exercises 1. \n",
    "\n",
    "Deadline for submission: 2nd of Oct, 2021"
   ]
  },
  {
   "cell_type": "markdown",
   "id": "a5869386-6d86-437e-abbc-62e02cc3c375",
   "metadata": {},
   "source": [
    "### 1. Write a function that accepts a polynomial input as a string in the format of \"a*x^2+b*x+c\" and calculates the roots. The degree of the polynomial is less than 3.\n",
    "\n",
    "\n",
    "Example inputs:\n",
    "\n",
    "\"1*x^2+2*x+4\"\n",
    "\n",
    "\"3*x+1\"\n",
    "\n",
    "\"2*x^2+1*x+4\""
   ]
  },
  {
   "cell_type": "code",
   "execution_count": null,
   "id": "01eba85e-6bb9-47ca-b24d-1593119261f8",
   "metadata": {},
   "outputs": [],
   "source": []
  },
  {
   "cell_type": "markdown",
   "id": "c75a72a5-354e-478e-ba82-2f16ce33c87f",
   "metadata": {},
   "source": [
    "### 2a. Write a function that accepts an $a_k$ element, $k$ and $l$ index and $d$ difference from an arithmetic sequence, then calculates the $a_l$ element\n",
    "\n",
    "Example input:\n",
    "\n",
    "$a_k = 5$, $k = 2$, $l = 4$, $d = 3$\n",
    "\n",
    "Example result for $a_l$:\n",
    "\n",
    "11"
   ]
  },
  {
   "cell_type": "code",
   "execution_count": null,
   "id": "2ba0c3e9-d456-4813-829f-b557130f4366",
   "metadata": {},
   "outputs": [],
   "source": []
  },
  {
   "cell_type": "markdown",
   "id": "2842cdd3-776b-413a-a6dd-536091e4d9e8",
   "metadata": {},
   "source": [
    "### 2b. Write a function that accepts an $a_k$ element, $k$ and $l$ index and $r$ ratio from a geometric sequence, then calculates the $a_l$ element\n",
    "\n",
    "Example input:\n",
    "\n",
    "$a_k = 18$, $k = 2$, $l = 4$, $r = 3$\n",
    "\n",
    "Example result for $a_l$:\n",
    "\n",
    "162"
   ]
  },
  {
   "cell_type": "code",
   "execution_count": null,
   "id": "80fda328-ee9b-4bb1-9b7c-1304ac5a053d",
   "metadata": {},
   "outputs": [],
   "source": []
  },
  {
   "cell_type": "markdown",
   "id": "9a05e3d3-e71c-49bd-a931-57c31d2ab7d3",
   "metadata": {},
   "source": [
    "### 3. Write a function that calculates the frequency of each word in an input text\n",
    "\n",
    "Example input:\n",
    "\n",
    "\"Mathematicians seek and use patterns to formulate new conjectures; they resolve the truth or falsity of such by mathematical proof. When mathematical structures are good models of real phenomena, mathematical reasoning can be used to provide insight or predictions about nature. \"\n",
    "\n",
    "(from wikipedia.org/wiki/Mathematics)"
   ]
  },
  {
   "cell_type": "code",
   "execution_count": null,
   "id": "f6a33725-768d-4972-9f15-3c5272f34fe8",
   "metadata": {},
   "outputs": [],
   "source": []
  },
  {
   "cell_type": "markdown",
   "id": "de2674ac-3ec6-48e8-8f1a-48c0c9b5879d",
   "metadata": {},
   "source": [
    "## 4. Surface area part 1\n",
    "\n",
    "In this problem, your input is a list of integers, which represents the layout of a 3D structure, cubes arranged into towers in a row. The first number is the height of the first tower, the second is the height of the second and so on.\n",
    "The function has to calculate the surface area of the structure (we suppose the surface area of a single cube is 6 unit). If the input starts as [2, 1], then the first tower connects with the second one in 1 level, which means the surface area is 14 units.\n",
    "\n",
    "\n",
    "(This is a simplified, one row case of the following problem: https://www.hackerrank.com/challenges/3d-surface-area/problem)\n",
    "\n",
    "Example input:\n",
    "\n",
    "[3,2,3,1]\n",
    "\n",
    "Example result:\n",
    "\n",
    "34\n"
   ]
  },
  {
   "cell_type": "code",
   "execution_count": null,
   "id": "e8841dae-21ad-4510-aa69-d874b3c3e4e9",
   "metadata": {},
   "outputs": [],
   "source": []
  }
 ],
 "metadata": {
  "kernelspec": {
   "display_name": "Python 3",
   "language": "python",
   "name": "python3"
  },
  "language_info": {
   "codemirror_mode": {
    "name": "ipython",
    "version": 3
   },
   "file_extension": ".py",
   "mimetype": "text/x-python",
   "name": "python",
   "nbconvert_exporter": "python",
   "pygments_lexer": "ipython3",
   "version": "3.8.8"
  }
 },
 "nbformat": 4,
 "nbformat_minor": 5
}
