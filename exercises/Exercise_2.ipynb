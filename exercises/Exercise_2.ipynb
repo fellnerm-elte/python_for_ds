{
 "cells": [
  {
   "cell_type": "markdown",
   "id": "763cddc4-75e2-4dbd-93a9-b48097c51f02",
   "metadata": {},
   "source": [
    "# Exercises 2.\n",
    "\n",
    "Deadline for submission: 9th of Oct, 2021"
   ]
  },
  {
   "cell_type": "markdown",
   "id": "bd535153-1091-4767-a293-ca35fef184fc",
   "metadata": {},
   "source": [
    "## Queen's Attack\n",
    "\n",
    "https://www.hackerrank.com/challenges/queens-attack-2/problem\n",
    "\n",
    "You will be given a square chess board with one queen and a number of obstacles placed on it. Determine how many squares the queen can attack. A queen is standing on an $n$ by $n$ chessboard. The chess board's rows are numbered from 1 to $n$, going from bottom to top. Its columns are numbered from 1 to $n$, going from left to right. Each square is referenced by a tuple, $(r, c$, describing the row, $r$, and column, $c$, where the square is located.\n",
    "\n",
    "The queen is standing at position $(r_q, c_q)$. In a single move, she can attack any square in any of the eight directions (left, right, up, down, and the four diagonals). In the diagram below, the green circles denote all the cells the queen can attack from $(4,4)$:\n",
    "\n",
    "![chess_1](images/ex_2_chess1.png)\n",
    "\n",
    "Given the queen's position and the locations of all the obstacles, find and print the number of squares the queen can attack from her position at $(r_q, c_q)$. In the board above, there are 24 such squares.\n",
    "\n",
    "There are obstacles on the chessboard, each preventing the queen from attacking any square beyond it on that path. For example, an obstacle at location $(3,5)$ in the diagram above prevents the queen from attacking cells $(3,5)$, $(2,6)$, and $(1,7)$.\n",
    "\n",
    "![chess_1](images/ex_2_chess2.png)\n",
    "\n",
    "\n",
    "The has the following parameters:\n",
    "- int n: the number of rows and columns in the board\n",
    "- nt k: the number of obstacles on the board\n",
    "- int r_q: the row number of the queen's position\n",
    "- int c_q: the column number of the queen's position\n",
    "- int obstacles[k][2]: each element is an array of 2 integers, the row and column of an obstacle\n",
    "\n",
    "Returns\n",
    "- int: the number of squares the queen can attack"
   ]
  },
  {
   "cell_type": "code",
   "execution_count": null,
   "id": "50c5cf25-8438-48a9-b935-2603dd80e4c2",
   "metadata": {},
   "outputs": [],
   "source": []
  },
  {
   "cell_type": "markdown",
   "id": "602ff1a6-4e39-4562-aeab-f67ee9c9de7f",
   "metadata": {},
   "source": [
    "## Validating credit card numbers\n",
    "\n",
    "https://www.hackerrank.com/challenges/validating-credit-card-number/problem\n",
    "\n",
    "A valid credit card from ABCD Bank has the following characteristics:\n",
    "\n",
    "► It must start with a 4, 5 or 6.\\\n",
    "► It must contain exactly 16 digits.\\\n",
    "► It must only consist of digits (0-9).\\\n",
    "► It may have digits in groups of 4, separated by one hyphen \"-\".\\\n",
    "► It must NOT use any other separator like ' ' , '_', etc.\\\n",
    "► It must NOT have 4 or more consecutive repeated digits.\n",
    "\n",
    "### Examples:\n",
    "\n",
    "#### Valid Credit Card Numbers\n",
    "\n",
    "4253625879615786\\\n",
    "4424424424442444\\\n",
    "5122-2368-7954-3214\n",
    "\n",
    "#### Invalid Credit Card Numbers\n",
    "\n",
    "42536258796157867       #17 digits in card number → Invalid\\\n",
    "4424444424442444        #Consecutive digits are repeating 4 or more times → Invalid\\\n",
    "5122-2368-7954 - 3214   #Separators other than '-' are used → Invalid\\\n",
    "44244x4424442444        #Contains non digit characters → Invalid\\\n",
    "0525362587961578        #Doesn't start with 4, 5 or 6 → Invalid\n",
    "\n",
    "### Input Format\n",
    "\n",
    "The input of the function is a list of credit card numbers.\n",
    "\n",
    "\n",
    "Sample Input\n",
    "\n",
    "\n",
    "[4123456789123456, \\\n",
    "5123-4567-8912-3456,\\\n",
    "61234-567-8912-3456,\\\n",
    "4123356789123456,\\\n",
    "5133-3367-8912-3456,\\\n",
    "5123 - 3567 - 8912 - 3456]\n",
    "\n",
    "Sample Output\n",
    "\n",
    "[Valid,\\\n",
    "Valid,\\\n",
    "Invalid,\\\n",
    "Valid,\\\n",
    "Invalid,\\\n",
    "Invalid]\n",
    "\n",
    "Output Format\n",
    "\n",
    "For each element in the list, print 'Valid' if the credit card number is valid. Otherwise, print 'Invalid'. Do not print the quotes.\n",
    "\n"
   ]
  },
  {
   "cell_type": "code",
   "execution_count": null,
   "id": "c3f34d43-a62b-462a-8aab-0d8a9a6e268d",
   "metadata": {},
   "outputs": [],
   "source": []
  }
 ],
 "metadata": {
  "kernelspec": {
   "display_name": "Python 3",
   "language": "python",
   "name": "python3"
  },
  "language_info": {
   "codemirror_mode": {
    "name": "ipython",
    "version": 3
   },
   "file_extension": ".py",
   "mimetype": "text/x-python",
   "name": "python",
   "nbconvert_exporter": "python",
   "pygments_lexer": "ipython3",
   "version": "3.8.8"
  }
 },
 "nbformat": 4,
 "nbformat_minor": 5
}
