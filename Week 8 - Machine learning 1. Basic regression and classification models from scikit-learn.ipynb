{
  "nbformat": 4,
  "nbformat_minor": 5,
  "metadata": {
    "kernelspec": {
      "display_name": "Python 3",
      "language": "python",
      "name": "python3"
    },
    "language_info": {
      "codemirror_mode": {
        "name": "ipython",
        "version": 3
      },
      "file_extension": ".py",
      "mimetype": "text/x-python",
      "name": "python",
      "nbconvert_exporter": "python",
      "pygments_lexer": "ipython3",
      "version": "3.8.8"
    },
    "colab": {
      "name": "Week 8 - Machine learning 1. Basic regression and classification models from scikit-learn.ipynb",
      "provenance": [],
      "collapsed_sections": []
    }
  },
  "cells": [
    {
      "cell_type": "markdown",
      "metadata": {
        "id": "5ee7b2bd"
      },
      "source": [
        "# Python for Data Science\n",
        "\n",
        "## Lecture 8: Machine learning 1."
      ],
      "id": "5ee7b2bd"
    },
    {
      "cell_type": "markdown",
      "metadata": {
        "id": "F0KFddnvCbsy"
      },
      "source": [
        "### Machine learning methods\n",
        "\n",
        "Categories:\n",
        "\n",
        "    I. Supervised learning\n",
        "        1) Classification\n",
        "        2) Regression\n",
        "    II. Unsupervised learning\n",
        "        1) Clustering\n",
        "        2) Density estimation        \n",
        "\\+ visualization\n",
        "\n",
        "Now: I.1) and I.2)"
      ],
      "id": "F0KFddnvCbsy"
    },
    {
      "cell_type": "markdown",
      "metadata": {
        "id": "4teUywfIC25Q"
      },
      "source": [
        "### I.1) Classification\n",
        "\n",
        "IMDB dataset"
      ],
      "id": "4teUywfIC25Q"
    },
    {
      "cell_type": "code",
      "metadata": {
        "id": "public-minutes",
        "outputId": "2e55cd0d-ecbe-42f1-9253-42c567a8b4f8"
      },
      "source": [
        "import pandas as pd\n",
        "import numpy as np\n",
        "df_review = pd.read_csv('IMDB Dataset.csv')\n",
        "df_review"
      ],
      "id": "public-minutes",
      "execution_count": null,
      "outputs": [
        {
          "data": {
            "text/html": [
              "<div>\n",
              "<style scoped>\n",
              "    .dataframe tbody tr th:only-of-type {\n",
              "        vertical-align: middle;\n",
              "    }\n",
              "\n",
              "    .dataframe tbody tr th {\n",
              "        vertical-align: top;\n",
              "    }\n",
              "\n",
              "    .dataframe thead th {\n",
              "        text-align: right;\n",
              "    }\n",
              "</style>\n",
              "<table border=\"1\" class=\"dataframe\">\n",
              "  <thead>\n",
              "    <tr style=\"text-align: right;\">\n",
              "      <th></th>\n",
              "      <th>review</th>\n",
              "      <th>sentiment</th>\n",
              "    </tr>\n",
              "  </thead>\n",
              "  <tbody>\n",
              "    <tr>\n",
              "      <th>0</th>\n",
              "      <td>One of the other reviewers has mentioned that ...</td>\n",
              "      <td>positive</td>\n",
              "    </tr>\n",
              "    <tr>\n",
              "      <th>1</th>\n",
              "      <td>A wonderful little production. &lt;br /&gt;&lt;br /&gt;The...</td>\n",
              "      <td>positive</td>\n",
              "    </tr>\n",
              "    <tr>\n",
              "      <th>2</th>\n",
              "      <td>I thought this was a wonderful way to spend ti...</td>\n",
              "      <td>positive</td>\n",
              "    </tr>\n",
              "    <tr>\n",
              "      <th>3</th>\n",
              "      <td>Basically there's a family where a little boy ...</td>\n",
              "      <td>negative</td>\n",
              "    </tr>\n",
              "    <tr>\n",
              "      <th>4</th>\n",
              "      <td>Petter Mattei's \"Love in the Time of Money\" is...</td>\n",
              "      <td>positive</td>\n",
              "    </tr>\n",
              "    <tr>\n",
              "      <th>...</th>\n",
              "      <td>...</td>\n",
              "      <td>...</td>\n",
              "    </tr>\n",
              "    <tr>\n",
              "      <th>49995</th>\n",
              "      <td>I thought this movie did a down right good job...</td>\n",
              "      <td>positive</td>\n",
              "    </tr>\n",
              "    <tr>\n",
              "      <th>49996</th>\n",
              "      <td>Bad plot, bad dialogue, bad acting, idiotic di...</td>\n",
              "      <td>negative</td>\n",
              "    </tr>\n",
              "    <tr>\n",
              "      <th>49997</th>\n",
              "      <td>I am a Catholic taught in parochial elementary...</td>\n",
              "      <td>negative</td>\n",
              "    </tr>\n",
              "    <tr>\n",
              "      <th>49998</th>\n",
              "      <td>I'm going to have to disagree with the previou...</td>\n",
              "      <td>negative</td>\n",
              "    </tr>\n",
              "    <tr>\n",
              "      <th>49999</th>\n",
              "      <td>No one expects the Star Trek movies to be high...</td>\n",
              "      <td>negative</td>\n",
              "    </tr>\n",
              "  </tbody>\n",
              "</table>\n",
              "<p>50000 rows × 2 columns</p>\n",
              "</div>"
            ],
            "text/plain": [
              "                                                  review sentiment\n",
              "0      One of the other reviewers has mentioned that ...  positive\n",
              "1      A wonderful little production. <br /><br />The...  positive\n",
              "2      I thought this was a wonderful way to spend ti...  positive\n",
              "3      Basically there's a family where a little boy ...  negative\n",
              "4      Petter Mattei's \"Love in the Time of Money\" is...  positive\n",
              "...                                                  ...       ...\n",
              "49995  I thought this movie did a down right good job...  positive\n",
              "49996  Bad plot, bad dialogue, bad acting, idiotic di...  negative\n",
              "49997  I am a Catholic taught in parochial elementary...  negative\n",
              "49998  I'm going to have to disagree with the previou...  negative\n",
              "49999  No one expects the Star Trek movies to be high...  negative\n",
              "\n",
              "[50000 rows x 2 columns]"
            ]
          },
          "execution_count": 13,
          "metadata": {},
          "output_type": "execute_result"
        }
      ]
    },
    {
      "cell_type": "markdown",
      "metadata": {
        "id": "6ZXuSr4BFFs9"
      },
      "source": [
        "Taking a sample dataset:"
      ],
      "id": "6ZXuSr4BFFs9"
    },
    {
      "cell_type": "code",
      "metadata": {
        "id": "bacterial-number"
      },
      "source": [
        "df_positive = df_review[df_review['sentiment']=='positive'][:1000]\n",
        "df_negative = df_review[df_review['sentiment']=='negative'][:1000]\n",
        "df_review_sample = pd.concat([df_positive, df_negative])"
      ],
      "id": "bacterial-number",
      "execution_count": null,
      "outputs": []
    },
    {
      "cell_type": "markdown",
      "metadata": {
        "id": "SArgJsXzFQ8E"
      },
      "source": [
        "Creating train and test datasets"
      ],
      "id": "SArgJsXzFQ8E"
    },
    {
      "cell_type": "code",
      "metadata": {
        "id": "processed-narrative"
      },
      "source": [
        "from sklearn.model_selection import train_test_split\n",
        "\n",
        "train, test = train_test_split(df_review_sample, test_size=0.33, random_state=42)"
      ],
      "id": "processed-narrative",
      "execution_count": null,
      "outputs": []
    },
    {
      "cell_type": "markdown",
      "metadata": {
        "id": "WCT7xQDAFirh"
      },
      "source": [
        "Setting independent and dependent variables\n"
      ],
      "id": "WCT7xQDAFirh"
    },
    {
      "cell_type": "code",
      "metadata": {
        "id": "finnish-american"
      },
      "source": [
        "train_x, train_y = train['review'], train['sentiment']\n",
        "test_x, test_y = test['review'], test['sentiment']"
      ],
      "id": "finnish-american",
      "execution_count": null,
      "outputs": []
    },
    {
      "cell_type": "markdown",
      "metadata": {
        "id": "mtwsAflUFq_i"
      },
      "source": [
        "Converting text to numerical values"
      ],
      "id": "mtwsAflUFq_i"
    },
    {
      "cell_type": "code",
      "metadata": {
        "id": "classified-assumption",
        "outputId": "15187c0f-9b77-4e7d-9f11-0251e88905d6"
      },
      "source": [
        "from sklearn.feature_extraction.text import TfidfVectorizer\n",
        "tfidf = TfidfVectorizer(stop_words='english')\n",
        "train_x_vector = tfidf.fit_transform(train_x)\n",
        "train_x_vector"
      ],
      "id": "classified-assumption",
      "execution_count": null,
      "outputs": [
        {
          "data": {
            "text/plain": [
              "<1340x20202 sparse matrix of type '<class 'numpy.float64'>'\n",
              "\twith 116136 stored elements in Compressed Sparse Row format>"
            ]
          },
          "execution_count": 8,
          "metadata": {},
          "output_type": "execute_result"
        }
      ]
    },
    {
      "cell_type": "markdown",
      "metadata": {
        "id": "sqCkHGbLF1vh"
      },
      "source": [
        "Displaying the matrix\n"
      ],
      "id": "sqCkHGbLF1vh"
    },
    {
      "cell_type": "code",
      "metadata": {
        "id": "mineral-cyprus"
      },
      "source": [
        "pd.DataFrame.sparse.from_spmatrix(train_x_vector,\n",
        "                                  index=train_x.index,\n",
        "                                  columns=tfidf.get_feature_names())"
      ],
      "id": "mineral-cyprus",
      "execution_count": null,
      "outputs": []
    },
    {
      "cell_type": "markdown",
      "metadata": {
        "id": "Dqq_-HYMGFpm"
      },
      "source": [
        "Transforming vector $x$"
      ],
      "id": "Dqq_-HYMGFpm"
    },
    {
      "cell_type": "code",
      "metadata": {
        "id": "sought-canyon",
        "outputId": "8f33a1f5-8ee8-4e3a-87a6-654700026d6f"
      },
      "source": [
        "test_x_vector = tfidf.transform(test_x)\n",
        "test_x_vector"
      ],
      "id": "sought-canyon",
      "execution_count": null,
      "outputs": [
        {
          "data": {
            "text/plain": [
              "<660x20202 sparse matrix of type '<class 'numpy.float64'>'\n",
              "\twith 52954 stored elements in Compressed Sparse Row format>"
            ]
          },
          "execution_count": 13,
          "metadata": {},
          "output_type": "execute_result"
        }
      ]
    },
    {
      "cell_type": "markdown",
      "metadata": {
        "id": "eG-ZM9jNGYRU"
      },
      "source": [
        "##I.1. Classification methods\n",
        "###I.1.a) Support vector machine"
      ],
      "id": "eG-ZM9jNGYRU"
    },
    {
      "cell_type": "code",
      "metadata": {
        "id": "usual-apartment",
        "outputId": "090e3907-f0c4-436b-8fe1-3c3c459c4c11"
      },
      "source": [
        "from sklearn.svm import SVC\n",
        "svc = SVC(kernel='linear')\n",
        "svc.fit(train_x_vector, train_y)"
      ],
      "id": "usual-apartment",
      "execution_count": null,
      "outputs": [
        {
          "data": {
            "text/plain": [
              "SVC(kernel='linear')"
            ]
          },
          "execution_count": 10,
          "metadata": {},
          "output_type": "execute_result"
        }
      ]
    },
    {
      "cell_type": "code",
      "metadata": {
        "id": "neural-eleven",
        "outputId": "3666d5dc-a57e-4dd4-a713-7fb61857b05c"
      },
      "source": [
        "print(svc.predict(tfidf.transform(['A good movie'])))\n",
        "print(svc.predict(tfidf.transform(['An excellent movie'])))\n",
        "print(svc.predict(tfidf.transform(['I did not like this movie at all'])))"
      ],
      "id": "neural-eleven",
      "execution_count": null,
      "outputs": [
        {
          "name": "stdout",
          "output_type": "stream",
          "text": [
            "['positive']\n",
            "['positive']\n",
            "['negative']\n"
          ]
        }
      ]
    },
    {
      "cell_type": "markdown",
      "metadata": {
        "id": "6lzn4VmFGrNr"
      },
      "source": [
        "###I.1.b) Decision tree"
      ],
      "id": "6lzn4VmFGrNr"
    },
    {
      "cell_type": "code",
      "metadata": {
        "id": "interesting-occurrence",
        "outputId": "97525d23-21cf-44a1-a241-e37a103db970"
      },
      "source": [
        "\n",
        "\n",
        "from sklearn.tree import DecisionTreeClassifier\n",
        "dec_tree = DecisionTreeClassifier()\n",
        "dec_tree.fit(train_x_vector, train_y)"
      ],
      "id": "interesting-occurrence",
      "execution_count": null,
      "outputs": [
        {
          "data": {
            "text/plain": [
              "DecisionTreeClassifier()"
            ]
          },
          "execution_count": 10,
          "metadata": {},
          "output_type": "execute_result"
        }
      ]
    },
    {
      "cell_type": "code",
      "metadata": {
        "id": "included-federation",
        "outputId": "90c82c2d-fbd5-466c-cc27-db0b1f129896"
      },
      "source": [
        "print(dec_tree.predict(tfidf.transform(['A good movie'])))\n",
        "print(dec_tree.predict(tfidf.transform(['An excellent movie'])))\n",
        "print(dec_tree.predict(tfidf.transform(['I did not like this movie at all'])))"
      ],
      "id": "included-federation",
      "execution_count": null,
      "outputs": [
        {
          "name": "stdout",
          "output_type": "stream",
          "text": [
            "['positive']\n",
            "['positive']\n",
            "['negative']\n"
          ]
        }
      ]
    },
    {
      "cell_type": "markdown",
      "metadata": {
        "id": "YsNnXZQ4G4qc"
      },
      "source": [
        "###I.1.c) Naive Bayes\n"
      ],
      "id": "YsNnXZQ4G4qc"
    },
    {
      "cell_type": "code",
      "metadata": {
        "id": "informational-classification",
        "outputId": "639b344c-e0a0-433f-b82b-4864bfc1bb9b"
      },
      "source": [
        "from sklearn.naive_bayes import GaussianNB\n",
        "gnb = GaussianNB()\n",
        "gnb.fit(train_x_vector.toarray(), train_y)"
      ],
      "id": "informational-classification",
      "execution_count": null,
      "outputs": [
        {
          "data": {
            "text/plain": [
              "GaussianNB()"
            ]
          },
          "execution_count": 13,
          "metadata": {},
          "output_type": "execute_result"
        }
      ]
    },
    {
      "cell_type": "code",
      "metadata": {
        "id": "universal-highland",
        "outputId": "a0b26564-15d7-4a51-e2da-dc714962dc1e"
      },
      "source": [
        "print(gnb.predict(tfidf.transform(['A good movie']).toarray()))\n",
        "print(gnb.predict(tfidf.transform(['An excellent movie']).toarray()))\n",
        "print(gnb.predict(tfidf.transform(['I did not like this movie at all']).toarray()))"
      ],
      "id": "universal-highland",
      "execution_count": null,
      "outputs": [
        {
          "name": "stdout",
          "output_type": "stream",
          "text": [
            "['negative']\n",
            "['negative']\n",
            "['negative']\n"
          ]
        }
      ]
    },
    {
      "cell_type": "markdown",
      "metadata": {
        "id": "NkajY_w3HA5d"
      },
      "source": [
        "###I.1.d) Logistic regression"
      ],
      "id": "NkajY_w3HA5d"
    },
    {
      "cell_type": "code",
      "metadata": {
        "id": "strong-rebecca",
        "outputId": "5a671c00-01b8-4e95-a6b0-3883ffba7473"
      },
      "source": [
        "from sklearn.linear_model import LogisticRegression\n",
        "log_reg = LogisticRegression()\n",
        "log_reg.fit(train_x_vector, train_y)"
      ],
      "id": "strong-rebecca",
      "execution_count": null,
      "outputs": [
        {
          "data": {
            "text/plain": [
              "LogisticRegression()"
            ]
          },
          "execution_count": 25,
          "metadata": {},
          "output_type": "execute_result"
        }
      ]
    },
    {
      "cell_type": "code",
      "metadata": {
        "id": "defined-frontier",
        "outputId": "2da24237-7fa1-4748-aa8d-a2458749e5b6"
      },
      "source": [
        "print(log_reg.predict(tfidf.transform(['A good movie'])))\n",
        "print(log_reg.predict(tfidf.transform(['An excellent movie'])))\n",
        "print(log_reg.predict(tfidf.transform(['I did not like this movie at all'])))"
      ],
      "id": "defined-frontier",
      "execution_count": null,
      "outputs": [
        {
          "name": "stdout",
          "output_type": "stream",
          "text": [
            "['negative']\n",
            "['positive']\n",
            "['negative']\n"
          ]
        }
      ]
    },
    {
      "cell_type": "markdown",
      "metadata": {
        "id": "rNcbJ63rHLj5"
      },
      "source": [
        "##Model evaluation\n",
        "###a) Mean accuracy"
      ],
      "id": "rNcbJ63rHLj5"
    },
    {
      "cell_type": "code",
      "metadata": {
        "id": "racial-pakistan",
        "outputId": "d1e5b633-b4e2-48c7-cd26-ec3070180258"
      },
      "source": [
        "print(svc.score(test_x_vector, test_y))\n",
        "print(dec_tree.score(test_x_vector, test_y))\n",
        "print(gnb.score(test_x_vector.toarray(), test_y))\n",
        "print(log_reg.score(test_x_vector, test_y))"
      ],
      "id": "racial-pakistan",
      "execution_count": null,
      "outputs": [
        {
          "name": "stdout",
          "output_type": "stream",
          "text": [
            "0.8378787878787879\n",
            "0.7181818181818181\n",
            "0.6287878787878788\n",
            "0.8121212121212121\n"
          ]
        }
      ]
    },
    {
      "cell_type": "markdown",
      "metadata": {
        "id": "nihD4qbRHVkx"
      },
      "source": [
        "###b) F1 score\n",
        "\n",
        "F1 Score = 2*(Recall * Precision) / (Recall + Precision)\n",
        "\n",
        "Recall literally is how many of the true positives were recalled (found), i.e. how many of the correct hits were also found.\n",
        "\n",
        "Precision (your formula is incorrect) is how many of the returned hits were true positive, i.e. how many of the found were correct hits."
      ],
      "id": "nihD4qbRHVkx"
    },
    {
      "cell_type": "code",
      "metadata": {
        "id": "corresponding-oregon",
        "outputId": "e6b4ab58-a3ca-4cd4-e67f-70698b656b84"
      },
      "source": [
        "from sklearn.metrics import f1_score\n",
        "f1_score(test_y, svc.predict(test_x_vector),\n",
        "         labels=['positive', 'negative'],\n",
        "         average=None)\n"
      ],
      "id": "corresponding-oregon",
      "execution_count": null,
      "outputs": [
        {
          "data": {
            "text/plain": [
              "array([0.8410104 , 0.83462133])"
            ]
          },
          "execution_count": 14,
          "metadata": {},
          "output_type": "execute_result"
        }
      ]
    },
    {
      "cell_type": "markdown",
      "metadata": {
        "id": "Hfu2WrkLHnjd"
      },
      "source": [
        "###c) Classification score"
      ],
      "id": "Hfu2WrkLHnjd"
    },
    {
      "cell_type": "code",
      "metadata": {
        "id": "relative-shadow",
        "outputId": "2c77d4f9-a271-408c-eae5-e894300550d7"
      },
      "source": [
        "from sklearn.metrics import classification_report\n",
        "print(classification_report(test_y, \n",
        "                            svc.predict(test_x_vector),\n",
        "                            labels=['positive', 'negative']))"
      ],
      "id": "relative-shadow",
      "execution_count": null,
      "outputs": [
        {
          "name": "stdout",
          "output_type": "stream",
          "text": [
            "              precision    recall  f1-score   support\n",
            "\n",
            "    positive       0.81      0.87      0.84       325\n",
            "    negative       0.87      0.81      0.83       335\n",
            "\n",
            "    accuracy                           0.84       660\n",
            "   macro avg       0.84      0.84      0.84       660\n",
            "weighted avg       0.84      0.84      0.84       660\n",
            "\n"
          ]
        }
      ]
    },
    {
      "cell_type": "markdown",
      "metadata": {
        "id": "ISiojdeYHx-B"
      },
      "source": [
        "###d) Confusion matrix"
      ],
      "id": "ISiojdeYHx-B"
    },
    {
      "cell_type": "code",
      "metadata": {
        "id": "north-advertiser",
        "outputId": "d2918b6d-66fe-4b3b-8e73-6e846b32f290"
      },
      "source": [
        "from sklearn.metrics import confusion_matrix\n",
        "conf_mat = confusion_matrix(test_y, \n",
        "                            svc.predict(test_x_vector), \n",
        "                            labels=['positive', 'negative'])\n",
        "conf_mat"
      ],
      "id": "north-advertiser",
      "execution_count": null,
      "outputs": [
        {
          "data": {
            "text/plain": [
              "array([[283,  42],\n",
              "       [ 65, 270]])"
            ]
          },
          "execution_count": 17,
          "metadata": {},
          "output_type": "execute_result"
        }
      ]
    },
    {
      "cell_type": "markdown",
      "metadata": {
        "id": "9gWIw-GWH1HB"
      },
      "source": [
        "###Model tuning"
      ],
      "id": "9gWIw-GWH1HB"
    },
    {
      "cell_type": "code",
      "metadata": {
        "id": "novel-herald",
        "outputId": "a3994209-18d9-470d-d755-4afe9118ff40"
      },
      "source": [
        "from sklearn.model_selection import GridSearchCV #set the parameters\n",
        "parameters = {'C': [1,4,8,16,32] ,'kernel':['linear', 'rbf']}\n",
        "svc = SVC()\n",
        "svc_grid = GridSearchCV(svc,parameters, cv=5)\n",
        "\n",
        "svc_grid.fit(train_x_vector, train_y)"
      ],
      "id": "novel-herald",
      "execution_count": null,
      "outputs": [
        {
          "data": {
            "text/plain": [
              "GridSearchCV(cv=5, estimator=SVC(),\n",
              "             param_grid={'C': [1, 4, 8, 16, 32], 'kernel': ['linear', 'rbf']})"
            ]
          },
          "execution_count": 19,
          "metadata": {},
          "output_type": "execute_result"
        }
      ]
    },
    {
      "cell_type": "code",
      "metadata": {
        "id": "ideal-cooling",
        "outputId": "9bc6c561-e613-4bf2-c915-ade6a5504791"
      },
      "source": [
        "print(svc_grid.best_params_)\n",
        "print(svc_grid.best_estimator_)"
      ],
      "id": "ideal-cooling",
      "execution_count": null,
      "outputs": [
        {
          "name": "stdout",
          "output_type": "stream",
          "text": [
            "{'C': 1, 'kernel': 'linear'}\n",
            "SVC(C=1, kernel='linear')\n"
          ]
        }
      ]
    },
    {
      "cell_type": "markdown",
      "metadata": {
        "id": "i3UdOvKiIDl-"
      },
      "source": [
        "##I.2) Regression"
      ],
      "id": "i3UdOvKiIDl-"
    },
    {
      "cell_type": "code",
      "metadata": {
        "id": "simplified-poland",
        "outputId": "a5d068e3-ada2-4586-a820-95f98decb264"
      },
      "source": [
        "dataset = pd.read_csv('student_scores.csv')\n",
        "dataset.shape"
      ],
      "id": "simplified-poland",
      "execution_count": null,
      "outputs": [
        {
          "data": {
            "text/plain": [
              "(25, 2)"
            ]
          },
          "execution_count": 6,
          "metadata": {},
          "output_type": "execute_result"
        }
      ]
    },
    {
      "cell_type": "code",
      "metadata": {
        "id": "renewable-missouri",
        "outputId": "af5871c4-869f-493c-f5e0-449af8f32ab7"
      },
      "source": [
        "dataset.head()\n"
      ],
      "id": "renewable-missouri",
      "execution_count": null,
      "outputs": [
        {
          "data": {
            "text/html": [
              "<div>\n",
              "<style scoped>\n",
              "    .dataframe tbody tr th:only-of-type {\n",
              "        vertical-align: middle;\n",
              "    }\n",
              "\n",
              "    .dataframe tbody tr th {\n",
              "        vertical-align: top;\n",
              "    }\n",
              "\n",
              "    .dataframe thead th {\n",
              "        text-align: right;\n",
              "    }\n",
              "</style>\n",
              "<table border=\"1\" class=\"dataframe\">\n",
              "  <thead>\n",
              "    <tr style=\"text-align: right;\">\n",
              "      <th></th>\n",
              "      <th>Hours</th>\n",
              "      <th>Scores</th>\n",
              "    </tr>\n",
              "  </thead>\n",
              "  <tbody>\n",
              "    <tr>\n",
              "      <th>0</th>\n",
              "      <td>2.5</td>\n",
              "      <td>21</td>\n",
              "    </tr>\n",
              "    <tr>\n",
              "      <th>1</th>\n",
              "      <td>5.1</td>\n",
              "      <td>47</td>\n",
              "    </tr>\n",
              "    <tr>\n",
              "      <th>2</th>\n",
              "      <td>3.2</td>\n",
              "      <td>27</td>\n",
              "    </tr>\n",
              "    <tr>\n",
              "      <th>3</th>\n",
              "      <td>8.5</td>\n",
              "      <td>75</td>\n",
              "    </tr>\n",
              "    <tr>\n",
              "      <th>4</th>\n",
              "      <td>3.5</td>\n",
              "      <td>30</td>\n",
              "    </tr>\n",
              "  </tbody>\n",
              "</table>\n",
              "</div>"
            ],
            "text/plain": [
              "   Hours  Scores\n",
              "0    2.5      21\n",
              "1    5.1      47\n",
              "2    3.2      27\n",
              "3    8.5      75\n",
              "4    3.5      30"
            ]
          },
          "execution_count": 10,
          "metadata": {},
          "output_type": "execute_result"
        }
      ]
    },
    {
      "cell_type": "code",
      "metadata": {
        "id": "small-romania",
        "outputId": "d46fc3af-1d0e-40c4-f4b9-3fcdb3abd892"
      },
      "source": [
        "dataset.describe()"
      ],
      "id": "small-romania",
      "execution_count": null,
      "outputs": [
        {
          "data": {
            "text/plain": [
              "<AxesSubplot:xlabel='Hours'>"
            ]
          },
          "execution_count": 15,
          "metadata": {},
          "output_type": "execute_result"
        },
        {
          "data": {
            "image/png": "[encoded data removed]",
            "text/plain": [
              "<Figure size 432x288 with 1 Axes>"
            ]
          },
          "metadata": {
            "needs_background": "light"
          },
          "output_type": "display_data"
        }
      ]
    },
    {
      "cell_type": "markdown",
      "metadata": {
        "id": "iLWbEFsCMpxW"
      },
      "source": [
        "Plotting"
      ],
      "id": "iLWbEFsCMpxW"
    },
    {
      "cell_type": "code",
      "metadata": {
        "id": "A6HanwhnMn8r"
      },
      "source": [
        "dataset.plot(x='Hours', y='Scores', style='o')"
      ],
      "id": "A6HanwhnMn8r",
      "execution_count": null,
      "outputs": []
    },
    {
      "cell_type": "markdown",
      "metadata": {
        "id": "5CTeoVTUMxR2"
      },
      "source": [
        "Dependent and independent variables"
      ],
      "id": "5CTeoVTUMxR2"
    },
    {
      "cell_type": "code",
      "metadata": {
        "id": "sealed-enclosure"
      },
      "source": [
        "X = dataset.iloc[:, :-1].values\n",
        "y = dataset.iloc[:, 1].values\n",
        "\n"
      ],
      "id": "sealed-enclosure",
      "execution_count": null,
      "outputs": []
    },
    {
      "cell_type": "markdown",
      "metadata": {
        "id": "Rljb4Q2EM8-s"
      },
      "source": [
        "Training and test sets"
      ],
      "id": "Rljb4Q2EM8-s"
    },
    {
      "cell_type": "code",
      "metadata": {
        "id": "wvDmJR1iNHlT"
      },
      "source": [
        "from sklearn.model_selection import train_test_split\n",
        "X_train, X_test, y_train, y_test = train_test_split(X, y, test_size=0.2, random_state=0)"
      ],
      "id": "wvDmJR1iNHlT",
      "execution_count": null,
      "outputs": []
    },
    {
      "cell_type": "markdown",
      "metadata": {
        "id": "U9rj_FK9NK1p"
      },
      "source": [
        "###I.2.a) Linear regression (ordinary least squares (OLS))"
      ],
      "id": "U9rj_FK9NK1p"
    },
    {
      "cell_type": "code",
      "metadata": {
        "id": "german-choir",
        "outputId": "3cac0036-e536-40e7-abd6-bb20a73cb972"
      },
      "source": [
        "from sklearn.linear_model import LinearRegression\n",
        "regressor = LinearRegression()\n",
        "regressor.fit(X_train, y_train)\n",
        "print(regressor.intercept_)\n",
        "print(regressor.coef_)"
      ],
      "id": "german-choir",
      "execution_count": null,
      "outputs": [
        {
          "name": "stdout",
          "output_type": "stream",
          "text": [
            "2.018160041434662\n",
            "[9.91065648]\n"
          ]
        }
      ]
    },
    {
      "cell_type": "markdown",
      "metadata": {
        "id": "Lkzy3n7NNUm9"
      },
      "source": [
        "Making predictions"
      ],
      "id": "Lkzy3n7NNUm9"
    },
    {
      "cell_type": "code",
      "metadata": {
        "id": "lesser-delhi",
        "outputId": "10c9cfbc-050e-4382-cd93-f574a5e4a1b5"
      },
      "source": [
        "y_pred = regressor.predict(X_test)\n",
        "df = pd.DataFrame({'Actual': y_test, 'Predicted': y_pred})\n",
        "df"
      ],
      "id": "lesser-delhi",
      "execution_count": null,
      "outputs": [
        {
          "data": {
            "text/html": [
              "<div>\n",
              "<style scoped>\n",
              "    .dataframe tbody tr th:only-of-type {\n",
              "        vertical-align: middle;\n",
              "    }\n",
              "\n",
              "    .dataframe tbody tr th {\n",
              "        vertical-align: top;\n",
              "    }\n",
              "\n",
              "    .dataframe thead th {\n",
              "        text-align: right;\n",
              "    }\n",
              "</style>\n",
              "<table border=\"1\" class=\"dataframe\">\n",
              "  <thead>\n",
              "    <tr style=\"text-align: right;\">\n",
              "      <th></th>\n",
              "      <th>Actual</th>\n",
              "      <th>Predicted</th>\n",
              "    </tr>\n",
              "  </thead>\n",
              "  <tbody>\n",
              "    <tr>\n",
              "      <th>0</th>\n",
              "      <td>20</td>\n",
              "      <td>16.884145</td>\n",
              "    </tr>\n",
              "    <tr>\n",
              "      <th>1</th>\n",
              "      <td>27</td>\n",
              "      <td>33.732261</td>\n",
              "    </tr>\n",
              "    <tr>\n",
              "      <th>2</th>\n",
              "      <td>69</td>\n",
              "      <td>75.357018</td>\n",
              "    </tr>\n",
              "    <tr>\n",
              "      <th>3</th>\n",
              "      <td>30</td>\n",
              "      <td>26.794801</td>\n",
              "    </tr>\n",
              "    <tr>\n",
              "      <th>4</th>\n",
              "      <td>62</td>\n",
              "      <td>60.491033</td>\n",
              "    </tr>\n",
              "  </tbody>\n",
              "</table>\n",
              "</div>"
            ],
            "text/plain": [
              "   Actual  Predicted\n",
              "0      20  16.884145\n",
              "1      27  33.732261\n",
              "2      69  75.357018\n",
              "3      30  26.794801\n",
              "4      62  60.491033"
            ]
          },
          "execution_count": 11,
          "metadata": {},
          "output_type": "execute_result"
        }
      ]
    },
    {
      "cell_type": "markdown",
      "metadata": {
        "id": "k9CkAqBHNc57"
      },
      "source": [
        "Evaluating the model"
      ],
      "id": "k9CkAqBHNc57"
    },
    {
      "cell_type": "code",
      "metadata": {
        "id": "right-lingerie",
        "outputId": "589ab140-1008-4ac1-b4b1-2b44c1d63bf4"
      },
      "source": [
        "from sklearn import metrics\n",
        "print('Mean Absolute Error:', metrics.mean_absolute_error(y_test, y_pred))\n",
        "print('Mean Squared Error:', metrics.mean_squared_error(y_test, y_pred))\n",
        "print('Root Mean Squared Error:', np.sqrt(metrics.mean_squared_error(y_test, y_pred)))"
      ],
      "id": "right-lingerie",
      "execution_count": null,
      "outputs": [
        {
          "name": "stdout",
          "output_type": "stream",
          "text": [
            "Mean Absolute Error: 4.183859899002982\n",
            "Mean Squared Error: 21.598769307217456\n",
            "Root Mean Squared Error: 4.647447612100373\n"
          ]
        }
      ]
    },
    {
      "cell_type": "markdown",
      "metadata": {
        "id": "8K7bx2eUNlFF"
      },
      "source": [
        "###I.2.b) Multiple linear regression"
      ],
      "id": "8K7bx2eUNlFF"
    },
    {
      "cell_type": "code",
      "metadata": {
        "id": "forced-clearing"
      },
      "source": [
        "import pandas as pd\n",
        "import numpy as np\n",
        "import matplotlib.pyplot as plt\n",
        "%matplotlib inline"
      ],
      "id": "forced-clearing",
      "execution_count": null,
      "outputs": []
    },
    {
      "cell_type": "code",
      "metadata": {
        "id": "tough-church",
        "outputId": "79267c4a-b0e5-4d70-9d2c-5f047618f685"
      },
      "source": [
        "dataset = pd.read_csv('petrol_consumption.csv')\n",
        "dataset.head()\n",
        "dataset.describe()"
      ],
      "id": "tough-church",
      "execution_count": null,
      "outputs": [
        {
          "data": {
            "text/html": [
              "<div>\n",
              "<style scoped>\n",
              "    .dataframe tbody tr th:only-of-type {\n",
              "        vertical-align: middle;\n",
              "    }\n",
              "\n",
              "    .dataframe tbody tr th {\n",
              "        vertical-align: top;\n",
              "    }\n",
              "\n",
              "    .dataframe thead th {\n",
              "        text-align: right;\n",
              "    }\n",
              "</style>\n",
              "<table border=\"1\" class=\"dataframe\">\n",
              "  <thead>\n",
              "    <tr style=\"text-align: right;\">\n",
              "      <th></th>\n",
              "      <th>Petrol_tax</th>\n",
              "      <th>Average_income</th>\n",
              "      <th>Paved_Highways</th>\n",
              "      <th>Population_Driver_licence(%)</th>\n",
              "      <th>Petrol_Consumption</th>\n",
              "    </tr>\n",
              "  </thead>\n",
              "  <tbody>\n",
              "    <tr>\n",
              "      <th>count</th>\n",
              "      <td>48.000000</td>\n",
              "      <td>48.000000</td>\n",
              "      <td>48.000000</td>\n",
              "      <td>48.000000</td>\n",
              "      <td>48.000000</td>\n",
              "    </tr>\n",
              "    <tr>\n",
              "      <th>mean</th>\n",
              "      <td>7.668333</td>\n",
              "      <td>4241.833333</td>\n",
              "      <td>5565.416667</td>\n",
              "      <td>0.570333</td>\n",
              "      <td>576.770833</td>\n",
              "    </tr>\n",
              "    <tr>\n",
              "      <th>std</th>\n",
              "      <td>0.950770</td>\n",
              "      <td>573.623768</td>\n",
              "      <td>3491.507166</td>\n",
              "      <td>0.055470</td>\n",
              "      <td>111.885816</td>\n",
              "    </tr>\n",
              "    <tr>\n",
              "      <th>min</th>\n",
              "      <td>5.000000</td>\n",
              "      <td>3063.000000</td>\n",
              "      <td>431.000000</td>\n",
              "      <td>0.451000</td>\n",
              "      <td>344.000000</td>\n",
              "    </tr>\n",
              "    <tr>\n",
              "      <th>25%</th>\n",
              "      <td>7.000000</td>\n",
              "      <td>3739.000000</td>\n",
              "      <td>3110.250000</td>\n",
              "      <td>0.529750</td>\n",
              "      <td>509.500000</td>\n",
              "    </tr>\n",
              "    <tr>\n",
              "      <th>50%</th>\n",
              "      <td>7.500000</td>\n",
              "      <td>4298.000000</td>\n",
              "      <td>4735.500000</td>\n",
              "      <td>0.564500</td>\n",
              "      <td>568.500000</td>\n",
              "    </tr>\n",
              "    <tr>\n",
              "      <th>75%</th>\n",
              "      <td>8.125000</td>\n",
              "      <td>4578.750000</td>\n",
              "      <td>7156.000000</td>\n",
              "      <td>0.595250</td>\n",
              "      <td>632.750000</td>\n",
              "    </tr>\n",
              "    <tr>\n",
              "      <th>max</th>\n",
              "      <td>10.000000</td>\n",
              "      <td>5342.000000</td>\n",
              "      <td>17782.000000</td>\n",
              "      <td>0.724000</td>\n",
              "      <td>968.000000</td>\n",
              "    </tr>\n",
              "  </tbody>\n",
              "</table>\n",
              "</div>"
            ],
            "text/plain": [
              "       Petrol_tax  Average_income  Paved_Highways  \\\n",
              "count   48.000000       48.000000       48.000000   \n",
              "mean     7.668333     4241.833333     5565.416667   \n",
              "std      0.950770      573.623768     3491.507166   \n",
              "min      5.000000     3063.000000      431.000000   \n",
              "25%      7.000000     3739.000000     3110.250000   \n",
              "50%      7.500000     4298.000000     4735.500000   \n",
              "75%      8.125000     4578.750000     7156.000000   \n",
              "max     10.000000     5342.000000    17782.000000   \n",
              "\n",
              "       Population_Driver_licence(%)  Petrol_Consumption  \n",
              "count                     48.000000           48.000000  \n",
              "mean                       0.570333          576.770833  \n",
              "std                        0.055470          111.885816  \n",
              "min                        0.451000          344.000000  \n",
              "25%                        0.529750          509.500000  \n",
              "50%                        0.564500          568.500000  \n",
              "75%                        0.595250          632.750000  \n",
              "max                        0.724000          968.000000  "
            ]
          },
          "execution_count": 10,
          "metadata": {},
          "output_type": "execute_result"
        }
      ]
    },
    {
      "cell_type": "markdown",
      "metadata": {
        "id": "E-cCzuQkNuWA"
      },
      "source": [
        "Dependent and independent variables"
      ],
      "id": "E-cCzuQkNuWA"
    },
    {
      "cell_type": "code",
      "metadata": {
        "id": "continent-citizenship"
      },
      "source": [
        "\n",
        "X = dataset[['Petrol_tax', 'Average_income', 'Paved_Highways',\n",
        "       'Population_Driver_licence(%)']]\n",
        "y = dataset['Petrol_Consumption']"
      ],
      "id": "continent-citizenship",
      "execution_count": null,
      "outputs": []
    },
    {
      "cell_type": "markdown",
      "metadata": {
        "id": "S4HN1PaRNyn0"
      },
      "source": [
        "Training and test sets"
      ],
      "id": "S4HN1PaRNyn0"
    },
    {
      "cell_type": "code",
      "metadata": {
        "id": "statistical-sleeve"
      },
      "source": [
        "from sklearn.model_selection import train_test_split\n",
        "X_train, X_test, y_train, y_test = train_test_split(X, y, test_size=0.2, random_state=0)"
      ],
      "id": "statistical-sleeve",
      "execution_count": null,
      "outputs": []
    },
    {
      "cell_type": "markdown",
      "metadata": {
        "id": "R2nrYnU_N2p9"
      },
      "source": [
        "Training the model"
      ],
      "id": "R2nrYnU_N2p9"
    },
    {
      "cell_type": "code",
      "metadata": {
        "id": "confused-guitar",
        "outputId": "27545fde-4da3-41b7-879a-f8ee95178ea2"
      },
      "source": [
        "from sklearn.linear_model import LinearRegression\n",
        "regressor = LinearRegression()\n",
        "regressor.fit(X_train, y_train)"
      ],
      "id": "confused-guitar",
      "execution_count": null,
      "outputs": [
        {
          "data": {
            "text/plain": [
              "LinearRegression()"
            ]
          },
          "execution_count": 28,
          "metadata": {},
          "output_type": "execute_result"
        }
      ]
    },
    {
      "cell_type": "markdown",
      "metadata": {
        "id": "8XZ5AyKZOAei"
      },
      "source": [
        "Coefficients"
      ],
      "id": "8XZ5AyKZOAei"
    },
    {
      "cell_type": "code",
      "metadata": {
        "id": "considerable-processor",
        "outputId": "278c3152-b9c0-4f45-d040-5fa3322a8813"
      },
      "source": [
        "coeff_df = pd.DataFrame(regressor.coef_, X.columns, columns=['Coefficient'])\n",
        "coeff_df"
      ],
      "id": "considerable-processor",
      "execution_count": null,
      "outputs": [
        {
          "data": {
            "text/html": [
              "<div>\n",
              "<style scoped>\n",
              "    .dataframe tbody tr th:only-of-type {\n",
              "        vertical-align: middle;\n",
              "    }\n",
              "\n",
              "    .dataframe tbody tr th {\n",
              "        vertical-align: top;\n",
              "    }\n",
              "\n",
              "    .dataframe thead th {\n",
              "        text-align: right;\n",
              "    }\n",
              "</style>\n",
              "<table border=\"1\" class=\"dataframe\">\n",
              "  <thead>\n",
              "    <tr style=\"text-align: right;\">\n",
              "      <th></th>\n",
              "      <th>Coefficient</th>\n",
              "    </tr>\n",
              "  </thead>\n",
              "  <tbody>\n",
              "    <tr>\n",
              "      <th>Petrol_tax</th>\n",
              "      <td>-40.016660</td>\n",
              "    </tr>\n",
              "    <tr>\n",
              "      <th>Average_income</th>\n",
              "      <td>-0.065413</td>\n",
              "    </tr>\n",
              "    <tr>\n",
              "      <th>Paved_Highways</th>\n",
              "      <td>-0.004741</td>\n",
              "    </tr>\n",
              "    <tr>\n",
              "      <th>Population_Driver_licence(%)</th>\n",
              "      <td>1341.862121</td>\n",
              "    </tr>\n",
              "  </tbody>\n",
              "</table>\n",
              "</div>"
            ],
            "text/plain": [
              "                              Coefficient\n",
              "Petrol_tax                     -40.016660\n",
              "Average_income                  -0.065413\n",
              "Paved_Highways                  -0.004741\n",
              "Population_Driver_licence(%)  1341.862121"
            ]
          },
          "execution_count": 29,
          "metadata": {},
          "output_type": "execute_result"
        }
      ]
    },
    {
      "cell_type": "markdown",
      "metadata": {
        "id": "astxvlVaOGvW"
      },
      "source": [
        "Making predictions"
      ],
      "id": "astxvlVaOGvW"
    },
    {
      "cell_type": "code",
      "metadata": {
        "id": "unable-childhood",
        "outputId": "4e066d89-bee4-4426-8701-11afb4aa93e4"
      },
      "source": [
        "y_pred = regressor.predict(X_test)\n",
        "df = pd.DataFrame({'Actual': y_test, 'Predicted': y_pred})\n",
        "df"
      ],
      "id": "unable-childhood",
      "execution_count": null,
      "outputs": [
        {
          "data": {
            "text/html": [
              "<div>\n",
              "<style scoped>\n",
              "    .dataframe tbody tr th:only-of-type {\n",
              "        vertical-align: middle;\n",
              "    }\n",
              "\n",
              "    .dataframe tbody tr th {\n",
              "        vertical-align: top;\n",
              "    }\n",
              "\n",
              "    .dataframe thead th {\n",
              "        text-align: right;\n",
              "    }\n",
              "</style>\n",
              "<table border=\"1\" class=\"dataframe\">\n",
              "  <thead>\n",
              "    <tr style=\"text-align: right;\">\n",
              "      <th></th>\n",
              "      <th>Actual</th>\n",
              "      <th>Predicted</th>\n",
              "    </tr>\n",
              "  </thead>\n",
              "  <tbody>\n",
              "    <tr>\n",
              "      <th>29</th>\n",
              "      <td>534</td>\n",
              "      <td>469.391989</td>\n",
              "    </tr>\n",
              "    <tr>\n",
              "      <th>4</th>\n",
              "      <td>410</td>\n",
              "      <td>545.645464</td>\n",
              "    </tr>\n",
              "    <tr>\n",
              "      <th>26</th>\n",
              "      <td>577</td>\n",
              "      <td>589.668394</td>\n",
              "    </tr>\n",
              "    <tr>\n",
              "      <th>30</th>\n",
              "      <td>571</td>\n",
              "      <td>569.730413</td>\n",
              "    </tr>\n",
              "    <tr>\n",
              "      <th>32</th>\n",
              "      <td>577</td>\n",
              "      <td>649.774809</td>\n",
              "    </tr>\n",
              "    <tr>\n",
              "      <th>37</th>\n",
              "      <td>704</td>\n",
              "      <td>646.631164</td>\n",
              "    </tr>\n",
              "    <tr>\n",
              "      <th>34</th>\n",
              "      <td>487</td>\n",
              "      <td>511.608148</td>\n",
              "    </tr>\n",
              "    <tr>\n",
              "      <th>40</th>\n",
              "      <td>587</td>\n",
              "      <td>672.475177</td>\n",
              "    </tr>\n",
              "    <tr>\n",
              "      <th>7</th>\n",
              "      <td>467</td>\n",
              "      <td>502.074782</td>\n",
              "    </tr>\n",
              "    <tr>\n",
              "      <th>10</th>\n",
              "      <td>580</td>\n",
              "      <td>501.270734</td>\n",
              "    </tr>\n",
              "  </tbody>\n",
              "</table>\n",
              "</div>"
            ],
            "text/plain": [
              "    Actual   Predicted\n",
              "29     534  469.391989\n",
              "4      410  545.645464\n",
              "26     577  589.668394\n",
              "30     571  569.730413\n",
              "32     577  649.774809\n",
              "37     704  646.631164\n",
              "34     487  511.608148\n",
              "40     587  672.475177\n",
              "7      467  502.074782\n",
              "10     580  501.270734"
            ]
          },
          "execution_count": 31,
          "metadata": {},
          "output_type": "execute_result"
        }
      ]
    },
    {
      "cell_type": "markdown",
      "metadata": {
        "id": "yphp9gOLONG6"
      },
      "source": [
        "Evaluating the algorithm"
      ],
      "id": "yphp9gOLONG6"
    },
    {
      "cell_type": "code",
      "metadata": {
        "id": "better-young",
        "outputId": "78b498ea-36bd-487e-df68-a6afc4563b5f"
      },
      "source": [
        "from sklearn import metrics\n",
        "print('Mean Absolute Error:', metrics.mean_absolute_error(y_test, y_pred))\n",
        "print('Mean Squared Error:', metrics.mean_squared_error(y_test, y_pred))\n",
        "print('Root Mean Squared Error:', np.sqrt(metrics.mean_squared_error(y_test, y_pred)))"
      ],
      "id": "better-young",
      "execution_count": null,
      "outputs": [
        {
          "name": "stdout",
          "output_type": "stream",
          "text": [
            "Mean Absolute Error: 56.8222474789647\n",
            "Mean Squared Error: 4666.344787588362\n",
            "Root Mean Squared Error: 68.31064915215168\n"
          ]
        }
      ]
    },
    {
      "cell_type": "markdown",
      "metadata": {
        "id": "q2cQp-BSOWfl"
      },
      "source": [
        "###I.2.c) LASSO regression"
      ],
      "id": "q2cQp-BSOWfl"
    },
    {
      "cell_type": "code",
      "metadata": {
        "id": "figured-stick"
      },
      "source": [
        "from numpy import mean\n",
        "from numpy import std\n",
        "from numpy import absolute\n",
        "from sklearn import linear_model\n",
        "from sklearn.model_selection import cross_val_score #cross-validation\n",
        "from sklearn.model_selection import RepeatedKFold \n",
        "las_mod = linear_model.Lasso(alpha=0.1)\n",
        "cv = RepeatedKFold(n_splits=10, n_repeats=3, random_state=1)"
      ],
      "id": "figured-stick",
      "execution_count": null,
      "outputs": []
    },
    {
      "cell_type": "markdown",
      "metadata": {
        "id": "Umtfuk_XOfTG"
      },
      "source": [
        "Model evaluating"
      ],
      "id": "Umtfuk_XOfTG"
    },
    {
      "cell_type": "code",
      "metadata": {
        "id": "fiVN2rqBOmWO"
      },
      "source": [
        "scores = cross_val_score(las_mod, X, y, scoring='neg_mean_absolute_error', cv=cv, n_jobs=-1)"
      ],
      "id": "fiVN2rqBOmWO",
      "execution_count": null,
      "outputs": []
    },
    {
      "cell_type": "markdown",
      "metadata": {
        "id": "nDVDQvJ-Osoc"
      },
      "source": [
        "Forcing scores to be positive"
      ],
      "id": "nDVDQvJ-Osoc"
    },
    {
      "cell_type": "code",
      "metadata": {
        "id": "mjfeqj2aOqRY"
      },
      "source": [
        "scores = absolute(scores)\n",
        "print('Mean MAE: %.3f (%.3f)' % (mean(scores), std(scores)))"
      ],
      "id": "mjfeqj2aOqRY",
      "execution_count": null,
      "outputs": []
    },
    {
      "cell_type": "markdown",
      "metadata": {
        "id": "8d04Czn8O1iz"
      },
      "source": [
        "Predictions"
      ],
      "id": "8d04Czn8O1iz"
    },
    {
      "cell_type": "code",
      "metadata": {
        "id": "numerous-carnival"
      },
      "source": [
        "las_mod.fit(X,y)\n",
        "y_pred = las_mod.predict(X_test)\n",
        "df = pd.DataFrame({'Actual': y_test, 'Predicted': y_pred})\n",
        "df"
      ],
      "id": "numerous-carnival",
      "execution_count": null,
      "outputs": []
    },
    {
      "cell_type": "markdown",
      "metadata": {
        "id": "FjiO5-9OO7qa"
      },
      "source": [
        "###I.2.d) Bayesian regression"
      ],
      "id": "FjiO5-9OO7qa"
    },
    {
      "cell_type": "code",
      "metadata": {
        "id": "elder-access",
        "outputId": "a60e9288-734a-46d7-cd3b-f31d9cf3d4ad"
      },
      "source": [
        "from sklearn import linear_model\n",
        "reg = linear_model.BayesianRidge()\n",
        "reg.fit(X_train, y_train)"
      ],
      "id": "elder-access",
      "execution_count": null,
      "outputs": [
        {
          "data": {
            "text/plain": [
              "BayesianRidge()"
            ]
          },
          "execution_count": 17,
          "metadata": {},
          "output_type": "execute_result"
        }
      ]
    },
    {
      "cell_type": "code",
      "metadata": {
        "id": "9b65771b",
        "outputId": "97d9423c-9450-4a2a-f589-db03fd7cce52"
      },
      "source": [
        "y_pred=reg.predict(X_test)\n",
        "df = pd.DataFrame({'Actual': y_test, 'Predicted': y_pred})\n",
        "df"
      ],
      "id": "9b65771b",
      "execution_count": null,
      "outputs": [
        {
          "data": {
            "text/html": [
              "<div>\n",
              "<style scoped>\n",
              "    .dataframe tbody tr th:only-of-type {\n",
              "        vertical-align: middle;\n",
              "    }\n",
              "\n",
              "    .dataframe tbody tr th {\n",
              "        vertical-align: top;\n",
              "    }\n",
              "\n",
              "    .dataframe thead th {\n",
              "        text-align: right;\n",
              "    }\n",
              "</style>\n",
              "<table border=\"1\" class=\"dataframe\">\n",
              "  <thead>\n",
              "    <tr style=\"text-align: right;\">\n",
              "      <th></th>\n",
              "      <th>Actual</th>\n",
              "      <th>Predicted</th>\n",
              "    </tr>\n",
              "  </thead>\n",
              "  <tbody>\n",
              "    <tr>\n",
              "      <th>29</th>\n",
              "      <td>534</td>\n",
              "      <td>585.062425</td>\n",
              "    </tr>\n",
              "    <tr>\n",
              "      <th>4</th>\n",
              "      <td>410</td>\n",
              "      <td>587.408527</td>\n",
              "    </tr>\n",
              "    <tr>\n",
              "      <th>26</th>\n",
              "      <td>577</td>\n",
              "      <td>584.651325</td>\n",
              "    </tr>\n",
              "    <tr>\n",
              "      <th>30</th>\n",
              "      <td>571</td>\n",
              "      <td>583.586557</td>\n",
              "    </tr>\n",
              "    <tr>\n",
              "      <th>32</th>\n",
              "      <td>577</td>\n",
              "      <td>584.107828</td>\n",
              "    </tr>\n",
              "    <tr>\n",
              "      <th>37</th>\n",
              "      <td>704</td>\n",
              "      <td>583.800092</td>\n",
              "    </tr>\n",
              "    <tr>\n",
              "      <th>34</th>\n",
              "      <td>487</td>\n",
              "      <td>585.843638</td>\n",
              "    </tr>\n",
              "    <tr>\n",
              "      <th>40</th>\n",
              "      <td>587</td>\n",
              "      <td>584.665298</td>\n",
              "    </tr>\n",
              "    <tr>\n",
              "      <th>7</th>\n",
              "      <td>467</td>\n",
              "      <td>585.958829</td>\n",
              "    </tr>\n",
              "    <tr>\n",
              "      <th>10</th>\n",
              "      <td>580</td>\n",
              "      <td>583.852828</td>\n",
              "    </tr>\n",
              "  </tbody>\n",
              "</table>\n",
              "</div>"
            ],
            "text/plain": [
              "    Actual   Predicted\n",
              "29     534  585.062425\n",
              "4      410  587.408527\n",
              "26     577  584.651325\n",
              "30     571  583.586557\n",
              "32     577  584.107828\n",
              "37     704  583.800092\n",
              "34     487  585.843638\n",
              "40     587  584.665298\n",
              "7      467  585.958829\n",
              "10     580  583.852828"
            ]
          },
          "execution_count": 22,
          "metadata": {},
          "output_type": "execute_result"
        }
      ]
    },
    {
      "cell_type": "code",
      "metadata": {
        "id": "6567cfce",
        "outputId": "27d3dd2f-ea21-4e98-8774-a3ae7d1f3557"
      },
      "source": [
        "reg.coef_"
      ],
      "id": "6567cfce",
      "execution_count": null,
      "outputs": [
        {
          "data": {
            "text/plain": [
              "array([-1.42541297e-06, -4.76696938e-04, -6.46244178e-04,  1.27622938e-07])"
            ]
          },
          "execution_count": 19,
          "metadata": {},
          "output_type": "execute_result"
        }
      ]
    },
    {
      "cell_type": "markdown",
      "metadata": {
        "id": "Nrz2w8oTPHoo"
      },
      "source": [
        "##Source\n",
        "\n",
        "https://towardsdatascience.com/a-beginners-guide-to-text-classification-with-scikit-learn-632357e16f3a\n",
        "\n",
        "https://scikit-learn.org/stable/modules/linear_model.html\n",
        "\n",
        "https://stackabuse.com/linear-regression-in-python-with-scikit-learn\n",
        "\n",
        "https://machinelearningmastery.com/lasso-regression-with-python/"
      ],
      "id": "Nrz2w8oTPHoo"
    },
    {
      "cell_type": "code",
      "metadata": {
        "id": "010840a7"
      },
      "source": [
        ""
      ],
      "id": "010840a7",
      "execution_count": null,
      "outputs": []
    }
  ]
}